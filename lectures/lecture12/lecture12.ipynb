{
 "cells": [
  {
   "cell_type": "markdown",
   "metadata": {},
   "source": [
    "# Lecture 12: Working with tabular data using `R` and `tidyverse`\n",
    "\n",
    "Matthew Chan\n",
    "\n",
    "To interactively work with the code below, open [lecture12.ipynb](./lecture12.ipynb) in VSCode. Make sure to select the `kernel` for `R` so that you can execute `R` code. You should have already set this up following the software installation instructions [here](../../software/README.md)."
   ]
  },
  {
   "cell_type": "markdown",
   "metadata": {},
   "source": [
    "`R` is the second programming language after `Python` that we will learn in this course. We will use `R` over the next 5 lectures.\n",
    "\n",
    "`R` is particularly well suited for reading, manipulating, and visualizing data in tabular and biological sequence formats. \n",
    "Many statistical tests are also available out of the box in `R`."
   ]
  },
  {
   "cell_type": "markdown",
   "metadata": {},
   "source": [
    "While \"base\" `R` is used widely, I almost exclusively use `R` for its two excellent package collections:\n",
    "\n",
    "1. [Tidyverse](https://www.tidyverse.org/) - suited for tabular data\n",
    "2. [Bioconductor](https://www.bioconductor.org/) - suited for biology-aware analyses"
   ]
  },
  {
   "cell_type": "markdown",
   "metadata": {},
   "source": [
    "Today we will learn a few basic functions from `tidyverse` for working with tabular data.\n",
    "\n",
    "Unlike `pandas` which is a single package with lot of functionality, `tidyverse` is a collection of packages that are focused on specific tasks.\n",
    "\n",
    "1. [ggplot2](https://ggplot2.tidyverse.org/) - for plotting data\n",
    "2. [dplyr](https://dplyr.tidyverse.org/) - for filtering, aggregating, and transforming data\n",
    "3. [readr](https://readr.tidyverse.org/) - for reading and writing data\n",
    "4. [tidyr](https://tidyr.tidyverse.org/) - for cleaning and transforming data\n",
    "5. [stringr](https://stringr.tidyverse.org/) - for manipulating strings\n",
    "6. [purrr](https://purrr.tidyverse.org/) - for manipulating lists of R objects\n",
    "7. [forcats](https://forcats.tidyverse.org/) - for manipulating categorical data"
   ]
  },
  {
   "cell_type": "markdown",
   "metadata": {},
   "source": [
    "You can load all the above packages in one go:"
   ]
  },
  {
   "cell_type": "code",
   "execution_count": 2,
   "metadata": {
    "vscode": {
     "languageId": "r"
    }
   },
   "outputs": [],
   "source": [
    "library(tidyverse)"
   ]
  },
  {
   "cell_type": "code",
   "execution_count": 4,
   "metadata": {
    "vscode": {
     "languageId": "r"
    }
   },
   "outputs": [
    {
     "data": {
      "text/html": [
       "12"
      ],
      "text/latex": [
       "12"
      ],
      "text/markdown": [
       "12"
      ],
      "text/plain": [
       "[1] 12"
      ]
     },
     "metadata": {},
     "output_type": "display_data"
    }
   ],
   "source": [
    "##assigning variables\n",
    "apple = 5\n",
    "pear = 7 \n",
    "apple + pear "
   ]
  },
  {
   "cell_type": "markdown",
   "metadata": {},
   "source": [
    "## Reading data\n",
    "\n",
    "Various options for reading and writing data are in package [`readr`](https://readr.tidyverse.org/)."
   ]
  },
  {
   "cell_type": "code",
   "execution_count": 7,
   "metadata": {
    "vscode": {
     "languageId": "r"
    }
   },
   "outputs": [
    {
     "name": "stderr",
     "output_type": "stream",
     "text": [
      "\u001b[1mRows: \u001b[22m\u001b[34m16\u001b[39m \u001b[1mColumns: \u001b[22m\u001b[34m7\u001b[39m\n",
      "\u001b[36m──\u001b[39m \u001b[1mColumn specification\u001b[22m \u001b[36m────────────────────────────────────────────────────────\u001b[39m\n",
      "\u001b[1mDelimiter:\u001b[22m \"\\t\"\n",
      "\u001b[31mchr\u001b[39m (3): strain, insert_sequence, kozak_region\n",
      "\u001b[32mdbl\u001b[39m (4): mean_yfp, mean_rfp, mean_ratio, se_ratio\n",
      "\n",
      "\u001b[36mℹ\u001b[39m Use `spec()` to retrieve the full column specification for this data.\n",
      "\u001b[36mℹ\u001b[39m Specify the column types or set `show_col_types = FALSE` to quiet this message.\n"
     ]
    },
    {
     "data": {
      "text/html": [
       "<table class=\"dataframe\">\n",
       "<caption>A spec_tbl_df: 16 × 7</caption>\n",
       "<thead>\n",
       "\t<tr><th scope=col>strain</th><th scope=col>mean_yfp</th><th scope=col>mean_rfp</th><th scope=col>mean_ratio</th><th scope=col>se_ratio</th><th scope=col>insert_sequence</th><th scope=col>kozak_region</th></tr>\n",
       "\t<tr><th scope=col>&lt;chr&gt;</th><th scope=col>&lt;dbl&gt;</th><th scope=col>&lt;dbl&gt;</th><th scope=col>&lt;dbl&gt;</th><th scope=col>&lt;dbl&gt;</th><th scope=col>&lt;chr&gt;</th><th scope=col>&lt;chr&gt;</th></tr>\n",
       "</thead>\n",
       "<tbody>\n",
       "\t<tr><td>schp688</td><td>1748</td><td>20754</td><td>0.755</td><td>0.066</td><td>10×AGA</td><td>A</td></tr>\n",
       "\t<tr><td>schp684</td><td>3294</td><td>20585</td><td>1.437</td><td>0.021</td><td>10×AGA</td><td>B</td></tr>\n",
       "\t<tr><td>schp690</td><td>3535</td><td>20593</td><td>1.541</td><td>0.018</td><td>10×AGA</td><td>C</td></tr>\n",
       "\t<tr><td>schp687</td><td>4658</td><td>20860</td><td>2.004</td><td>0.021</td><td>10×AGA</td><td>D</td></tr>\n",
       "\t<tr><td>schp686</td><td>5000</td><td>21171</td><td>2.121</td><td>0.023</td><td>10×AGA</td><td>E</td></tr>\n",
       "\t<tr><td>schp685</td><td>7379</td><td>22956</td><td>2.893</td><td>0.050</td><td>10×AGA</td><td>F</td></tr>\n",
       "\t<tr><td>schp683</td><td>9365</td><td>23866</td><td>3.522</td><td>0.110</td><td>10×AGA</td><td>G</td></tr>\n",
       "\t<tr><td>schp689</td><td>8693</td><td>22649</td><td>3.424</td><td>0.125</td><td>10×AGA</td><td>H</td></tr>\n",
       "\t<tr><td>schp679</td><td>2528</td><td>19906</td><td>1.149</td><td>0.056</td><td>10×AAG</td><td>A</td></tr>\n",
       "\t<tr><td>schp675</td><td>3687</td><td>20438</td><td>1.621</td><td>0.036</td><td>10×AAG</td><td>B</td></tr>\n",
       "\t<tr><td>schp681</td><td>3705</td><td>20227</td><td>1.645</td><td>0.021</td><td>10×AAG</td><td>C</td></tr>\n",
       "\t<tr><td>schp678</td><td>4378</td><td>20630</td><td>1.906</td><td>0.010</td><td>10×AAG</td><td>D</td></tr>\n",
       "\t<tr><td>schp677</td><td>3967</td><td>20604</td><td>1.728</td><td>0.030</td><td>10×AAG</td><td>E</td></tr>\n",
       "\t<tr><td>schp676</td><td>2657</td><td>20223</td><td>1.177</td><td>0.048</td><td>10×AAG</td><td>F</td></tr>\n",
       "\t<tr><td>schp674</td><td>1270</td><td>20316</td><td>0.561</td><td>0.004</td><td>10×AAG</td><td>G</td></tr>\n",
       "\t<tr><td>schp680</td><td>1117</td><td>19377</td><td>0.519</td><td>0.010</td><td>10×AAG</td><td>H</td></tr>\n",
       "</tbody>\n",
       "</table>\n"
      ],
      "text/latex": [
       "A spec\\_tbl\\_df: 16 × 7\n",
       "\\begin{tabular}{lllllll}\n",
       " strain & mean\\_yfp & mean\\_rfp & mean\\_ratio & se\\_ratio & insert\\_sequence & kozak\\_region\\\\\n",
       " <chr> & <dbl> & <dbl> & <dbl> & <dbl> & <chr> & <chr>\\\\\n",
       "\\hline\n",
       "\t schp688 & 1748 & 20754 & 0.755 & 0.066 & 10×AGA & A\\\\\n",
       "\t schp684 & 3294 & 20585 & 1.437 & 0.021 & 10×AGA & B\\\\\n",
       "\t schp690 & 3535 & 20593 & 1.541 & 0.018 & 10×AGA & C\\\\\n",
       "\t schp687 & 4658 & 20860 & 2.004 & 0.021 & 10×AGA & D\\\\\n",
       "\t schp686 & 5000 & 21171 & 2.121 & 0.023 & 10×AGA & E\\\\\n",
       "\t schp685 & 7379 & 22956 & 2.893 & 0.050 & 10×AGA & F\\\\\n",
       "\t schp683 & 9365 & 23866 & 3.522 & 0.110 & 10×AGA & G\\\\\n",
       "\t schp689 & 8693 & 22649 & 3.424 & 0.125 & 10×AGA & H\\\\\n",
       "\t schp679 & 2528 & 19906 & 1.149 & 0.056 & 10×AAG & A\\\\\n",
       "\t schp675 & 3687 & 20438 & 1.621 & 0.036 & 10×AAG & B\\\\\n",
       "\t schp681 & 3705 & 20227 & 1.645 & 0.021 & 10×AAG & C\\\\\n",
       "\t schp678 & 4378 & 20630 & 1.906 & 0.010 & 10×AAG & D\\\\\n",
       "\t schp677 & 3967 & 20604 & 1.728 & 0.030 & 10×AAG & E\\\\\n",
       "\t schp676 & 2657 & 20223 & 1.177 & 0.048 & 10×AAG & F\\\\\n",
       "\t schp674 & 1270 & 20316 & 0.561 & 0.004 & 10×AAG & G\\\\\n",
       "\t schp680 & 1117 & 19377 & 0.519 & 0.010 & 10×AAG & H\\\\\n",
       "\\end{tabular}\n"
      ],
      "text/markdown": [
       "\n",
       "A spec_tbl_df: 16 × 7\n",
       "\n",
       "| strain &lt;chr&gt; | mean_yfp &lt;dbl&gt; | mean_rfp &lt;dbl&gt; | mean_ratio &lt;dbl&gt; | se_ratio &lt;dbl&gt; | insert_sequence &lt;chr&gt; | kozak_region &lt;chr&gt; |\n",
       "|---|---|---|---|---|---|---|\n",
       "| schp688 | 1748 | 20754 | 0.755 | 0.066 | 10×AGA | A |\n",
       "| schp684 | 3294 | 20585 | 1.437 | 0.021 | 10×AGA | B |\n",
       "| schp690 | 3535 | 20593 | 1.541 | 0.018 | 10×AGA | C |\n",
       "| schp687 | 4658 | 20860 | 2.004 | 0.021 | 10×AGA | D |\n",
       "| schp686 | 5000 | 21171 | 2.121 | 0.023 | 10×AGA | E |\n",
       "| schp685 | 7379 | 22956 | 2.893 | 0.050 | 10×AGA | F |\n",
       "| schp683 | 9365 | 23866 | 3.522 | 0.110 | 10×AGA | G |\n",
       "| schp689 | 8693 | 22649 | 3.424 | 0.125 | 10×AGA | H |\n",
       "| schp679 | 2528 | 19906 | 1.149 | 0.056 | 10×AAG | A |\n",
       "| schp675 | 3687 | 20438 | 1.621 | 0.036 | 10×AAG | B |\n",
       "| schp681 | 3705 | 20227 | 1.645 | 0.021 | 10×AAG | C |\n",
       "| schp678 | 4378 | 20630 | 1.906 | 0.010 | 10×AAG | D |\n",
       "| schp677 | 3967 | 20604 | 1.728 | 0.030 | 10×AAG | E |\n",
       "| schp676 | 2657 | 20223 | 1.177 | 0.048 | 10×AAG | F |\n",
       "| schp674 | 1270 | 20316 | 0.561 | 0.004 | 10×AAG | G |\n",
       "| schp680 | 1117 | 19377 | 0.519 | 0.010 | 10×AAG | H |\n",
       "\n"
      ],
      "text/plain": [
       "   strain  mean_yfp mean_rfp mean_ratio se_ratio insert_sequence kozak_region\n",
       "1  schp688 1748     20754    0.755      0.066    10×AGA          A           \n",
       "2  schp684 3294     20585    1.437      0.021    10×AGA          B           \n",
       "3  schp690 3535     20593    1.541      0.018    10×AGA          C           \n",
       "4  schp687 4658     20860    2.004      0.021    10×AGA          D           \n",
       "5  schp686 5000     21171    2.121      0.023    10×AGA          E           \n",
       "6  schp685 7379     22956    2.893      0.050    10×AGA          F           \n",
       "7  schp683 9365     23866    3.522      0.110    10×AGA          G           \n",
       "8  schp689 8693     22649    3.424      0.125    10×AGA          H           \n",
       "9  schp679 2528     19906    1.149      0.056    10×AAG          A           \n",
       "10 schp675 3687     20438    1.621      0.036    10×AAG          B           \n",
       "11 schp681 3705     20227    1.645      0.021    10×AAG          C           \n",
       "12 schp678 4378     20630    1.906      0.010    10×AAG          D           \n",
       "13 schp677 3967     20604    1.728      0.030    10×AAG          E           \n",
       "14 schp676 2657     20223    1.177      0.048    10×AAG          F           \n",
       "15 schp674 1270     20316    0.561      0.004    10×AAG          G           \n",
       "16 schp680 1117     19377    0.519      0.010    10×AAG          H           "
      ]
     },
     "metadata": {},
     "output_type": "display_data"
    }
   ],
   "source": [
    "data <- read_tsv(\"data/example_dataset_1.tsv\")\n",
    "\n",
    "data"
   ]
  },
  {
   "cell_type": "code",
   "execution_count": 11,
   "metadata": {
    "vscode": {
     "languageId": "r"
    }
   },
   "outputs": [
    {
     "data": {
      "text/html": [
       "<style>\n",
       ".list-inline {list-style: none; margin:0; padding: 0}\n",
       ".list-inline>li {display: inline-block}\n",
       ".list-inline>li:not(:last-child)::after {content: \"\\00b7\"; padding: 0 .5ex}\n",
       "</style>\n",
       "<ol class=list-inline><li>16</li><li>7</li></ol>\n"
      ],
      "text/latex": [
       "\\begin{enumerate*}\n",
       "\\item 16\n",
       "\\item 7\n",
       "\\end{enumerate*}\n"
      ],
      "text/markdown": [
       "1. 16\n",
       "2. 7\n",
       "\n",
       "\n"
      ],
      "text/plain": [
       "[1] 16  7"
      ]
     },
     "metadata": {},
     "output_type": "display_data"
    },
    {
     "data": {
      "text/plain": [
       "    strain             mean_yfp       mean_rfp       mean_ratio   \n",
       " Length:16          Min.   :1117   Min.   :19377   Min.   :0.519  \n",
       " Class :character   1st Qu.:2625   1st Qu.:20294   1st Qu.:1.170  \n",
       " Mode  :character   Median :3696   Median :20598   Median :1.633  \n",
       "                    Mean   :4186   Mean   :20947   Mean   :1.750  \n",
       "                    3rd Qu.:4744   3rd Qu.:20938   3rd Qu.:2.033  \n",
       "                    Max.   :9365   Max.   :23866   Max.   :3.522  \n",
       "    se_ratio       insert_sequence    kozak_region      \n",
       " Min.   :0.00400   Length:16          Length:16         \n",
       " 1st Qu.:0.02025   Class :character   Class :character  \n",
       " Median :0.02650   Mode  :character   Mode  :character  \n",
       " Mean   :0.04056                                        \n",
       " 3rd Qu.:0.05150                                        \n",
       " Max.   :0.12500                                        "
      ]
     },
     "metadata": {},
     "output_type": "display_data"
    },
    {
     "data": {
      "text/html": [
       "<table class=\"dataframe\">\n",
       "<caption>A spec_tbl_df: 16 × 7</caption>\n",
       "<thead>\n",
       "\t<tr><th scope=col>strain</th><th scope=col>mean_yfp</th><th scope=col>mean_rfp</th><th scope=col>mean_ratio</th><th scope=col>se_ratio</th><th scope=col>insert_sequence</th><th scope=col>kozak_region</th></tr>\n",
       "\t<tr><th scope=col>&lt;chr&gt;</th><th scope=col>&lt;dbl&gt;</th><th scope=col>&lt;dbl&gt;</th><th scope=col>&lt;dbl&gt;</th><th scope=col>&lt;dbl&gt;</th><th scope=col>&lt;chr&gt;</th><th scope=col>&lt;chr&gt;</th></tr>\n",
       "</thead>\n",
       "<tbody>\n",
       "\t<tr><td>schp688</td><td>1748</td><td>20754</td><td>0.755</td><td>0.066</td><td>10×AGA</td><td>A</td></tr>\n",
       "\t<tr><td>schp684</td><td>3294</td><td>20585</td><td>1.437</td><td>0.021</td><td>10×AGA</td><td>B</td></tr>\n",
       "\t<tr><td>schp690</td><td>3535</td><td>20593</td><td>1.541</td><td>0.018</td><td>10×AGA</td><td>C</td></tr>\n",
       "\t<tr><td>schp687</td><td>4658</td><td>20860</td><td>2.004</td><td>0.021</td><td>10×AGA</td><td>D</td></tr>\n",
       "\t<tr><td>schp686</td><td>5000</td><td>21171</td><td>2.121</td><td>0.023</td><td>10×AGA</td><td>E</td></tr>\n",
       "\t<tr><td>schp685</td><td>7379</td><td>22956</td><td>2.893</td><td>0.050</td><td>10×AGA</td><td>F</td></tr>\n",
       "\t<tr><td>schp683</td><td>9365</td><td>23866</td><td>3.522</td><td>0.110</td><td>10×AGA</td><td>G</td></tr>\n",
       "\t<tr><td>schp689</td><td>8693</td><td>22649</td><td>3.424</td><td>0.125</td><td>10×AGA</td><td>H</td></tr>\n",
       "\t<tr><td>schp679</td><td>2528</td><td>19906</td><td>1.149</td><td>0.056</td><td>10×AAG</td><td>A</td></tr>\n",
       "\t<tr><td>schp675</td><td>3687</td><td>20438</td><td>1.621</td><td>0.036</td><td>10×AAG</td><td>B</td></tr>\n",
       "\t<tr><td>schp681</td><td>3705</td><td>20227</td><td>1.645</td><td>0.021</td><td>10×AAG</td><td>C</td></tr>\n",
       "\t<tr><td>schp678</td><td>4378</td><td>20630</td><td>1.906</td><td>0.010</td><td>10×AAG</td><td>D</td></tr>\n",
       "\t<tr><td>schp677</td><td>3967</td><td>20604</td><td>1.728</td><td>0.030</td><td>10×AAG</td><td>E</td></tr>\n",
       "\t<tr><td>schp676</td><td>2657</td><td>20223</td><td>1.177</td><td>0.048</td><td>10×AAG</td><td>F</td></tr>\n",
       "\t<tr><td>schp674</td><td>1270</td><td>20316</td><td>0.561</td><td>0.004</td><td>10×AAG</td><td>G</td></tr>\n",
       "\t<tr><td>schp680</td><td>1117</td><td>19377</td><td>0.519</td><td>0.010</td><td>10×AAG</td><td>H</td></tr>\n",
       "</tbody>\n",
       "</table>\n"
      ],
      "text/latex": [
       "A spec\\_tbl\\_df: 16 × 7\n",
       "\\begin{tabular}{lllllll}\n",
       " strain & mean\\_yfp & mean\\_rfp & mean\\_ratio & se\\_ratio & insert\\_sequence & kozak\\_region\\\\\n",
       " <chr> & <dbl> & <dbl> & <dbl> & <dbl> & <chr> & <chr>\\\\\n",
       "\\hline\n",
       "\t schp688 & 1748 & 20754 & 0.755 & 0.066 & 10×AGA & A\\\\\n",
       "\t schp684 & 3294 & 20585 & 1.437 & 0.021 & 10×AGA & B\\\\\n",
       "\t schp690 & 3535 & 20593 & 1.541 & 0.018 & 10×AGA & C\\\\\n",
       "\t schp687 & 4658 & 20860 & 2.004 & 0.021 & 10×AGA & D\\\\\n",
       "\t schp686 & 5000 & 21171 & 2.121 & 0.023 & 10×AGA & E\\\\\n",
       "\t schp685 & 7379 & 22956 & 2.893 & 0.050 & 10×AGA & F\\\\\n",
       "\t schp683 & 9365 & 23866 & 3.522 & 0.110 & 10×AGA & G\\\\\n",
       "\t schp689 & 8693 & 22649 & 3.424 & 0.125 & 10×AGA & H\\\\\n",
       "\t schp679 & 2528 & 19906 & 1.149 & 0.056 & 10×AAG & A\\\\\n",
       "\t schp675 & 3687 & 20438 & 1.621 & 0.036 & 10×AAG & B\\\\\n",
       "\t schp681 & 3705 & 20227 & 1.645 & 0.021 & 10×AAG & C\\\\\n",
       "\t schp678 & 4378 & 20630 & 1.906 & 0.010 & 10×AAG & D\\\\\n",
       "\t schp677 & 3967 & 20604 & 1.728 & 0.030 & 10×AAG & E\\\\\n",
       "\t schp676 & 2657 & 20223 & 1.177 & 0.048 & 10×AAG & F\\\\\n",
       "\t schp674 & 1270 & 20316 & 0.561 & 0.004 & 10×AAG & G\\\\\n",
       "\t schp680 & 1117 & 19377 & 0.519 & 0.010 & 10×AAG & H\\\\\n",
       "\\end{tabular}\n"
      ],
      "text/markdown": [
       "\n",
       "A spec_tbl_df: 16 × 7\n",
       "\n",
       "| strain &lt;chr&gt; | mean_yfp &lt;dbl&gt; | mean_rfp &lt;dbl&gt; | mean_ratio &lt;dbl&gt; | se_ratio &lt;dbl&gt; | insert_sequence &lt;chr&gt; | kozak_region &lt;chr&gt; |\n",
       "|---|---|---|---|---|---|---|\n",
       "| schp688 | 1748 | 20754 | 0.755 | 0.066 | 10×AGA | A |\n",
       "| schp684 | 3294 | 20585 | 1.437 | 0.021 | 10×AGA | B |\n",
       "| schp690 | 3535 | 20593 | 1.541 | 0.018 | 10×AGA | C |\n",
       "| schp687 | 4658 | 20860 | 2.004 | 0.021 | 10×AGA | D |\n",
       "| schp686 | 5000 | 21171 | 2.121 | 0.023 | 10×AGA | E |\n",
       "| schp685 | 7379 | 22956 | 2.893 | 0.050 | 10×AGA | F |\n",
       "| schp683 | 9365 | 23866 | 3.522 | 0.110 | 10×AGA | G |\n",
       "| schp689 | 8693 | 22649 | 3.424 | 0.125 | 10×AGA | H |\n",
       "| schp679 | 2528 | 19906 | 1.149 | 0.056 | 10×AAG | A |\n",
       "| schp675 | 3687 | 20438 | 1.621 | 0.036 | 10×AAG | B |\n",
       "| schp681 | 3705 | 20227 | 1.645 | 0.021 | 10×AAG | C |\n",
       "| schp678 | 4378 | 20630 | 1.906 | 0.010 | 10×AAG | D |\n",
       "| schp677 | 3967 | 20604 | 1.728 | 0.030 | 10×AAG | E |\n",
       "| schp676 | 2657 | 20223 | 1.177 | 0.048 | 10×AAG | F |\n",
       "| schp674 | 1270 | 20316 | 0.561 | 0.004 | 10×AAG | G |\n",
       "| schp680 | 1117 | 19377 | 0.519 | 0.010 | 10×AAG | H |\n",
       "\n"
      ],
      "text/plain": [
       "   strain  mean_yfp mean_rfp mean_ratio se_ratio insert_sequence kozak_region\n",
       "1  schp688 1748     20754    0.755      0.066    10×AGA          A           \n",
       "2  schp684 3294     20585    1.437      0.021    10×AGA          B           \n",
       "3  schp690 3535     20593    1.541      0.018    10×AGA          C           \n",
       "4  schp687 4658     20860    2.004      0.021    10×AGA          D           \n",
       "5  schp686 5000     21171    2.121      0.023    10×AGA          E           \n",
       "6  schp685 7379     22956    2.893      0.050    10×AGA          F           \n",
       "7  schp683 9365     23866    3.522      0.110    10×AGA          G           \n",
       "8  schp689 8693     22649    3.424      0.125    10×AGA          H           \n",
       "9  schp679 2528     19906    1.149      0.056    10×AAG          A           \n",
       "10 schp675 3687     20438    1.621      0.036    10×AAG          B           \n",
       "11 schp681 3705     20227    1.645      0.021    10×AAG          C           \n",
       "12 schp678 4378     20630    1.906      0.010    10×AAG          D           \n",
       "13 schp677 3967     20604    1.728      0.030    10×AAG          E           \n",
       "14 schp676 2657     20223    1.177      0.048    10×AAG          F           \n",
       "15 schp674 1270     20316    0.561      0.004    10×AAG          G           \n",
       "16 schp680 1117     19377    0.519      0.010    10×AAG          H           "
      ]
     },
     "metadata": {},
     "output_type": "display_data"
    }
   ],
   "source": [
    "##dimensions\n",
    "dim(data)\n",
    "##statistics\n",
    "summary(data)\n",
    "#View\n",
    "View(data)\n"
   ]
  },
  {
   "cell_type": "code",
   "execution_count": 8,
   "metadata": {
    "vscode": {
     "languageId": "r"
    }
   },
   "outputs": [
    {
     "ename": "ERROR",
     "evalue": "Error: 'data/penguins.csv' does not exist in current working directory ('/workspaces/tfcb_2024_1/lectures/lecture12').\n",
     "output_type": "error",
     "traceback": [
      "Error: 'data/penguins.csv' does not exist in current working directory ('/workspaces/tfcb_2024_1/lectures/lecture12').\nTraceback:\n",
      "1. read_csv(\"data/penguins.csv\")",
      "2. vroom::vroom(file, delim = \",\", col_names = col_names, col_types = col_types, \n .     col_select = {\n .         {\n .             col_select\n .         }\n .     }, id = id, .name_repair = name_repair, skip = skip, n_max = n_max, \n .     na = na, quote = quote, comment = comment, skip_empty_rows = skip_empty_rows, \n .     trim_ws = trim_ws, escape_double = TRUE, escape_backslash = FALSE, \n .     locale = locale, guess_max = guess_max, show_col_types = show_col_types, \n .     progress = progress, altrep = lazy, num_threads = num_threads)",
      "3. vroom_(file, delim = delim %||% col_types$delim, col_names = col_names, \n .     col_types = col_types, id = id, skip = skip, col_select = col_select, \n .     name_repair = .name_repair, na = na, quote = quote, trim_ws = trim_ws, \n .     escape_double = escape_double, escape_backslash = escape_backslash, \n .     comment = comment, skip_empty_rows = skip_empty_rows, locale = locale, \n .     guess_max = guess_max, n_max = n_max, altrep = vroom_altrep(altrep), \n .     num_threads = num_threads, progress = progress)",
      "4. (function (path, write = FALSE) \n . {\n .     if (is.raw(path)) {\n .         return(rawConnection(path, \"rb\"))\n .     }\n .     if (!is.character(path)) {\n .         return(path)\n .     }\n .     if (is_url(path)) {\n .         if (requireNamespace(\"curl\", quietly = TRUE)) {\n .             con <- curl::curl(path)\n .         }\n .         else {\n .             rlang::inform(\"`curl` package not installed, falling back to using `url()`\")\n .             con <- url(path)\n .         }\n .         ext <- tolower(tools::file_ext(path))\n .         return(switch(ext, zip = , bz2 = , xz = {\n .             close(con)\n .             stop(\"Reading from remote `\", ext, \"` compressed files is not supported,\\n\", \n .                 \"  download the files locally first.\", call. = FALSE)\n .         }, gz = gzcon(con), con))\n .     }\n .     p <- split_path_ext(basename(path))\n .     if (write) {\n .         path <- normalizePath(path, mustWork = FALSE)\n .     }\n .     else {\n .         path <- check_path(path)\n .     }\n .     if (rlang::is_installed(\"archive\")) {\n .         formats <- archive_formats(p$extension)\n .         extension <- p$extension\n .         while (is.null(formats) && nzchar(extension)) {\n .             extension <- split_path_ext(extension)$extension\n .             formats <- archive_formats(extension)\n .         }\n .         if (!is.null(formats)) {\n .             p$extension <- extension\n .             if (write) {\n .                 if (is.null(formats[[1]])) {\n .                   return(archive::file_write(path, filter = formats[[2]]))\n .                 }\n .                 return(archive::archive_write(path, p$path, format = formats[[1]], \n .                   filter = formats[[2]]))\n .             }\n .             if (is.null(formats[[1]])) {\n .                 return(archive::file_read(path, filter = formats[[2]]))\n .             }\n .             return(archive::archive_read(path, format = formats[[1]], \n .                 filter = formats[[2]]))\n .         }\n .     }\n .     if (!write) {\n .         compression <- detect_compression(path)\n .     }\n .     else {\n .         compression <- NA\n .     }\n .     if (is.na(compression)) {\n .         compression <- tools::file_ext(path)\n .     }\n .     if (write && compression == \"zip\") {\n .         stop(\"Can only read from, not write to, .zip\", call. = FALSE)\n .     }\n .     switch(compression, gz = gzfile(path, \"\"), bz2 = bzfile(path, \n .         \"\"), xz = xzfile(path, \"\"), zip = zipfile(path, \"\"), \n .         if (!has_trailing_newline(path)) {\n .             file(path)\n .         } else {\n .             path\n .         })\n . })(\"data/penguins.csv\")",
      "5. check_path(path)",
      "6. stop(\"'\", path, \"' does not exist\", if (!is_absolute_path(path)) {\n .     paste0(\" in current working directory ('\", getwd(), \"')\")\n . }, \".\", call. = FALSE)"
     ]
    }
   ],
   "source": [
    "data1 <- read_csv(\"data/penguins.csv\")\n",
    "data1"
   ]
  },
  {
   "cell_type": "markdown",
   "metadata": {},
   "source": [
    "The tabular data structure is called a `tibble` in `tidyverse`, and is a souped-up version of the [data.frame](https://en.wikipedia.org/wiki/Data_frame) R data structure with additional nice features.\n",
    "\n",
    "The ` <- ` assignment operator is equivalent to the ` = ` assignment operator and can be used interchangeably. However, using the ` <- ` operator is more conventional."
   ]
  },
  {
   "cell_type": "markdown",
   "metadata": {},
   "source": [
    "## Plotting data"
   ]
  },
  {
   "cell_type": "code",
   "execution_count": 20,
   "metadata": {
    "vscode": {
     "languageId": "r"
    }
   },
   "outputs": [
    {
     "data": {
      "text/html": [
       "<style>\n",
       ".list-inline {list-style: none; margin:0; padding: 0}\n",
       ".list-inline>li {display: inline-block}\n",
       ".list-inline>li:not(:last-child)::after {content: \"\\00b7\"; padding: 0 .5ex}\n",
       "</style>\n",
       "<ol class=list-inline><li>'strain'</li><li>'mean_yfp'</li><li>'mean_rfp'</li><li>'mean_ratio'</li><li>'se_ratio'</li><li>'insert_sequence'</li><li>'kozak_region'</li></ol>\n"
      ],
      "text/latex": [
       "\\begin{enumerate*}\n",
       "\\item 'strain'\n",
       "\\item 'mean\\_yfp'\n",
       "\\item 'mean\\_rfp'\n",
       "\\item 'mean\\_ratio'\n",
       "\\item 'se\\_ratio'\n",
       "\\item 'insert\\_sequence'\n",
       "\\item 'kozak\\_region'\n",
       "\\end{enumerate*}\n"
      ],
      "text/markdown": [
       "1. 'strain'\n",
       "2. 'mean_yfp'\n",
       "3. 'mean_rfp'\n",
       "4. 'mean_ratio'\n",
       "5. 'se_ratio'\n",
       "6. 'insert_sequence'\n",
       "7. 'kozak_region'\n",
       "\n",
       "\n"
      ],
      "text/plain": [
       "[1] \"strain\"          \"mean_yfp\"        \"mean_rfp\"        \"mean_ratio\"     \n",
       "[5] \"se_ratio\"        \"insert_sequence\" \"kozak_region\"   "
      ]
     },
     "metadata": {},
     "output_type": "display_data"
    }
   ],
   "source": [
    "colnames(data)"
   ]
  },
  {
   "cell_type": "code",
   "execution_count": 21,
   "metadata": {
    "vscode": {
     "languageId": "r"
    }
   },
   "outputs": [
    {
     "data": {
      "image/png": "[encoded data removed]",
      "text/plain": [
       "plot without title"
      ]
     },
     "metadata": {
      "image/png": {
       "height": 180,
       "width": 300
      }
     },
     "output_type": "display_data"
    }
   ],
   "source": [
    "ggplot(data) + aes(x = kozak_region, y = mean_ratio) +\n",
    "  geom_point() \n",
    "\n"
   ]
  },
  {
   "cell_type": "markdown",
   "metadata": {},
   "source": [
    "**Anatomy of a `ggplot2` plot: \n",
    "\n",
    "`ggplot(tibble) + aes(x = x_axis) + geom_plot_type() + layers...`\n",
    "\n",
    " - Begins with `ggplot` function with a `tibble` argument as the first argument.\n",
    " - `aes` specifies the variables to plot.\n",
    " - `geom` specifies the type of plot.\n",
    " - `+` adds additional `layers` to the plot.\n",
    "\n",
    "\n",
    "**Key differences with `Python`**\n",
    "  - No need to specify variables within quotes.\n",
    "  - Indentation convention is different."
   ]
  },
  {
   "cell_type": "markdown",
   "metadata": {},
   "source": [
    "## Change size of plot globally"
   ]
  },
  {
   "cell_type": "code",
   "execution_count": 19,
   "metadata": {
    "vscode": {
     "languageId": "r"
    }
   },
   "outputs": [],
   "source": [
    "options(repr.plot.width = 5, repr.plot.height = 3)"
   ]
  },
  {
   "cell_type": "markdown",
   "metadata": {},
   "source": [
    "## How do we show multiple experimental variables?\n"
   ]
  },
  {
   "cell_type": "markdown",
   "metadata": {},
   "source": [
    "Plotting a point graph with color"
   ]
  },
  {
   "cell_type": "code",
   "execution_count": 22,
   "metadata": {
    "vscode": {
     "languageId": "r"
    }
   },
   "outputs": [
    {
     "data": {
      "image/png": "[encoded data removed]",
      "text/plain": [
       "plot without title"
      ]
     },
     "metadata": {
      "image/png": {
       "height": 180,
       "width": 300
      }
     },
     "output_type": "display_data"
    }
   ],
   "source": [
    "ggplot(data, aes(x = kozak_region,\n",
    "                 y = mean_ratio,\n",
    "                 color = insert_sequence)) +\n",
    "  geom_point()"
   ]
  },
  {
   "cell_type": "markdown",
   "metadata": {},
   "source": [
    "Plotting a line graph"
   ]
  },
  {
   "cell_type": "code",
   "execution_count": 23,
   "metadata": {
    "vscode": {
     "languageId": "r"
    }
   },
   "outputs": [
    {
     "data": {
      "image/png": "[encoded data removed]",
      "text/plain": [
       "plot without title"
      ]
     },
     "metadata": {
      "image/png": {
       "height": 180,
       "width": 300
      }
     },
     "output_type": "display_data"
    }
   ],
   "source": [
    "ggplot(data, aes(x = kozak_region,\n",
    "                 y = mean_ratio,\n",
    "                 color = insert_sequence,\n",
    "                 group = insert_sequence)) +\n",
    "  geom_line()"
   ]
  },
  {
   "cell_type": "markdown",
   "metadata": {},
   "source": [
    "Plotting point and line graphs"
   ]
  },
  {
   "cell_type": "code",
   "execution_count": 24,
   "metadata": {
    "vscode": {
     "languageId": "r"
    }
   },
   "outputs": [
    {
     "data": {
      "image/png": "[encoded data removed]",
      "text/plain": [
       "plot without title"
      ]
     },
     "metadata": {
      "image/png": {
       "height": 180,
       "width": 300
      }
     },
     "output_type": "display_data"
    }
   ],
   "source": [
    "ggplot(data, aes(x = kozak_region,\n",
    "                 y = mean_ratio,\n",
    "                 color = insert_sequence,\n",
    "                 group = insert_sequence)) +\n",
    "  geom_line() +\n",
    "  geom_point()"
   ]
  },
  {
   "cell_type": "markdown",
   "metadata": {},
   "source": [
    "## ‘Faceting’ – Plotting in multiple panels"
   ]
  },
  {
   "cell_type": "code",
   "execution_count": 32,
   "metadata": {
    "vscode": {
     "languageId": "r"
    }
   },
   "outputs": [
    {
     "data": {
      "image/png": "[encoded data removed]",
      "text/plain": [
       "plot without title"
      ]
     },
     "metadata": {
      "image/png": {
       "height": 240,
       "width": 480
      }
     },
     "output_type": "display_data"
    }
   ],
   "source": [
    "options(repr.plot.width = 8, repr.plot.height = 4)\n",
    "\n",
    "ggplot(data, aes(x = kozak_region,\n",
    "                 y = mean_ratio,\n",
    "                 group = insert_sequence,\n",
    "                 color = insert_sequence)) +\n",
    "                 \n",
    "  geom_line() +\n",
    "  geom_point() +\n",
    "  facet_grid(~ insert_sequence)"
   ]
  },
  {
   "cell_type": "markdown",
   "metadata": {},
   "source": [
    "# In-class `ggplot2` exercises\n",
    "\n",
    "(20 min)"
   ]
  },
  {
   "cell_type": "markdown",
   "metadata": {},
   "source": [
    "## 1. Make X, Y, legend labels into nice strings\n",
    "\n",
    "See https://ggplot2.tidyverse.org/reference/labs.html"
   ]
  },
  {
   "cell_type": "code",
   "execution_count": 58,
   "metadata": {
    "vscode": {
     "languageId": "r"
    }
   },
   "outputs": [
    {
     "data": {
      "image/png": "[encoded data removed]",
      "text/plain": [
       "plot without title"
      ]
     },
     "metadata": {
      "image/png": {
       "height": 240,
       "width": 480
      }
     },
     "output_type": "display_data"
    }
   ],
   "source": [
    "ggplot(data, aes(x = kozak_region,\n",
    "                 y = mean_ratio,\n",
    "                 color = insert_sequence,\n",
    "                 group = insert_sequence)) +\n",
    "    geom_line() +\n",
    "    geom_point() +\n",
    "    labs(title = \"Plot Title\") +\n",
    "    scale_y_continuous(limits = c(0,5))+\n",
    "    theme_classic()\n"
   ]
  },
  {
   "cell_type": "code",
   "execution_count": 56,
   "metadata": {
    "vscode": {
     "languageId": "r"
    }
   },
   "outputs": [
    {
     "ename": "ERROR",
     "evalue": "Error in eval(expr, envir, enclos): object 'base_size' not found\n",
     "output_type": "error",
     "traceback": [
      "Error in eval(expr, envir, enclos): object 'base_size' not found\nTraceback:\n"
     ]
    }
   ],
   "source": [
    "base_size"
   ]
  },
  {
   "cell_type": "markdown",
   "metadata": {},
   "source": [
    "## 2. Add title to the above plot"
   ]
  },
  {
   "cell_type": "markdown",
   "metadata": {},
   "source": [
    "## 3. Change the plot look to a `classic` theme\n",
    "\n",
    "See https://ggplot2.tidyverse.org/reference/ggtheme.html"
   ]
  },
  {
   "cell_type": "markdown",
   "metadata": {},
   "source": [
    "## 4. Change Y axis to log scale\n",
    "\n",
    "See https://ggplot2.tidyverse.org/reference/scale_continuous.html"
   ]
  },
  {
   "cell_type": "markdown",
   "metadata": {},
   "source": [
    "## 5. Change Y scale to go linearly from 0 to 5"
   ]
  },
  {
   "cell_type": "markdown",
   "metadata": {},
   "source": [
    "---"
   ]
  },
  {
   "cell_type": "markdown",
   "metadata": {},
   "source": [
    "# Transforming data\n",
    "\n",
    "Uses functions from the [`dplyr`](https://dplyr.tidyverse.org/) package."
   ]
  },
  {
   "cell_type": "code",
   "execution_count": 66,
   "metadata": {
    "vscode": {
     "languageId": "r"
    }
   },
   "outputs": [
    {
     "name": "stderr",
     "output_type": "stream",
     "text": [
      "\u001b[1mRows: \u001b[22m\u001b[34m16\u001b[39m \u001b[1mColumns: \u001b[22m\u001b[34m7\u001b[39m\n",
      "\u001b[36m──\u001b[39m \u001b[1mColumn specification\u001b[22m \u001b[36m────────────────────────────────────────────────────────\u001b[39m\n",
      "\u001b[1mDelimiter:\u001b[22m \"\\t\"\n",
      "\u001b[31mchr\u001b[39m (3): strain, insert_sequence, kozak_region\n",
      "\u001b[32mdbl\u001b[39m (4): mean_yfp, mean_rfp, mean_ratio, se_ratio\n",
      "\n",
      "\u001b[36mℹ\u001b[39m Use `spec()` to retrieve the full column specification for this data.\n",
      "\u001b[36mℹ\u001b[39m Specify the column types or set `show_col_types = FALSE` to quiet this message.\n"
     ]
    },
    {
     "data": {
      "text/html": [
       "<table class=\"dataframe\">\n",
       "<caption>A spec_tbl_df: 16 × 7</caption>\n",
       "<thead>\n",
       "\t<tr><th scope=col>strain</th><th scope=col>mean_yfp</th><th scope=col>mean_rfp</th><th scope=col>mean_ratio</th><th scope=col>se_ratio</th><th scope=col>insert_sequence</th><th scope=col>kozak_region</th></tr>\n",
       "\t<tr><th scope=col>&lt;chr&gt;</th><th scope=col>&lt;dbl&gt;</th><th scope=col>&lt;dbl&gt;</th><th scope=col>&lt;dbl&gt;</th><th scope=col>&lt;dbl&gt;</th><th scope=col>&lt;chr&gt;</th><th scope=col>&lt;chr&gt;</th></tr>\n",
       "</thead>\n",
       "<tbody>\n",
       "\t<tr><td>schp688</td><td>1748</td><td>20754</td><td>0.755</td><td>0.066</td><td>10×AGA</td><td>A</td></tr>\n",
       "\t<tr><td>schp684</td><td>3294</td><td>20585</td><td>1.437</td><td>0.021</td><td>10×AGA</td><td>B</td></tr>\n",
       "\t<tr><td>schp690</td><td>3535</td><td>20593</td><td>1.541</td><td>0.018</td><td>10×AGA</td><td>C</td></tr>\n",
       "\t<tr><td>schp687</td><td>4658</td><td>20860</td><td>2.004</td><td>0.021</td><td>10×AGA</td><td>D</td></tr>\n",
       "\t<tr><td>schp686</td><td>5000</td><td>21171</td><td>2.121</td><td>0.023</td><td>10×AGA</td><td>E</td></tr>\n",
       "\t<tr><td>schp685</td><td>7379</td><td>22956</td><td>2.893</td><td>0.050</td><td>10×AGA</td><td>F</td></tr>\n",
       "\t<tr><td>schp683</td><td>9365</td><td>23866</td><td>3.522</td><td>0.110</td><td>10×AGA</td><td>G</td></tr>\n",
       "\t<tr><td>schp689</td><td>8693</td><td>22649</td><td>3.424</td><td>0.125</td><td>10×AGA</td><td>H</td></tr>\n",
       "\t<tr><td>schp679</td><td>2528</td><td>19906</td><td>1.149</td><td>0.056</td><td>10×AAG</td><td>A</td></tr>\n",
       "\t<tr><td>schp675</td><td>3687</td><td>20438</td><td>1.621</td><td>0.036</td><td>10×AAG</td><td>B</td></tr>\n",
       "\t<tr><td>schp681</td><td>3705</td><td>20227</td><td>1.645</td><td>0.021</td><td>10×AAG</td><td>C</td></tr>\n",
       "\t<tr><td>schp678</td><td>4378</td><td>20630</td><td>1.906</td><td>0.010</td><td>10×AAG</td><td>D</td></tr>\n",
       "\t<tr><td>schp677</td><td>3967</td><td>20604</td><td>1.728</td><td>0.030</td><td>10×AAG</td><td>E</td></tr>\n",
       "\t<tr><td>schp676</td><td>2657</td><td>20223</td><td>1.177</td><td>0.048</td><td>10×AAG</td><td>F</td></tr>\n",
       "\t<tr><td>schp674</td><td>1270</td><td>20316</td><td>0.561</td><td>0.004</td><td>10×AAG</td><td>G</td></tr>\n",
       "\t<tr><td>schp680</td><td>1117</td><td>19377</td><td>0.519</td><td>0.010</td><td>10×AAG</td><td>H</td></tr>\n",
       "</tbody>\n",
       "</table>\n"
      ],
      "text/latex": [
       "A spec\\_tbl\\_df: 16 × 7\n",
       "\\begin{tabular}{lllllll}\n",
       " strain & mean\\_yfp & mean\\_rfp & mean\\_ratio & se\\_ratio & insert\\_sequence & kozak\\_region\\\\\n",
       " <chr> & <dbl> & <dbl> & <dbl> & <dbl> & <chr> & <chr>\\\\\n",
       "\\hline\n",
       "\t schp688 & 1748 & 20754 & 0.755 & 0.066 & 10×AGA & A\\\\\n",
       "\t schp684 & 3294 & 20585 & 1.437 & 0.021 & 10×AGA & B\\\\\n",
       "\t schp690 & 3535 & 20593 & 1.541 & 0.018 & 10×AGA & C\\\\\n",
       "\t schp687 & 4658 & 20860 & 2.004 & 0.021 & 10×AGA & D\\\\\n",
       "\t schp686 & 5000 & 21171 & 2.121 & 0.023 & 10×AGA & E\\\\\n",
       "\t schp685 & 7379 & 22956 & 2.893 & 0.050 & 10×AGA & F\\\\\n",
       "\t schp683 & 9365 & 23866 & 3.522 & 0.110 & 10×AGA & G\\\\\n",
       "\t schp689 & 8693 & 22649 & 3.424 & 0.125 & 10×AGA & H\\\\\n",
       "\t schp679 & 2528 & 19906 & 1.149 & 0.056 & 10×AAG & A\\\\\n",
       "\t schp675 & 3687 & 20438 & 1.621 & 0.036 & 10×AAG & B\\\\\n",
       "\t schp681 & 3705 & 20227 & 1.645 & 0.021 & 10×AAG & C\\\\\n",
       "\t schp678 & 4378 & 20630 & 1.906 & 0.010 & 10×AAG & D\\\\\n",
       "\t schp677 & 3967 & 20604 & 1.728 & 0.030 & 10×AAG & E\\\\\n",
       "\t schp676 & 2657 & 20223 & 1.177 & 0.048 & 10×AAG & F\\\\\n",
       "\t schp674 & 1270 & 20316 & 0.561 & 0.004 & 10×AAG & G\\\\\n",
       "\t schp680 & 1117 & 19377 & 0.519 & 0.010 & 10×AAG & H\\\\\n",
       "\\end{tabular}\n"
      ],
      "text/markdown": [
       "\n",
       "A spec_tbl_df: 16 × 7\n",
       "\n",
       "| strain &lt;chr&gt; | mean_yfp &lt;dbl&gt; | mean_rfp &lt;dbl&gt; | mean_ratio &lt;dbl&gt; | se_ratio &lt;dbl&gt; | insert_sequence &lt;chr&gt; | kozak_region &lt;chr&gt; |\n",
       "|---|---|---|---|---|---|---|\n",
       "| schp688 | 1748 | 20754 | 0.755 | 0.066 | 10×AGA | A |\n",
       "| schp684 | 3294 | 20585 | 1.437 | 0.021 | 10×AGA | B |\n",
       "| schp690 | 3535 | 20593 | 1.541 | 0.018 | 10×AGA | C |\n",
       "| schp687 | 4658 | 20860 | 2.004 | 0.021 | 10×AGA | D |\n",
       "| schp686 | 5000 | 21171 | 2.121 | 0.023 | 10×AGA | E |\n",
       "| schp685 | 7379 | 22956 | 2.893 | 0.050 | 10×AGA | F |\n",
       "| schp683 | 9365 | 23866 | 3.522 | 0.110 | 10×AGA | G |\n",
       "| schp689 | 8693 | 22649 | 3.424 | 0.125 | 10×AGA | H |\n",
       "| schp679 | 2528 | 19906 | 1.149 | 0.056 | 10×AAG | A |\n",
       "| schp675 | 3687 | 20438 | 1.621 | 0.036 | 10×AAG | B |\n",
       "| schp681 | 3705 | 20227 | 1.645 | 0.021 | 10×AAG | C |\n",
       "| schp678 | 4378 | 20630 | 1.906 | 0.010 | 10×AAG | D |\n",
       "| schp677 | 3967 | 20604 | 1.728 | 0.030 | 10×AAG | E |\n",
       "| schp676 | 2657 | 20223 | 1.177 | 0.048 | 10×AAG | F |\n",
       "| schp674 | 1270 | 20316 | 0.561 | 0.004 | 10×AAG | G |\n",
       "| schp680 | 1117 | 19377 | 0.519 | 0.010 | 10×AAG | H |\n",
       "\n"
      ],
      "text/plain": [
       "   strain  mean_yfp mean_rfp mean_ratio se_ratio insert_sequence kozak_region\n",
       "1  schp688 1748     20754    0.755      0.066    10×AGA          A           \n",
       "2  schp684 3294     20585    1.437      0.021    10×AGA          B           \n",
       "3  schp690 3535     20593    1.541      0.018    10×AGA          C           \n",
       "4  schp687 4658     20860    2.004      0.021    10×AGA          D           \n",
       "5  schp686 5000     21171    2.121      0.023    10×AGA          E           \n",
       "6  schp685 7379     22956    2.893      0.050    10×AGA          F           \n",
       "7  schp683 9365     23866    3.522      0.110    10×AGA          G           \n",
       "8  schp689 8693     22649    3.424      0.125    10×AGA          H           \n",
       "9  schp679 2528     19906    1.149      0.056    10×AAG          A           \n",
       "10 schp675 3687     20438    1.621      0.036    10×AAG          B           \n",
       "11 schp681 3705     20227    1.645      0.021    10×AAG          C           \n",
       "12 schp678 4378     20630    1.906      0.010    10×AAG          D           \n",
       "13 schp677 3967     20604    1.728      0.030    10×AAG          E           \n",
       "14 schp676 2657     20223    1.177      0.048    10×AAG          F           \n",
       "15 schp674 1270     20316    0.561      0.004    10×AAG          G           \n",
       "16 schp680 1117     19377    0.519      0.010    10×AAG          H           "
      ]
     },
     "metadata": {},
     "output_type": "display_data"
    }
   ],
   "source": [
    "data <- read_tsv(\"data/example_dataset_1.tsv\")\n",
    "\n",
    "\n",
    "data"
   ]
  },
  {
   "cell_type": "markdown",
   "metadata": {},
   "source": [
    "## Select specific columns"
   ]
  },
  {
   "cell_type": "code",
   "execution_count": 67,
   "metadata": {
    "vscode": {
     "languageId": "r"
    }
   },
   "outputs": [
    {
     "data": {
      "text/html": [
       "<table class=\"dataframe\">\n",
       "<caption>A spec_tbl_df: 2 × 7</caption>\n",
       "<thead>\n",
       "\t<tr><th scope=col>strain</th><th scope=col>mean_yfp</th><th scope=col>mean_rfp</th><th scope=col>mean_ratio</th><th scope=col>se_ratio</th><th scope=col>insert_sequence</th><th scope=col>kozak_region</th></tr>\n",
       "\t<tr><th scope=col>&lt;chr&gt;</th><th scope=col>&lt;dbl&gt;</th><th scope=col>&lt;dbl&gt;</th><th scope=col>&lt;dbl&gt;</th><th scope=col>&lt;dbl&gt;</th><th scope=col>&lt;chr&gt;</th><th scope=col>&lt;chr&gt;</th></tr>\n",
       "</thead>\n",
       "<tbody>\n",
       "\t<tr><td>schp688</td><td>1748</td><td>20754</td><td>0.755</td><td>0.066</td><td>10×AGA</td><td>A</td></tr>\n",
       "\t<tr><td>schp679</td><td>2528</td><td>19906</td><td>1.149</td><td>0.056</td><td>10×AAG</td><td>A</td></tr>\n",
       "</tbody>\n",
       "</table>\n"
      ],
      "text/latex": [
       "A spec\\_tbl\\_df: 2 × 7\n",
       "\\begin{tabular}{lllllll}\n",
       " strain & mean\\_yfp & mean\\_rfp & mean\\_ratio & se\\_ratio & insert\\_sequence & kozak\\_region\\\\\n",
       " <chr> & <dbl> & <dbl> & <dbl> & <dbl> & <chr> & <chr>\\\\\n",
       "\\hline\n",
       "\t schp688 & 1748 & 20754 & 0.755 & 0.066 & 10×AGA & A\\\\\n",
       "\t schp679 & 2528 & 19906 & 1.149 & 0.056 & 10×AAG & A\\\\\n",
       "\\end{tabular}\n"
      ],
      "text/markdown": [
       "\n",
       "A spec_tbl_df: 2 × 7\n",
       "\n",
       "| strain &lt;chr&gt; | mean_yfp &lt;dbl&gt; | mean_rfp &lt;dbl&gt; | mean_ratio &lt;dbl&gt; | se_ratio &lt;dbl&gt; | insert_sequence &lt;chr&gt; | kozak_region &lt;chr&gt; |\n",
       "|---|---|---|---|---|---|---|\n",
       "| schp688 | 1748 | 20754 | 0.755 | 0.066 | 10×AGA | A |\n",
       "| schp679 | 2528 | 19906 | 1.149 | 0.056 | 10×AAG | A |\n",
       "\n"
      ],
      "text/plain": [
       "  strain  mean_yfp mean_rfp mean_ratio se_ratio insert_sequence kozak_region\n",
       "1 schp688 1748     20754    0.755      0.066    10×AGA          A           \n",
       "2 schp679 2528     19906    1.149      0.056    10×AAG          A           "
      ]
     },
     "metadata": {},
     "output_type": "display_data"
    }
   ],
   "source": [
    "##keep all rows that have kozak region A \n",
    "filter(data, kozak_region == \"A\")\n",
    "\n"
   ]
  },
  {
   "cell_type": "code",
   "execution_count": 68,
   "metadata": {
    "vscode": {
     "languageId": "r"
    }
   },
   "outputs": [
    {
     "data": {
      "text/html": [
       "<table class=\"dataframe\">\n",
       "<caption>A spec_tbl_df: 0 × 7</caption>\n",
       "<thead>\n",
       "\t<tr><th scope=col>strain</th><th scope=col>mean_yfp</th><th scope=col>mean_rfp</th><th scope=col>mean_ratio</th><th scope=col>se_ratio</th><th scope=col>insert_sequence</th><th scope=col>kozak_region</th></tr>\n",
       "\t<tr><th scope=col>&lt;chr&gt;</th><th scope=col>&lt;dbl&gt;</th><th scope=col>&lt;dbl&gt;</th><th scope=col>&lt;dbl&gt;</th><th scope=col>&lt;dbl&gt;</th><th scope=col>&lt;chr&gt;</th><th scope=col>&lt;chr&gt;</th></tr>\n",
       "</thead>\n",
       "<tbody>\n",
       "</tbody>\n",
       "</table>\n"
      ],
      "text/latex": [
       "A spec\\_tbl\\_df: 0 × 7\n",
       "\\begin{tabular}{lllllll}\n",
       " strain & mean\\_yfp & mean\\_rfp & mean\\_ratio & se\\_ratio & insert\\_sequence & kozak\\_region\\\\\n",
       " <chr> & <dbl> & <dbl> & <dbl> & <dbl> & <chr> & <chr>\\\\\n",
       "\\hline\n",
       "\\end{tabular}\n"
      ],
      "text/markdown": [
       "\n",
       "A spec_tbl_df: 0 × 7\n",
       "\n",
       "| strain &lt;chr&gt; | mean_yfp &lt;dbl&gt; | mean_rfp &lt;dbl&gt; | mean_ratio &lt;dbl&gt; | se_ratio &lt;dbl&gt; | insert_sequence &lt;chr&gt; | kozak_region &lt;chr&gt; |\n",
       "|---|---|---|---|---|---|---|\n",
       "\n"
      ],
      "text/plain": [
       "     strain mean_yfp mean_rfp mean_ratio se_ratio insert_sequence kozak_region"
      ]
     },
     "metadata": {},
     "output_type": "display_data"
    }
   ],
   "source": [
    "data %>%\n",
    "    filter(kozak_region == \"A\", insert_sequence == \"10xAGA\")"
   ]
  },
  {
   "cell_type": "code",
   "execution_count": 69,
   "metadata": {
    "vscode": {
     "languageId": "r"
    }
   },
   "outputs": [
    {
     "data": {
      "text/html": [
       "<table class=\"dataframe\">\n",
       "<caption>A tibble: 16 × 4</caption>\n",
       "<thead>\n",
       "\t<tr><th scope=col>strain</th><th scope=col>mean_ratio</th><th scope=col>insert_sequence</th><th scope=col>kozak_region</th></tr>\n",
       "\t<tr><th scope=col>&lt;chr&gt;</th><th scope=col>&lt;dbl&gt;</th><th scope=col>&lt;chr&gt;</th><th scope=col>&lt;chr&gt;</th></tr>\n",
       "</thead>\n",
       "<tbody>\n",
       "\t<tr><td>schp688</td><td>0.755</td><td>10×AGA</td><td>A</td></tr>\n",
       "\t<tr><td>schp684</td><td>1.437</td><td>10×AGA</td><td>B</td></tr>\n",
       "\t<tr><td>schp690</td><td>1.541</td><td>10×AGA</td><td>C</td></tr>\n",
       "\t<tr><td>schp687</td><td>2.004</td><td>10×AGA</td><td>D</td></tr>\n",
       "\t<tr><td>schp686</td><td>2.121</td><td>10×AGA</td><td>E</td></tr>\n",
       "\t<tr><td>schp685</td><td>2.893</td><td>10×AGA</td><td>F</td></tr>\n",
       "\t<tr><td>schp683</td><td>3.522</td><td>10×AGA</td><td>G</td></tr>\n",
       "\t<tr><td>schp689</td><td>3.424</td><td>10×AGA</td><td>H</td></tr>\n",
       "\t<tr><td>schp679</td><td>1.149</td><td>10×AAG</td><td>A</td></tr>\n",
       "\t<tr><td>schp675</td><td>1.621</td><td>10×AAG</td><td>B</td></tr>\n",
       "\t<tr><td>schp681</td><td>1.645</td><td>10×AAG</td><td>C</td></tr>\n",
       "\t<tr><td>schp678</td><td>1.906</td><td>10×AAG</td><td>D</td></tr>\n",
       "\t<tr><td>schp677</td><td>1.728</td><td>10×AAG</td><td>E</td></tr>\n",
       "\t<tr><td>schp676</td><td>1.177</td><td>10×AAG</td><td>F</td></tr>\n",
       "\t<tr><td>schp674</td><td>0.561</td><td>10×AAG</td><td>G</td></tr>\n",
       "\t<tr><td>schp680</td><td>0.519</td><td>10×AAG</td><td>H</td></tr>\n",
       "</tbody>\n",
       "</table>\n"
      ],
      "text/latex": [
       "A tibble: 16 × 4\n",
       "\\begin{tabular}{llll}\n",
       " strain & mean\\_ratio & insert\\_sequence & kozak\\_region\\\\\n",
       " <chr> & <dbl> & <chr> & <chr>\\\\\n",
       "\\hline\n",
       "\t schp688 & 0.755 & 10×AGA & A\\\\\n",
       "\t schp684 & 1.437 & 10×AGA & B\\\\\n",
       "\t schp690 & 1.541 & 10×AGA & C\\\\\n",
       "\t schp687 & 2.004 & 10×AGA & D\\\\\n",
       "\t schp686 & 2.121 & 10×AGA & E\\\\\n",
       "\t schp685 & 2.893 & 10×AGA & F\\\\\n",
       "\t schp683 & 3.522 & 10×AGA & G\\\\\n",
       "\t schp689 & 3.424 & 10×AGA & H\\\\\n",
       "\t schp679 & 1.149 & 10×AAG & A\\\\\n",
       "\t schp675 & 1.621 & 10×AAG & B\\\\\n",
       "\t schp681 & 1.645 & 10×AAG & C\\\\\n",
       "\t schp678 & 1.906 & 10×AAG & D\\\\\n",
       "\t schp677 & 1.728 & 10×AAG & E\\\\\n",
       "\t schp676 & 1.177 & 10×AAG & F\\\\\n",
       "\t schp674 & 0.561 & 10×AAG & G\\\\\n",
       "\t schp680 & 0.519 & 10×AAG & H\\\\\n",
       "\\end{tabular}\n"
      ],
      "text/markdown": [
       "\n",
       "A tibble: 16 × 4\n",
       "\n",
       "| strain &lt;chr&gt; | mean_ratio &lt;dbl&gt; | insert_sequence &lt;chr&gt; | kozak_region &lt;chr&gt; |\n",
       "|---|---|---|---|\n",
       "| schp688 | 0.755 | 10×AGA | A |\n",
       "| schp684 | 1.437 | 10×AGA | B |\n",
       "| schp690 | 1.541 | 10×AGA | C |\n",
       "| schp687 | 2.004 | 10×AGA | D |\n",
       "| schp686 | 2.121 | 10×AGA | E |\n",
       "| schp685 | 2.893 | 10×AGA | F |\n",
       "| schp683 | 3.522 | 10×AGA | G |\n",
       "| schp689 | 3.424 | 10×AGA | H |\n",
       "| schp679 | 1.149 | 10×AAG | A |\n",
       "| schp675 | 1.621 | 10×AAG | B |\n",
       "| schp681 | 1.645 | 10×AAG | C |\n",
       "| schp678 | 1.906 | 10×AAG | D |\n",
       "| schp677 | 1.728 | 10×AAG | E |\n",
       "| schp676 | 1.177 | 10×AAG | F |\n",
       "| schp674 | 0.561 | 10×AAG | G |\n",
       "| schp680 | 0.519 | 10×AAG | H |\n",
       "\n"
      ],
      "text/plain": [
       "   strain  mean_ratio insert_sequence kozak_region\n",
       "1  schp688 0.755      10×AGA          A           \n",
       "2  schp684 1.437      10×AGA          B           \n",
       "3  schp690 1.541      10×AGA          C           \n",
       "4  schp687 2.004      10×AGA          D           \n",
       "5  schp686 2.121      10×AGA          E           \n",
       "6  schp685 2.893      10×AGA          F           \n",
       "7  schp683 3.522      10×AGA          G           \n",
       "8  schp689 3.424      10×AGA          H           \n",
       "9  schp679 1.149      10×AAG          A           \n",
       "10 schp675 1.621      10×AAG          B           \n",
       "11 schp681 1.645      10×AAG          C           \n",
       "12 schp678 1.906      10×AAG          D           \n",
       "13 schp677 1.728      10×AAG          E           \n",
       "14 schp676 1.177      10×AAG          F           \n",
       "15 schp674 0.561      10×AAG          G           \n",
       "16 schp680 0.519      10×AAG          H           "
      ]
     },
     "metadata": {},
     "output_type": "display_data"
    }
   ],
   "source": [
    "select(data, strain, mean_ratio, insert_sequence, kozak_region)"
   ]
  },
  {
   "cell_type": "markdown",
   "metadata": {},
   "source": [
    "## Combine operations using the ` %>% ` operator"
   ]
  },
  {
   "cell_type": "code",
   "execution_count": 70,
   "metadata": {
    "vscode": {
     "languageId": "r"
    }
   },
   "outputs": [
    {
     "name": "stderr",
     "output_type": "stream",
     "text": [
      "\u001b[1mRows: \u001b[22m\u001b[34m16\u001b[39m \u001b[1mColumns: \u001b[22m\u001b[34m7\u001b[39m\n",
      "\u001b[36m──\u001b[39m \u001b[1mColumn specification\u001b[22m \u001b[36m────────────────────────────────────────────────────────\u001b[39m\n",
      "\u001b[1mDelimiter:\u001b[22m \"\\t\"\n",
      "\u001b[31mchr\u001b[39m (3): strain, insert_sequence, kozak_region\n",
      "\u001b[32mdbl\u001b[39m (4): mean_yfp, mean_rfp, mean_ratio, se_ratio\n",
      "\n",
      "\u001b[36mℹ\u001b[39m Use `spec()` to retrieve the full column specification for this data.\n",
      "\u001b[36mℹ\u001b[39m Specify the column types or set `show_col_types = FALSE` to quiet this message.\n"
     ]
    },
    {
     "ename": "ERROR",
     "evalue": "Error in print.default(): argument \"x\" is missing, with no default\n",
     "output_type": "error",
     "traceback": [
      "Error in print.default(): argument \"x\" is missing, with no default\nTraceback:\n",
      "1. print()",
      "2. print.default()"
     ]
    }
   ],
   "source": [
    "data <- read_tsv(\"data/example_dataset_1.tsv\") %>% \n",
    "  select(strain, mean_ratio, insert_sequence, kozak_region)\n",
    "  print()"
   ]
  },
  {
   "cell_type": "markdown",
   "metadata": {},
   "source": [
    "Above is the same as the following:"
   ]
  },
  {
   "cell_type": "code",
   "execution_count": 60,
   "metadata": {
    "vscode": {
     "languageId": "r"
    }
   },
   "outputs": [
    {
     "name": "stderr",
     "output_type": "stream",
     "text": [
      "\u001b[1mRows: \u001b[22m\u001b[34m16\u001b[39m \u001b[1mColumns: \u001b[22m\u001b[34m7\u001b[39m\n",
      "\u001b[36m──\u001b[39m \u001b[1mColumn specification\u001b[22m \u001b[36m────────────────────────────────────────────────────────\u001b[39m\n",
      "\u001b[1mDelimiter:\u001b[22m \"\\t\"\n",
      "\u001b[31mchr\u001b[39m (3): strain, insert_sequence, kozak_region\n",
      "\u001b[32mdbl\u001b[39m (4): mean_yfp, mean_rfp, mean_ratio, se_ratio\n",
      "\n",
      "\u001b[36mℹ\u001b[39m Use `spec()` to retrieve the full column specification for this data.\n",
      "\u001b[36mℹ\u001b[39m Specify the column types or set `show_col_types = FALSE` to quiet this message.\n"
     ]
    }
   ],
   "source": [
    "data <- read_tsv(\"data/example_dataset_1.tsv\") %>% \n",
    "  select(., strain, mean_ratio, insert_sequence, kozak_region)"
   ]
  },
  {
   "cell_type": "markdown",
   "metadata": {},
   "source": [
    "The `%>%` operator lets you `chain` different data analysis tasks together and makes the analysis logic easier to understand.\n",
    "\n",
    "\n",
    "_Side note: You can create keyboard shortcuts for ` <- ` and ` %>% ` in VSCode as explained [here](https://code.visualstudio.com/docs/getstarted/keybindings)._\n",
    "\n",
    "Rasi uses `Alt + -` for ` <- ` and `Alt + Shift + m` for ` %>% ` following `RStudio` convention."
   ]
  },
  {
   "cell_type": "markdown",
   "metadata": {},
   "source": [
    "You can get a view of the transformed data using `print()` as the last step in a chain of commands"
   ]
  },
  {
   "cell_type": "code",
   "execution_count": 61,
   "metadata": {
    "vscode": {
     "languageId": "r"
    }
   },
   "outputs": [
    {
     "name": "stderr",
     "output_type": "stream",
     "text": [
      "\u001b[1mRows: \u001b[22m\u001b[34m16\u001b[39m \u001b[1mColumns: \u001b[22m\u001b[34m7\u001b[39m\n",
      "\u001b[36m──\u001b[39m \u001b[1mColumn specification\u001b[22m \u001b[36m────────────────────────────────────────────────────────\u001b[39m\n",
      "\u001b[1mDelimiter:\u001b[22m \"\\t\"\n",
      "\u001b[31mchr\u001b[39m (3): strain, insert_sequence, kozak_region\n",
      "\u001b[32mdbl\u001b[39m (4): mean_yfp, mean_rfp, mean_ratio, se_ratio\n",
      "\n",
      "\u001b[36mℹ\u001b[39m Use `spec()` to retrieve the full column specification for this data.\n",
      "\u001b[36mℹ\u001b[39m Specify the column types or set `show_col_types = FALSE` to quiet this message.\n"
     ]
    },
    {
     "name": "stdout",
     "output_type": "stream",
     "text": [
      "\u001b[90m# A tibble: 16 × 4\u001b[39m\n",
      "   strain  mean_ratio insert_sequence kozak_region\n",
      "   \u001b[3m\u001b[90m<chr>\u001b[39m\u001b[23m        \u001b[3m\u001b[90m<dbl>\u001b[39m\u001b[23m \u001b[3m\u001b[90m<chr>\u001b[39m\u001b[23m           \u001b[3m\u001b[90m<chr>\u001b[39m\u001b[23m       \n",
      "\u001b[90m 1\u001b[39m schp688      0.755 10×AGA          A           \n",
      "\u001b[90m 2\u001b[39m schp684      1.44  10×AGA          B           \n",
      "\u001b[90m 3\u001b[39m schp690      1.54  10×AGA          C           \n",
      "\u001b[90m 4\u001b[39m schp687      2.00  10×AGA          D           \n",
      "\u001b[90m 5\u001b[39m schp686      2.12  10×AGA          E           \n",
      "\u001b[90m 6\u001b[39m schp685      2.89  10×AGA          F           \n",
      "\u001b[90m 7\u001b[39m schp683      3.52  10×AGA          G           \n",
      "\u001b[90m 8\u001b[39m schp689      3.42  10×AGA          H           \n",
      "\u001b[90m 9\u001b[39m schp679      1.15  10×AAG          A           \n",
      "\u001b[90m10\u001b[39m schp675      1.62  10×AAG          B           \n",
      "\u001b[90m11\u001b[39m schp681      1.64  10×AAG          C           \n",
      "\u001b[90m12\u001b[39m schp678      1.91  10×AAG          D           \n",
      "\u001b[90m13\u001b[39m schp677      1.73  10×AAG          E           \n",
      "\u001b[90m14\u001b[39m schp676      1.18  10×AAG          F           \n",
      "\u001b[90m15\u001b[39m schp674      0.561 10×AAG          G           \n",
      "\u001b[90m16\u001b[39m schp680      0.519 10×AAG          H           \n"
     ]
    }
   ],
   "source": [
    "data <- read_tsv(\"data/example_dataset_1.tsv\") %>% \n",
    "  select(strain, mean_ratio, insert_sequence, kozak_region) %>% \n",
    "  print() "
   ]
  },
  {
   "cell_type": "markdown",
   "metadata": {},
   "source": [
    "## Filter rows"
   ]
  },
  {
   "cell_type": "code",
   "execution_count": 64,
   "metadata": {
    "vscode": {
     "languageId": "r"
    }
   },
   "outputs": [
    {
     "name": "stderr",
     "output_type": "stream",
     "text": [
      "\u001b[1mRows: \u001b[22m\u001b[34m16\u001b[39m \u001b[1mColumns: \u001b[22m\u001b[34m7\u001b[39m\n",
      "\u001b[36m──\u001b[39m \u001b[1mColumn specification\u001b[22m \u001b[36m────────────────────────────────────────────────────────\u001b[39m\n",
      "\u001b[1mDelimiter:\u001b[22m \"\\t\"\n",
      "\u001b[31mchr\u001b[39m (3): strain, insert_sequence, kozak_region\n",
      "\u001b[32mdbl\u001b[39m (4): mean_yfp, mean_rfp, mean_ratio, se_ratio\n",
      "\n",
      "\u001b[36mℹ\u001b[39m Use `spec()` to retrieve the full column specification for this data.\n",
      "\u001b[36mℹ\u001b[39m Specify the column types or set `show_col_types = FALSE` to quiet this message.\n"
     ]
    }
   ],
   "source": [
    "data <- read_tsv(\"data/example_dataset_1.tsv\")"
   ]
  },
  {
   "cell_type": "code",
   "execution_count": 71,
   "metadata": {
    "vscode": {
     "languageId": "r"
    }
   },
   "outputs": [
    {
     "data": {
      "text/html": [
       "<table class=\"dataframe\">\n",
       "<caption>A tibble: 2 × 4</caption>\n",
       "<thead>\n",
       "\t<tr><th scope=col>strain</th><th scope=col>mean_ratio</th><th scope=col>insert_sequence</th><th scope=col>kozak_region</th></tr>\n",
       "\t<tr><th scope=col>&lt;chr&gt;</th><th scope=col>&lt;dbl&gt;</th><th scope=col>&lt;chr&gt;</th><th scope=col>&lt;chr&gt;</th></tr>\n",
       "</thead>\n",
       "<tbody>\n",
       "\t<tr><td>schp688</td><td>0.755</td><td>10×AGA</td><td>A</td></tr>\n",
       "\t<tr><td>schp679</td><td>1.149</td><td>10×AAG</td><td>A</td></tr>\n",
       "</tbody>\n",
       "</table>\n"
      ],
      "text/latex": [
       "A tibble: 2 × 4\n",
       "\\begin{tabular}{llll}\n",
       " strain & mean\\_ratio & insert\\_sequence & kozak\\_region\\\\\n",
       " <chr> & <dbl> & <chr> & <chr>\\\\\n",
       "\\hline\n",
       "\t schp688 & 0.755 & 10×AGA & A\\\\\n",
       "\t schp679 & 1.149 & 10×AAG & A\\\\\n",
       "\\end{tabular}\n"
      ],
      "text/markdown": [
       "\n",
       "A tibble: 2 × 4\n",
       "\n",
       "| strain &lt;chr&gt; | mean_ratio &lt;dbl&gt; | insert_sequence &lt;chr&gt; | kozak_region &lt;chr&gt; |\n",
       "|---|---|---|---|\n",
       "| schp688 | 0.755 | 10×AGA | A |\n",
       "| schp679 | 1.149 | 10×AAG | A |\n",
       "\n"
      ],
      "text/plain": [
       "  strain  mean_ratio insert_sequence kozak_region\n",
       "1 schp688 0.755      10×AGA          A           \n",
       "2 schp679 1.149      10×AAG          A           "
      ]
     },
     "metadata": {},
     "output_type": "display_data"
    }
   ],
   "source": [
    "data %>% \n",
    "  filter(kozak_region == \"A\")"
   ]
  },
  {
   "cell_type": "code",
   "execution_count": 72,
   "metadata": {
    "vscode": {
     "languageId": "r"
    }
   },
   "outputs": [
    {
     "data": {
      "text/html": [
       "<table class=\"dataframe\">\n",
       "<caption>A tibble: 1 × 4</caption>\n",
       "<thead>\n",
       "\t<tr><th scope=col>strain</th><th scope=col>mean_ratio</th><th scope=col>insert_sequence</th><th scope=col>kozak_region</th></tr>\n",
       "\t<tr><th scope=col>&lt;chr&gt;</th><th scope=col>&lt;dbl&gt;</th><th scope=col>&lt;chr&gt;</th><th scope=col>&lt;chr&gt;</th></tr>\n",
       "</thead>\n",
       "<tbody>\n",
       "\t<tr><td>schp688</td><td>0.755</td><td>10×AGA</td><td>A</td></tr>\n",
       "</tbody>\n",
       "</table>\n"
      ],
      "text/latex": [
       "A tibble: 1 × 4\n",
       "\\begin{tabular}{llll}\n",
       " strain & mean\\_ratio & insert\\_sequence & kozak\\_region\\\\\n",
       " <chr> & <dbl> & <chr> & <chr>\\\\\n",
       "\\hline\n",
       "\t schp688 & 0.755 & 10×AGA & A\\\\\n",
       "\\end{tabular}\n"
      ],
      "text/markdown": [
       "\n",
       "A tibble: 1 × 4\n",
       "\n",
       "| strain &lt;chr&gt; | mean_ratio &lt;dbl&gt; | insert_sequence &lt;chr&gt; | kozak_region &lt;chr&gt; |\n",
       "|---|---|---|---|\n",
       "| schp688 | 0.755 | 10×AGA | A |\n",
       "\n"
      ],
      "text/plain": [
       "  strain  mean_ratio insert_sequence kozak_region\n",
       "1 schp688 0.755      10×AGA          A           "
      ]
     },
     "metadata": {},
     "output_type": "display_data"
    }
   ],
   "source": [
    "data %>%\n",
    "  filter(kozak_region == \"A\", insert_sequence == \"10×AGA\")"
   ]
  },
  {
   "cell_type": "code",
   "execution_count": 74,
   "metadata": {
    "vscode": {
     "languageId": "r"
    }
   },
   "outputs": [
    {
     "data": {
      "text/html": [
       "<table class=\"dataframe\">\n",
       "<caption>A tibble: 1 × 4</caption>\n",
       "<thead>\n",
       "\t<tr><th scope=col>strain</th><th scope=col>mean_ratio</th><th scope=col>insert_sequence</th><th scope=col>kozak_region</th></tr>\n",
       "\t<tr><th scope=col>&lt;chr&gt;</th><th scope=col>&lt;dbl&gt;</th><th scope=col>&lt;chr&gt;</th><th scope=col>&lt;chr&gt;</th></tr>\n",
       "</thead>\n",
       "<tbody>\n",
       "\t<tr><td>schp688</td><td>0.755</td><td>10×AGA</td><td>A</td></tr>\n",
       "</tbody>\n",
       "</table>\n"
      ],
      "text/latex": [
       "A tibble: 1 × 4\n",
       "\\begin{tabular}{llll}\n",
       " strain & mean\\_ratio & insert\\_sequence & kozak\\_region\\\\\n",
       " <chr> & <dbl> & <chr> & <chr>\\\\\n",
       "\\hline\n",
       "\t schp688 & 0.755 & 10×AGA & A\\\\\n",
       "\\end{tabular}\n"
      ],
      "text/markdown": [
       "\n",
       "A tibble: 1 × 4\n",
       "\n",
       "| strain &lt;chr&gt; | mean_ratio &lt;dbl&gt; | insert_sequence &lt;chr&gt; | kozak_region &lt;chr&gt; |\n",
       "|---|---|---|---|\n",
       "| schp688 | 0.755 | 10×AGA | A |\n",
       "\n"
      ],
      "text/plain": [
       "  strain  mean_ratio insert_sequence kozak_region\n",
       "1 schp688 0.755      10×AGA          A           "
      ]
     },
     "metadata": {},
     "output_type": "display_data"
    }
   ],
   "source": [
    "data %>%\n",
    "  filter(kozak_region == \"A\") %>% \n",
    "  filter(insert_sequence == \"10×AGA\")"
   ]
  },
  {
   "cell_type": "markdown",
   "metadata": {},
   "source": [
    "## Arrange (sort) rows in a specific order"
   ]
  },
  {
   "cell_type": "code",
   "execution_count": 73,
   "metadata": {
    "vscode": {
     "languageId": "r"
    }
   },
   "outputs": [
    {
     "data": {
      "text/html": [
       "<table class=\"dataframe\">\n",
       "<caption>A tibble: 16 × 4</caption>\n",
       "<thead>\n",
       "\t<tr><th scope=col>strain</th><th scope=col>mean_ratio</th><th scope=col>insert_sequence</th><th scope=col>kozak_region</th></tr>\n",
       "\t<tr><th scope=col>&lt;chr&gt;</th><th scope=col>&lt;dbl&gt;</th><th scope=col>&lt;chr&gt;</th><th scope=col>&lt;chr&gt;</th></tr>\n",
       "</thead>\n",
       "<tbody>\n",
       "\t<tr><td>schp680</td><td>0.519</td><td>10×AAG</td><td>H</td></tr>\n",
       "\t<tr><td>schp674</td><td>0.561</td><td>10×AAG</td><td>G</td></tr>\n",
       "\t<tr><td>schp688</td><td>0.755</td><td>10×AGA</td><td>A</td></tr>\n",
       "\t<tr><td>schp679</td><td>1.149</td><td>10×AAG</td><td>A</td></tr>\n",
       "\t<tr><td>schp676</td><td>1.177</td><td>10×AAG</td><td>F</td></tr>\n",
       "\t<tr><td>schp684</td><td>1.437</td><td>10×AGA</td><td>B</td></tr>\n",
       "\t<tr><td>schp690</td><td>1.541</td><td>10×AGA</td><td>C</td></tr>\n",
       "\t<tr><td>schp675</td><td>1.621</td><td>10×AAG</td><td>B</td></tr>\n",
       "\t<tr><td>schp681</td><td>1.645</td><td>10×AAG</td><td>C</td></tr>\n",
       "\t<tr><td>schp677</td><td>1.728</td><td>10×AAG</td><td>E</td></tr>\n",
       "\t<tr><td>schp678</td><td>1.906</td><td>10×AAG</td><td>D</td></tr>\n",
       "\t<tr><td>schp687</td><td>2.004</td><td>10×AGA</td><td>D</td></tr>\n",
       "\t<tr><td>schp686</td><td>2.121</td><td>10×AGA</td><td>E</td></tr>\n",
       "\t<tr><td>schp685</td><td>2.893</td><td>10×AGA</td><td>F</td></tr>\n",
       "\t<tr><td>schp689</td><td>3.424</td><td>10×AGA</td><td>H</td></tr>\n",
       "\t<tr><td>schp683</td><td>3.522</td><td>10×AGA</td><td>G</td></tr>\n",
       "</tbody>\n",
       "</table>\n"
      ],
      "text/latex": [
       "A tibble: 16 × 4\n",
       "\\begin{tabular}{llll}\n",
       " strain & mean\\_ratio & insert\\_sequence & kozak\\_region\\\\\n",
       " <chr> & <dbl> & <chr> & <chr>\\\\\n",
       "\\hline\n",
       "\t schp680 & 0.519 & 10×AAG & H\\\\\n",
       "\t schp674 & 0.561 & 10×AAG & G\\\\\n",
       "\t schp688 & 0.755 & 10×AGA & A\\\\\n",
       "\t schp679 & 1.149 & 10×AAG & A\\\\\n",
       "\t schp676 & 1.177 & 10×AAG & F\\\\\n",
       "\t schp684 & 1.437 & 10×AGA & B\\\\\n",
       "\t schp690 & 1.541 & 10×AGA & C\\\\\n",
       "\t schp675 & 1.621 & 10×AAG & B\\\\\n",
       "\t schp681 & 1.645 & 10×AAG & C\\\\\n",
       "\t schp677 & 1.728 & 10×AAG & E\\\\\n",
       "\t schp678 & 1.906 & 10×AAG & D\\\\\n",
       "\t schp687 & 2.004 & 10×AGA & D\\\\\n",
       "\t schp686 & 2.121 & 10×AGA & E\\\\\n",
       "\t schp685 & 2.893 & 10×AGA & F\\\\\n",
       "\t schp689 & 3.424 & 10×AGA & H\\\\\n",
       "\t schp683 & 3.522 & 10×AGA & G\\\\\n",
       "\\end{tabular}\n"
      ],
      "text/markdown": [
       "\n",
       "A tibble: 16 × 4\n",
       "\n",
       "| strain &lt;chr&gt; | mean_ratio &lt;dbl&gt; | insert_sequence &lt;chr&gt; | kozak_region &lt;chr&gt; |\n",
       "|---|---|---|---|\n",
       "| schp680 | 0.519 | 10×AAG | H |\n",
       "| schp674 | 0.561 | 10×AAG | G |\n",
       "| schp688 | 0.755 | 10×AGA | A |\n",
       "| schp679 | 1.149 | 10×AAG | A |\n",
       "| schp676 | 1.177 | 10×AAG | F |\n",
       "| schp684 | 1.437 | 10×AGA | B |\n",
       "| schp690 | 1.541 | 10×AGA | C |\n",
       "| schp675 | 1.621 | 10×AAG | B |\n",
       "| schp681 | 1.645 | 10×AAG | C |\n",
       "| schp677 | 1.728 | 10×AAG | E |\n",
       "| schp678 | 1.906 | 10×AAG | D |\n",
       "| schp687 | 2.004 | 10×AGA | D |\n",
       "| schp686 | 2.121 | 10×AGA | E |\n",
       "| schp685 | 2.893 | 10×AGA | F |\n",
       "| schp689 | 3.424 | 10×AGA | H |\n",
       "| schp683 | 3.522 | 10×AGA | G |\n",
       "\n"
      ],
      "text/plain": [
       "   strain  mean_ratio insert_sequence kozak_region\n",
       "1  schp680 0.519      10×AAG          H           \n",
       "2  schp674 0.561      10×AAG          G           \n",
       "3  schp688 0.755      10×AGA          A           \n",
       "4  schp679 1.149      10×AAG          A           \n",
       "5  schp676 1.177      10×AAG          F           \n",
       "6  schp684 1.437      10×AGA          B           \n",
       "7  schp690 1.541      10×AGA          C           \n",
       "8  schp675 1.621      10×AAG          B           \n",
       "9  schp681 1.645      10×AAG          C           \n",
       "10 schp677 1.728      10×AAG          E           \n",
       "11 schp678 1.906      10×AAG          D           \n",
       "12 schp687 2.004      10×AGA          D           \n",
       "13 schp686 2.121      10×AGA          E           \n",
       "14 schp685 2.893      10×AGA          F           \n",
       "15 schp689 3.424      10×AGA          H           \n",
       "16 schp683 3.522      10×AGA          G           "
      ]
     },
     "metadata": {},
     "output_type": "display_data"
    }
   ],
   "source": [
    "data %>%\n",
    "  arrange(mean_ratio)"
   ]
  },
  {
   "cell_type": "markdown",
   "metadata": {},
   "source": [
    "## Create new columns using `mutate`"
   ]
  },
  {
   "cell_type": "code",
   "execution_count": 75,
   "metadata": {
    "vscode": {
     "languageId": "r"
    }
   },
   "outputs": [
    {
     "name": "stderr",
     "output_type": "stream",
     "text": [
      "\u001b[1mRows: \u001b[22m\u001b[34m16\u001b[39m \u001b[1mColumns: \u001b[22m\u001b[34m3\u001b[39m\n",
      "\u001b[36m──\u001b[39m \u001b[1mColumn specification\u001b[22m \u001b[36m────────────────────────────────────────────────────────\u001b[39m\n",
      "\u001b[1mDelimiter:\u001b[22m \"\\t\"\n",
      "\u001b[31mchr\u001b[39m (1): strain\n",
      "\u001b[32mdbl\u001b[39m (2): mean_yfp, mean_rfp\n",
      "\n",
      "\u001b[36mℹ\u001b[39m Use `spec()` to retrieve the full column specification for this data.\n",
      "\u001b[36mℹ\u001b[39m Specify the column types or set `show_col_types = FALSE` to quiet this message.\n"
     ]
    },
    {
     "name": "stdout",
     "output_type": "stream",
     "text": [
      "\u001b[90m# A tibble: 16 × 3\u001b[39m\n",
      "   strain  mean_yfp mean_rfp\n",
      "   \u001b[3m\u001b[90m<chr>\u001b[39m\u001b[23m      \u001b[3m\u001b[90m<dbl>\u001b[39m\u001b[23m    \u001b[3m\u001b[90m<dbl>\u001b[39m\u001b[23m\n",
      "\u001b[90m 1\u001b[39m schp688     \u001b[4m1\u001b[24m748    \u001b[4m2\u001b[24m\u001b[4m0\u001b[24m754\n",
      "\u001b[90m 2\u001b[39m schp684     \u001b[4m3\u001b[24m294    \u001b[4m2\u001b[24m\u001b[4m0\u001b[24m585\n",
      "\u001b[90m 3\u001b[39m schp690     \u001b[4m3\u001b[24m535    \u001b[4m2\u001b[24m\u001b[4m0\u001b[24m593\n",
      "\u001b[90m 4\u001b[39m schp687     \u001b[4m4\u001b[24m658    \u001b[4m2\u001b[24m\u001b[4m0\u001b[24m860\n",
      "\u001b[90m 5\u001b[39m schp686     \u001b[4m5\u001b[24m000    \u001b[4m2\u001b[24m\u001b[4m1\u001b[24m171\n",
      "\u001b[90m 6\u001b[39m schp685     \u001b[4m7\u001b[24m379    \u001b[4m2\u001b[24m\u001b[4m2\u001b[24m956\n",
      "\u001b[90m 7\u001b[39m schp683     \u001b[4m9\u001b[24m365    \u001b[4m2\u001b[24m\u001b[4m3\u001b[24m866\n",
      "\u001b[90m 8\u001b[39m schp689     \u001b[4m8\u001b[24m693    \u001b[4m2\u001b[24m\u001b[4m2\u001b[24m649\n",
      "\u001b[90m 9\u001b[39m schp679     \u001b[4m2\u001b[24m528    \u001b[4m1\u001b[24m\u001b[4m9\u001b[24m906\n",
      "\u001b[90m10\u001b[39m schp675     \u001b[4m3\u001b[24m687    \u001b[4m2\u001b[24m\u001b[4m0\u001b[24m438\n",
      "\u001b[90m11\u001b[39m schp681     \u001b[4m3\u001b[24m705    \u001b[4m2\u001b[24m\u001b[4m0\u001b[24m227\n",
      "\u001b[90m12\u001b[39m schp678     \u001b[4m4\u001b[24m378    \u001b[4m2\u001b[24m\u001b[4m0\u001b[24m630\n",
      "\u001b[90m13\u001b[39m schp677     \u001b[4m3\u001b[24m967    \u001b[4m2\u001b[24m\u001b[4m0\u001b[24m604\n",
      "\u001b[90m14\u001b[39m schp676     \u001b[4m2\u001b[24m657    \u001b[4m2\u001b[24m\u001b[4m0\u001b[24m223\n",
      "\u001b[90m15\u001b[39m schp674     \u001b[4m1\u001b[24m270    \u001b[4m2\u001b[24m\u001b[4m0\u001b[24m316\n",
      "\u001b[90m16\u001b[39m schp680     \u001b[4m1\u001b[24m117    \u001b[4m1\u001b[24m\u001b[4m9\u001b[24m377\n"
     ]
    }
   ],
   "source": [
    "data <- read_tsv(\"data/example_dataset_2.tsv\") %>% \n",
    "  print()"
   ]
  },
  {
   "cell_type": "code",
   "execution_count": 76,
   "metadata": {
    "vscode": {
     "languageId": "r"
    }
   },
   "outputs": [
    {
     "name": "stdout",
     "output_type": "stream",
     "text": [
      "\u001b[90m# A tibble: 16 × 4\u001b[39m\n",
      "   strain  mean_yfp mean_rfp mean_ratio\n",
      "   \u001b[3m\u001b[90m<chr>\u001b[39m\u001b[23m      \u001b[3m\u001b[90m<dbl>\u001b[39m\u001b[23m    \u001b[3m\u001b[90m<dbl>\u001b[39m\u001b[23m      \u001b[3m\u001b[90m<dbl>\u001b[39m\u001b[23m\n",
      "\u001b[90m 1\u001b[39m schp688     \u001b[4m1\u001b[24m748    \u001b[4m2\u001b[24m\u001b[4m0\u001b[24m754     0.084\u001b[4m2\u001b[24m\n",
      "\u001b[90m 2\u001b[39m schp684     \u001b[4m3\u001b[24m294    \u001b[4m2\u001b[24m\u001b[4m0\u001b[24m585     0.160 \n",
      "\u001b[90m 3\u001b[39m schp690     \u001b[4m3\u001b[24m535    \u001b[4m2\u001b[24m\u001b[4m0\u001b[24m593     0.172 \n",
      "\u001b[90m 4\u001b[39m schp687     \u001b[4m4\u001b[24m658    \u001b[4m2\u001b[24m\u001b[4m0\u001b[24m860     0.223 \n",
      "\u001b[90m 5\u001b[39m schp686     \u001b[4m5\u001b[24m000    \u001b[4m2\u001b[24m\u001b[4m1\u001b[24m171     0.236 \n",
      "\u001b[90m 6\u001b[39m schp685     \u001b[4m7\u001b[24m379    \u001b[4m2\u001b[24m\u001b[4m2\u001b[24m956     0.321 \n",
      "\u001b[90m 7\u001b[39m schp683     \u001b[4m9\u001b[24m365    \u001b[4m2\u001b[24m\u001b[4m3\u001b[24m866     0.392 \n",
      "\u001b[90m 8\u001b[39m schp689     \u001b[4m8\u001b[24m693    \u001b[4m2\u001b[24m\u001b[4m2\u001b[24m649     0.384 \n",
      "\u001b[90m 9\u001b[39m schp679     \u001b[4m2\u001b[24m528    \u001b[4m1\u001b[24m\u001b[4m9\u001b[24m906     0.127 \n",
      "\u001b[90m10\u001b[39m schp675     \u001b[4m3\u001b[24m687    \u001b[4m2\u001b[24m\u001b[4m0\u001b[24m438     0.180 \n",
      "\u001b[90m11\u001b[39m schp681     \u001b[4m3\u001b[24m705    \u001b[4m2\u001b[24m\u001b[4m0\u001b[24m227     0.183 \n",
      "\u001b[90m12\u001b[39m schp678     \u001b[4m4\u001b[24m378    \u001b[4m2\u001b[24m\u001b[4m0\u001b[24m630     0.212 \n",
      "\u001b[90m13\u001b[39m schp677     \u001b[4m3\u001b[24m967    \u001b[4m2\u001b[24m\u001b[4m0\u001b[24m604     0.193 \n",
      "\u001b[90m14\u001b[39m schp676     \u001b[4m2\u001b[24m657    \u001b[4m2\u001b[24m\u001b[4m0\u001b[24m223     0.131 \n",
      "\u001b[90m15\u001b[39m schp674     \u001b[4m1\u001b[24m270    \u001b[4m2\u001b[24m\u001b[4m0\u001b[24m316     0.062\u001b[4m5\u001b[24m\n",
      "\u001b[90m16\u001b[39m schp680     \u001b[4m1\u001b[24m117    \u001b[4m1\u001b[24m\u001b[4m9\u001b[24m377     0.057\u001b[4m6\u001b[24m\n"
     ]
    }
   ],
   "source": [
    "data <- data %>%\n",
    "  mutate(mean_ratio = mean_yfp / mean_rfp) %>%\n",
    "  print()"
   ]
  },
  {
   "cell_type": "markdown",
   "metadata": {},
   "source": [
    "Use mutate to modify existing columns"
   ]
  },
  {
   "cell_type": "code",
   "execution_count": 77,
   "metadata": {
    "vscode": {
     "languageId": "r"
    }
   },
   "outputs": [
    {
     "data": {
      "text/html": [
       "<table class=\"dataframe\">\n",
       "<caption>A tibble: 16 × 4</caption>\n",
       "<thead>\n",
       "\t<tr><th scope=col>strain</th><th scope=col>mean_yfp</th><th scope=col>mean_rfp</th><th scope=col>mean_ratio</th></tr>\n",
       "\t<tr><th scope=col>&lt;chr&gt;</th><th scope=col>&lt;dbl&gt;</th><th scope=col>&lt;dbl&gt;</th><th scope=col>&lt;dbl&gt;</th></tr>\n",
       "</thead>\n",
       "<tbody>\n",
       "\t<tr><td>schp688</td><td>1748</td><td>20754</td><td>0.08</td></tr>\n",
       "\t<tr><td>schp684</td><td>3294</td><td>20585</td><td>0.16</td></tr>\n",
       "\t<tr><td>schp690</td><td>3535</td><td>20593</td><td>0.17</td></tr>\n",
       "\t<tr><td>schp687</td><td>4658</td><td>20860</td><td>0.22</td></tr>\n",
       "\t<tr><td>schp686</td><td>5000</td><td>21171</td><td>0.24</td></tr>\n",
       "\t<tr><td>schp685</td><td>7379</td><td>22956</td><td>0.32</td></tr>\n",
       "\t<tr><td>schp683</td><td>9365</td><td>23866</td><td>0.39</td></tr>\n",
       "\t<tr><td>schp689</td><td>8693</td><td>22649</td><td>0.38</td></tr>\n",
       "\t<tr><td>schp679</td><td>2528</td><td>19906</td><td>0.13</td></tr>\n",
       "\t<tr><td>schp675</td><td>3687</td><td>20438</td><td>0.18</td></tr>\n",
       "\t<tr><td>schp681</td><td>3705</td><td>20227</td><td>0.18</td></tr>\n",
       "\t<tr><td>schp678</td><td>4378</td><td>20630</td><td>0.21</td></tr>\n",
       "\t<tr><td>schp677</td><td>3967</td><td>20604</td><td>0.19</td></tr>\n",
       "\t<tr><td>schp676</td><td>2657</td><td>20223</td><td>0.13</td></tr>\n",
       "\t<tr><td>schp674</td><td>1270</td><td>20316</td><td>0.06</td></tr>\n",
       "\t<tr><td>schp680</td><td>1117</td><td>19377</td><td>0.06</td></tr>\n",
       "</tbody>\n",
       "</table>\n"
      ],
      "text/latex": [
       "A tibble: 16 × 4\n",
       "\\begin{tabular}{llll}\n",
       " strain & mean\\_yfp & mean\\_rfp & mean\\_ratio\\\\\n",
       " <chr> & <dbl> & <dbl> & <dbl>\\\\\n",
       "\\hline\n",
       "\t schp688 & 1748 & 20754 & 0.08\\\\\n",
       "\t schp684 & 3294 & 20585 & 0.16\\\\\n",
       "\t schp690 & 3535 & 20593 & 0.17\\\\\n",
       "\t schp687 & 4658 & 20860 & 0.22\\\\\n",
       "\t schp686 & 5000 & 21171 & 0.24\\\\\n",
       "\t schp685 & 7379 & 22956 & 0.32\\\\\n",
       "\t schp683 & 9365 & 23866 & 0.39\\\\\n",
       "\t schp689 & 8693 & 22649 & 0.38\\\\\n",
       "\t schp679 & 2528 & 19906 & 0.13\\\\\n",
       "\t schp675 & 3687 & 20438 & 0.18\\\\\n",
       "\t schp681 & 3705 & 20227 & 0.18\\\\\n",
       "\t schp678 & 4378 & 20630 & 0.21\\\\\n",
       "\t schp677 & 3967 & 20604 & 0.19\\\\\n",
       "\t schp676 & 2657 & 20223 & 0.13\\\\\n",
       "\t schp674 & 1270 & 20316 & 0.06\\\\\n",
       "\t schp680 & 1117 & 19377 & 0.06\\\\\n",
       "\\end{tabular}\n"
      ],
      "text/markdown": [
       "\n",
       "A tibble: 16 × 4\n",
       "\n",
       "| strain &lt;chr&gt; | mean_yfp &lt;dbl&gt; | mean_rfp &lt;dbl&gt; | mean_ratio &lt;dbl&gt; |\n",
       "|---|---|---|---|\n",
       "| schp688 | 1748 | 20754 | 0.08 |\n",
       "| schp684 | 3294 | 20585 | 0.16 |\n",
       "| schp690 | 3535 | 20593 | 0.17 |\n",
       "| schp687 | 4658 | 20860 | 0.22 |\n",
       "| schp686 | 5000 | 21171 | 0.24 |\n",
       "| schp685 | 7379 | 22956 | 0.32 |\n",
       "| schp683 | 9365 | 23866 | 0.39 |\n",
       "| schp689 | 8693 | 22649 | 0.38 |\n",
       "| schp679 | 2528 | 19906 | 0.13 |\n",
       "| schp675 | 3687 | 20438 | 0.18 |\n",
       "| schp681 | 3705 | 20227 | 0.18 |\n",
       "| schp678 | 4378 | 20630 | 0.21 |\n",
       "| schp677 | 3967 | 20604 | 0.19 |\n",
       "| schp676 | 2657 | 20223 | 0.13 |\n",
       "| schp674 | 1270 | 20316 | 0.06 |\n",
       "| schp680 | 1117 | 19377 | 0.06 |\n",
       "\n"
      ],
      "text/plain": [
       "   strain  mean_yfp mean_rfp mean_ratio\n",
       "1  schp688 1748     20754    0.08      \n",
       "2  schp684 3294     20585    0.16      \n",
       "3  schp690 3535     20593    0.17      \n",
       "4  schp687 4658     20860    0.22      \n",
       "5  schp686 5000     21171    0.24      \n",
       "6  schp685 7379     22956    0.32      \n",
       "7  schp683 9365     23866    0.39      \n",
       "8  schp689 8693     22649    0.38      \n",
       "9  schp679 2528     19906    0.13      \n",
       "10 schp675 3687     20438    0.18      \n",
       "11 schp681 3705     20227    0.18      \n",
       "12 schp678 4378     20630    0.21      \n",
       "13 schp677 3967     20604    0.19      \n",
       "14 schp676 2657     20223    0.13      \n",
       "15 schp674 1270     20316    0.06      \n",
       "16 schp680 1117     19377    0.06      "
      ]
     },
     "metadata": {},
     "output_type": "display_data"
    }
   ],
   "source": [
    "data %>%\n",
    "  mutate(mean_ratio = round(mean_ratio, 2))"
   ]
  },
  {
   "cell_type": "markdown",
   "metadata": {},
   "source": [
    "## Combine tables using `join` functions\n",
    "\n",
    "Variants: `inner_join`, `left_join`, `right_join`, `full_join`\n",
    "\n",
    "See [https://dplyr.tidyverse.org/reference/mutate-joins.html](https://dplyr.tidyverse.org/reference/mutate-joins.html)"
   ]
  },
  {
   "cell_type": "code",
   "execution_count": 78,
   "metadata": {
    "vscode": {
     "languageId": "r"
    }
   },
   "outputs": [
    {
     "name": "stderr",
     "output_type": "stream",
     "text": [
      "\u001b[1mRows: \u001b[22m\u001b[34m17\u001b[39m \u001b[1mColumns: \u001b[22m\u001b[34m3\u001b[39m\n",
      "\u001b[36m──\u001b[39m \u001b[1mColumn specification\u001b[22m \u001b[36m────────────────────────────────────────────────────────\u001b[39m\n",
      "\u001b[1mDelimiter:\u001b[22m \"\\t\"\n",
      "\u001b[31mchr\u001b[39m (3): strain, insert_sequence, kozak_region\n",
      "\n",
      "\u001b[36mℹ\u001b[39m Use `spec()` to retrieve the full column specification for this data.\n",
      "\u001b[36mℹ\u001b[39m Specify the column types or set `show_col_types = FALSE` to quiet this message.\n"
     ]
    },
    {
     "data": {
      "text/html": [
       "<table class=\"dataframe\">\n",
       "<caption>A spec_tbl_df: 17 × 3</caption>\n",
       "<thead>\n",
       "\t<tr><th scope=col>strain</th><th scope=col>insert_sequence</th><th scope=col>kozak_region</th></tr>\n",
       "\t<tr><th scope=col>&lt;chr&gt;</th><th scope=col>&lt;chr&gt;</th><th scope=col>&lt;chr&gt;</th></tr>\n",
       "</thead>\n",
       "<tbody>\n",
       "\t<tr><td>schp674</td><td>10×AAG</td><td>G </td></tr>\n",
       "\t<tr><td>schp675</td><td>10×AAG</td><td>B </td></tr>\n",
       "\t<tr><td>schp676</td><td>10×AAG</td><td>F </td></tr>\n",
       "\t<tr><td>schp677</td><td>10×AAG</td><td>E </td></tr>\n",
       "\t<tr><td>schp678</td><td>10×AAG</td><td>D </td></tr>\n",
       "\t<tr><td>schp679</td><td>10×AAG</td><td>A </td></tr>\n",
       "\t<tr><td>schp680</td><td>10×AAG</td><td>H </td></tr>\n",
       "\t<tr><td>schp681</td><td>10×AAG</td><td>C </td></tr>\n",
       "\t<tr><td>schp683</td><td>10×AGA</td><td>G </td></tr>\n",
       "\t<tr><td>schp684</td><td>10×AGA</td><td>B </td></tr>\n",
       "\t<tr><td>schp685</td><td>10×AGA</td><td>F </td></tr>\n",
       "\t<tr><td>schp686</td><td>10×AGA</td><td>E </td></tr>\n",
       "\t<tr><td>schp687</td><td>10×AGA</td><td>D </td></tr>\n",
       "\t<tr><td>schp688</td><td>10×AGA</td><td>A </td></tr>\n",
       "\t<tr><td>schp689</td><td>10×AGA</td><td>H </td></tr>\n",
       "\t<tr><td>schp690</td><td>10×AGA</td><td>C </td></tr>\n",
       "\t<tr><td>control</td><td>NA    </td><td>NA</td></tr>\n",
       "</tbody>\n",
       "</table>\n"
      ],
      "text/latex": [
       "A spec\\_tbl\\_df: 17 × 3\n",
       "\\begin{tabular}{lll}\n",
       " strain & insert\\_sequence & kozak\\_region\\\\\n",
       " <chr> & <chr> & <chr>\\\\\n",
       "\\hline\n",
       "\t schp674 & 10×AAG & G \\\\\n",
       "\t schp675 & 10×AAG & B \\\\\n",
       "\t schp676 & 10×AAG & F \\\\\n",
       "\t schp677 & 10×AAG & E \\\\\n",
       "\t schp678 & 10×AAG & D \\\\\n",
       "\t schp679 & 10×AAG & A \\\\\n",
       "\t schp680 & 10×AAG & H \\\\\n",
       "\t schp681 & 10×AAG & C \\\\\n",
       "\t schp683 & 10×AGA & G \\\\\n",
       "\t schp684 & 10×AGA & B \\\\\n",
       "\t schp685 & 10×AGA & F \\\\\n",
       "\t schp686 & 10×AGA & E \\\\\n",
       "\t schp687 & 10×AGA & D \\\\\n",
       "\t schp688 & 10×AGA & A \\\\\n",
       "\t schp689 & 10×AGA & H \\\\\n",
       "\t schp690 & 10×AGA & C \\\\\n",
       "\t control & NA     & NA\\\\\n",
       "\\end{tabular}\n"
      ],
      "text/markdown": [
       "\n",
       "A spec_tbl_df: 17 × 3\n",
       "\n",
       "| strain &lt;chr&gt; | insert_sequence &lt;chr&gt; | kozak_region &lt;chr&gt; |\n",
       "|---|---|---|\n",
       "| schp674 | 10×AAG | G  |\n",
       "| schp675 | 10×AAG | B  |\n",
       "| schp676 | 10×AAG | F  |\n",
       "| schp677 | 10×AAG | E  |\n",
       "| schp678 | 10×AAG | D  |\n",
       "| schp679 | 10×AAG | A  |\n",
       "| schp680 | 10×AAG | H  |\n",
       "| schp681 | 10×AAG | C  |\n",
       "| schp683 | 10×AGA | G  |\n",
       "| schp684 | 10×AGA | B  |\n",
       "| schp685 | 10×AGA | F  |\n",
       "| schp686 | 10×AGA | E  |\n",
       "| schp687 | 10×AGA | D  |\n",
       "| schp688 | 10×AGA | A  |\n",
       "| schp689 | 10×AGA | H  |\n",
       "| schp690 | 10×AGA | C  |\n",
       "| control | NA     | NA |\n",
       "\n"
      ],
      "text/plain": [
       "   strain  insert_sequence kozak_region\n",
       "1  schp674 10×AAG          G           \n",
       "2  schp675 10×AAG          B           \n",
       "3  schp676 10×AAG          F           \n",
       "4  schp677 10×AAG          E           \n",
       "5  schp678 10×AAG          D           \n",
       "6  schp679 10×AAG          A           \n",
       "7  schp680 10×AAG          H           \n",
       "8  schp681 10×AAG          C           \n",
       "9  schp683 10×AGA          G           \n",
       "10 schp684 10×AGA          B           \n",
       "11 schp685 10×AGA          F           \n",
       "12 schp686 10×AGA          E           \n",
       "13 schp687 10×AGA          D           \n",
       "14 schp688 10×AGA          A           \n",
       "15 schp689 10×AGA          H           \n",
       "16 schp690 10×AGA          C           \n",
       "17 control NA              NA          "
      ]
     },
     "metadata": {},
     "output_type": "display_data"
    }
   ],
   "source": [
    "annotations <- read_tsv(\"data/example_dataset_3.tsv\")\n",
    "\n",
    "annotations"
   ]
  },
  {
   "cell_type": "code",
   "execution_count": 83,
   "metadata": {
    "vscode": {
     "languageId": "r"
    }
   },
   "outputs": [
    {
     "data": {
      "text/html": [
       "<table class=\"dataframe\">\n",
       "<caption>A tibble: 16 × 4</caption>\n",
       "<thead>\n",
       "\t<tr><th scope=col>strain</th><th scope=col>mean_yfp</th><th scope=col>mean_rfp</th><th scope=col>mean_ratio</th></tr>\n",
       "\t<tr><th scope=col>&lt;chr&gt;</th><th scope=col>&lt;dbl&gt;</th><th scope=col>&lt;dbl&gt;</th><th scope=col>&lt;dbl&gt;</th></tr>\n",
       "</thead>\n",
       "<tbody>\n",
       "\t<tr><td>schp688</td><td>1748</td><td>20754</td><td>0.08422473</td></tr>\n",
       "\t<tr><td>schp684</td><td>3294</td><td>20585</td><td>0.16001943</td></tr>\n",
       "\t<tr><td>schp690</td><td>3535</td><td>20593</td><td>0.17166027</td></tr>\n",
       "\t<tr><td>schp687</td><td>4658</td><td>20860</td><td>0.22329818</td></tr>\n",
       "\t<tr><td>schp686</td><td>5000</td><td>21171</td><td>0.23617212</td></tr>\n",
       "\t<tr><td>schp685</td><td>7379</td><td>22956</td><td>0.32144102</td></tr>\n",
       "\t<tr><td>schp683</td><td>9365</td><td>23866</td><td>0.39239923</td></tr>\n",
       "\t<tr><td>schp689</td><td>8693</td><td>22649</td><td>0.38381385</td></tr>\n",
       "\t<tr><td>schp679</td><td>2528</td><td>19906</td><td>0.12699689</td></tr>\n",
       "\t<tr><td>schp675</td><td>3687</td><td>20438</td><td>0.18039926</td></tr>\n",
       "\t<tr><td>schp681</td><td>3705</td><td>20227</td><td>0.18317101</td></tr>\n",
       "\t<tr><td>schp678</td><td>4378</td><td>20630</td><td>0.21221522</td></tr>\n",
       "\t<tr><td>schp677</td><td>3967</td><td>20604</td><td>0.19253543</td></tr>\n",
       "\t<tr><td>schp676</td><td>2657</td><td>20223</td><td>0.13138506</td></tr>\n",
       "\t<tr><td>schp674</td><td>1270</td><td>20316</td><td>0.06251231</td></tr>\n",
       "\t<tr><td>schp680</td><td>1117</td><td>19377</td><td>0.05764566</td></tr>\n",
       "</tbody>\n",
       "</table>\n"
      ],
      "text/latex": [
       "A tibble: 16 × 4\n",
       "\\begin{tabular}{llll}\n",
       " strain & mean\\_yfp & mean\\_rfp & mean\\_ratio\\\\\n",
       " <chr> & <dbl> & <dbl> & <dbl>\\\\\n",
       "\\hline\n",
       "\t schp688 & 1748 & 20754 & 0.08422473\\\\\n",
       "\t schp684 & 3294 & 20585 & 0.16001943\\\\\n",
       "\t schp690 & 3535 & 20593 & 0.17166027\\\\\n",
       "\t schp687 & 4658 & 20860 & 0.22329818\\\\\n",
       "\t schp686 & 5000 & 21171 & 0.23617212\\\\\n",
       "\t schp685 & 7379 & 22956 & 0.32144102\\\\\n",
       "\t schp683 & 9365 & 23866 & 0.39239923\\\\\n",
       "\t schp689 & 8693 & 22649 & 0.38381385\\\\\n",
       "\t schp679 & 2528 & 19906 & 0.12699689\\\\\n",
       "\t schp675 & 3687 & 20438 & 0.18039926\\\\\n",
       "\t schp681 & 3705 & 20227 & 0.18317101\\\\\n",
       "\t schp678 & 4378 & 20630 & 0.21221522\\\\\n",
       "\t schp677 & 3967 & 20604 & 0.19253543\\\\\n",
       "\t schp676 & 2657 & 20223 & 0.13138506\\\\\n",
       "\t schp674 & 1270 & 20316 & 0.06251231\\\\\n",
       "\t schp680 & 1117 & 19377 & 0.05764566\\\\\n",
       "\\end{tabular}\n"
      ],
      "text/markdown": [
       "\n",
       "A tibble: 16 × 4\n",
       "\n",
       "| strain &lt;chr&gt; | mean_yfp &lt;dbl&gt; | mean_rfp &lt;dbl&gt; | mean_ratio &lt;dbl&gt; |\n",
       "|---|---|---|---|\n",
       "| schp688 | 1748 | 20754 | 0.08422473 |\n",
       "| schp684 | 3294 | 20585 | 0.16001943 |\n",
       "| schp690 | 3535 | 20593 | 0.17166027 |\n",
       "| schp687 | 4658 | 20860 | 0.22329818 |\n",
       "| schp686 | 5000 | 21171 | 0.23617212 |\n",
       "| schp685 | 7379 | 22956 | 0.32144102 |\n",
       "| schp683 | 9365 | 23866 | 0.39239923 |\n",
       "| schp689 | 8693 | 22649 | 0.38381385 |\n",
       "| schp679 | 2528 | 19906 | 0.12699689 |\n",
       "| schp675 | 3687 | 20438 | 0.18039926 |\n",
       "| schp681 | 3705 | 20227 | 0.18317101 |\n",
       "| schp678 | 4378 | 20630 | 0.21221522 |\n",
       "| schp677 | 3967 | 20604 | 0.19253543 |\n",
       "| schp676 | 2657 | 20223 | 0.13138506 |\n",
       "| schp674 | 1270 | 20316 | 0.06251231 |\n",
       "| schp680 | 1117 | 19377 | 0.05764566 |\n",
       "\n"
      ],
      "text/plain": [
       "   strain  mean_yfp mean_rfp mean_ratio\n",
       "1  schp688 1748     20754    0.08422473\n",
       "2  schp684 3294     20585    0.16001943\n",
       "3  schp690 3535     20593    0.17166027\n",
       "4  schp687 4658     20860    0.22329818\n",
       "5  schp686 5000     21171    0.23617212\n",
       "6  schp685 7379     22956    0.32144102\n",
       "7  schp683 9365     23866    0.39239923\n",
       "8  schp689 8693     22649    0.38381385\n",
       "9  schp679 2528     19906    0.12699689\n",
       "10 schp675 3687     20438    0.18039926\n",
       "11 schp681 3705     20227    0.18317101\n",
       "12 schp678 4378     20630    0.21221522\n",
       "13 schp677 3967     20604    0.19253543\n",
       "14 schp676 2657     20223    0.13138506\n",
       "15 schp674 1270     20316    0.06251231\n",
       "16 schp680 1117     19377    0.05764566"
      ]
     },
     "metadata": {},
     "output_type": "display_data"
    }
   ],
   "source": [
    "data"
   ]
  },
  {
   "cell_type": "code",
   "execution_count": 79,
   "metadata": {
    "vscode": {
     "languageId": "r"
    }
   },
   "outputs": [
    {
     "data": {
      "text/html": [
       "<table class=\"dataframe\">\n",
       "<caption>A tibble: 16 × 6</caption>\n",
       "<thead>\n",
       "\t<tr><th scope=col>strain</th><th scope=col>mean_yfp</th><th scope=col>mean_rfp</th><th scope=col>mean_ratio</th><th scope=col>insert_sequence</th><th scope=col>kozak_region</th></tr>\n",
       "\t<tr><th scope=col>&lt;chr&gt;</th><th scope=col>&lt;dbl&gt;</th><th scope=col>&lt;dbl&gt;</th><th scope=col>&lt;dbl&gt;</th><th scope=col>&lt;chr&gt;</th><th scope=col>&lt;chr&gt;</th></tr>\n",
       "</thead>\n",
       "<tbody>\n",
       "\t<tr><td>schp688</td><td>1748</td><td>20754</td><td>0.08422473</td><td>10×AGA</td><td>A</td></tr>\n",
       "\t<tr><td>schp684</td><td>3294</td><td>20585</td><td>0.16001943</td><td>10×AGA</td><td>B</td></tr>\n",
       "\t<tr><td>schp690</td><td>3535</td><td>20593</td><td>0.17166027</td><td>10×AGA</td><td>C</td></tr>\n",
       "\t<tr><td>schp687</td><td>4658</td><td>20860</td><td>0.22329818</td><td>10×AGA</td><td>D</td></tr>\n",
       "\t<tr><td>schp686</td><td>5000</td><td>21171</td><td>0.23617212</td><td>10×AGA</td><td>E</td></tr>\n",
       "\t<tr><td>schp685</td><td>7379</td><td>22956</td><td>0.32144102</td><td>10×AGA</td><td>F</td></tr>\n",
       "\t<tr><td>schp683</td><td>9365</td><td>23866</td><td>0.39239923</td><td>10×AGA</td><td>G</td></tr>\n",
       "\t<tr><td>schp689</td><td>8693</td><td>22649</td><td>0.38381385</td><td>10×AGA</td><td>H</td></tr>\n",
       "\t<tr><td>schp679</td><td>2528</td><td>19906</td><td>0.12699689</td><td>10×AAG</td><td>A</td></tr>\n",
       "\t<tr><td>schp675</td><td>3687</td><td>20438</td><td>0.18039926</td><td>10×AAG</td><td>B</td></tr>\n",
       "\t<tr><td>schp681</td><td>3705</td><td>20227</td><td>0.18317101</td><td>10×AAG</td><td>C</td></tr>\n",
       "\t<tr><td>schp678</td><td>4378</td><td>20630</td><td>0.21221522</td><td>10×AAG</td><td>D</td></tr>\n",
       "\t<tr><td>schp677</td><td>3967</td><td>20604</td><td>0.19253543</td><td>10×AAG</td><td>E</td></tr>\n",
       "\t<tr><td>schp676</td><td>2657</td><td>20223</td><td>0.13138506</td><td>10×AAG</td><td>F</td></tr>\n",
       "\t<tr><td>schp674</td><td>1270</td><td>20316</td><td>0.06251231</td><td>10×AAG</td><td>G</td></tr>\n",
       "\t<tr><td>schp680</td><td>1117</td><td>19377</td><td>0.05764566</td><td>10×AAG</td><td>H</td></tr>\n",
       "</tbody>\n",
       "</table>\n"
      ],
      "text/latex": [
       "A tibble: 16 × 6\n",
       "\\begin{tabular}{llllll}\n",
       " strain & mean\\_yfp & mean\\_rfp & mean\\_ratio & insert\\_sequence & kozak\\_region\\\\\n",
       " <chr> & <dbl> & <dbl> & <dbl> & <chr> & <chr>\\\\\n",
       "\\hline\n",
       "\t schp688 & 1748 & 20754 & 0.08422473 & 10×AGA & A\\\\\n",
       "\t schp684 & 3294 & 20585 & 0.16001943 & 10×AGA & B\\\\\n",
       "\t schp690 & 3535 & 20593 & 0.17166027 & 10×AGA & C\\\\\n",
       "\t schp687 & 4658 & 20860 & 0.22329818 & 10×AGA & D\\\\\n",
       "\t schp686 & 5000 & 21171 & 0.23617212 & 10×AGA & E\\\\\n",
       "\t schp685 & 7379 & 22956 & 0.32144102 & 10×AGA & F\\\\\n",
       "\t schp683 & 9365 & 23866 & 0.39239923 & 10×AGA & G\\\\\n",
       "\t schp689 & 8693 & 22649 & 0.38381385 & 10×AGA & H\\\\\n",
       "\t schp679 & 2528 & 19906 & 0.12699689 & 10×AAG & A\\\\\n",
       "\t schp675 & 3687 & 20438 & 0.18039926 & 10×AAG & B\\\\\n",
       "\t schp681 & 3705 & 20227 & 0.18317101 & 10×AAG & C\\\\\n",
       "\t schp678 & 4378 & 20630 & 0.21221522 & 10×AAG & D\\\\\n",
       "\t schp677 & 3967 & 20604 & 0.19253543 & 10×AAG & E\\\\\n",
       "\t schp676 & 2657 & 20223 & 0.13138506 & 10×AAG & F\\\\\n",
       "\t schp674 & 1270 & 20316 & 0.06251231 & 10×AAG & G\\\\\n",
       "\t schp680 & 1117 & 19377 & 0.05764566 & 10×AAG & H\\\\\n",
       "\\end{tabular}\n"
      ],
      "text/markdown": [
       "\n",
       "A tibble: 16 × 6\n",
       "\n",
       "| strain &lt;chr&gt; | mean_yfp &lt;dbl&gt; | mean_rfp &lt;dbl&gt; | mean_ratio &lt;dbl&gt; | insert_sequence &lt;chr&gt; | kozak_region &lt;chr&gt; |\n",
       "|---|---|---|---|---|---|\n",
       "| schp688 | 1748 | 20754 | 0.08422473 | 10×AGA | A |\n",
       "| schp684 | 3294 | 20585 | 0.16001943 | 10×AGA | B |\n",
       "| schp690 | 3535 | 20593 | 0.17166027 | 10×AGA | C |\n",
       "| schp687 | 4658 | 20860 | 0.22329818 | 10×AGA | D |\n",
       "| schp686 | 5000 | 21171 | 0.23617212 | 10×AGA | E |\n",
       "| schp685 | 7379 | 22956 | 0.32144102 | 10×AGA | F |\n",
       "| schp683 | 9365 | 23866 | 0.39239923 | 10×AGA | G |\n",
       "| schp689 | 8693 | 22649 | 0.38381385 | 10×AGA | H |\n",
       "| schp679 | 2528 | 19906 | 0.12699689 | 10×AAG | A |\n",
       "| schp675 | 3687 | 20438 | 0.18039926 | 10×AAG | B |\n",
       "| schp681 | 3705 | 20227 | 0.18317101 | 10×AAG | C |\n",
       "| schp678 | 4378 | 20630 | 0.21221522 | 10×AAG | D |\n",
       "| schp677 | 3967 | 20604 | 0.19253543 | 10×AAG | E |\n",
       "| schp676 | 2657 | 20223 | 0.13138506 | 10×AAG | F |\n",
       "| schp674 | 1270 | 20316 | 0.06251231 | 10×AAG | G |\n",
       "| schp680 | 1117 | 19377 | 0.05764566 | 10×AAG | H |\n",
       "\n"
      ],
      "text/plain": [
       "   strain  mean_yfp mean_rfp mean_ratio insert_sequence kozak_region\n",
       "1  schp688 1748     20754    0.08422473 10×AGA          A           \n",
       "2  schp684 3294     20585    0.16001943 10×AGA          B           \n",
       "3  schp690 3535     20593    0.17166027 10×AGA          C           \n",
       "4  schp687 4658     20860    0.22329818 10×AGA          D           \n",
       "5  schp686 5000     21171    0.23617212 10×AGA          E           \n",
       "6  schp685 7379     22956    0.32144102 10×AGA          F           \n",
       "7  schp683 9365     23866    0.39239923 10×AGA          G           \n",
       "8  schp689 8693     22649    0.38381385 10×AGA          H           \n",
       "9  schp679 2528     19906    0.12699689 10×AAG          A           \n",
       "10 schp675 3687     20438    0.18039926 10×AAG          B           \n",
       "11 schp681 3705     20227    0.18317101 10×AAG          C           \n",
       "12 schp678 4378     20630    0.21221522 10×AAG          D           \n",
       "13 schp677 3967     20604    0.19253543 10×AAG          E           \n",
       "14 schp676 2657     20223    0.13138506 10×AAG          F           \n",
       "15 schp674 1270     20316    0.06251231 10×AAG          G           \n",
       "16 schp680 1117     19377    0.05764566 10×AAG          H           "
      ]
     },
     "metadata": {},
     "output_type": "display_data"
    }
   ],
   "source": [
    "data %>% \n",
    "  inner_join(annotations, by = \"strain\")"
   ]
  },
  {
   "cell_type": "code",
   "execution_count": 81,
   "metadata": {
    "vscode": {
     "languageId": "r"
    }
   },
   "outputs": [
    {
     "data": {
      "text/html": [
       "<table class=\"dataframe\">\n",
       "<caption>A tibble: 16 × 6</caption>\n",
       "<thead>\n",
       "\t<tr><th scope=col>strain</th><th scope=col>mean_yfp</th><th scope=col>mean_rfp</th><th scope=col>mean_ratio</th><th scope=col>insert_sequence</th><th scope=col>kozak_region</th></tr>\n",
       "\t<tr><th scope=col>&lt;chr&gt;</th><th scope=col>&lt;dbl&gt;</th><th scope=col>&lt;dbl&gt;</th><th scope=col>&lt;dbl&gt;</th><th scope=col>&lt;chr&gt;</th><th scope=col>&lt;chr&gt;</th></tr>\n",
       "</thead>\n",
       "<tbody>\n",
       "\t<tr><td>schp688</td><td>1748</td><td>20754</td><td>0.08422473</td><td>10×AGA</td><td>A</td></tr>\n",
       "\t<tr><td>schp684</td><td>3294</td><td>20585</td><td>0.16001943</td><td>10×AGA</td><td>B</td></tr>\n",
       "\t<tr><td>schp690</td><td>3535</td><td>20593</td><td>0.17166027</td><td>10×AGA</td><td>C</td></tr>\n",
       "\t<tr><td>schp687</td><td>4658</td><td>20860</td><td>0.22329818</td><td>10×AGA</td><td>D</td></tr>\n",
       "\t<tr><td>schp686</td><td>5000</td><td>21171</td><td>0.23617212</td><td>10×AGA</td><td>E</td></tr>\n",
       "\t<tr><td>schp685</td><td>7379</td><td>22956</td><td>0.32144102</td><td>10×AGA</td><td>F</td></tr>\n",
       "\t<tr><td>schp683</td><td>9365</td><td>23866</td><td>0.39239923</td><td>10×AGA</td><td>G</td></tr>\n",
       "\t<tr><td>schp689</td><td>8693</td><td>22649</td><td>0.38381385</td><td>10×AGA</td><td>H</td></tr>\n",
       "\t<tr><td>schp679</td><td>2528</td><td>19906</td><td>0.12699689</td><td>10×AAG</td><td>A</td></tr>\n",
       "\t<tr><td>schp675</td><td>3687</td><td>20438</td><td>0.18039926</td><td>10×AAG</td><td>B</td></tr>\n",
       "\t<tr><td>schp681</td><td>3705</td><td>20227</td><td>0.18317101</td><td>10×AAG</td><td>C</td></tr>\n",
       "\t<tr><td>schp678</td><td>4378</td><td>20630</td><td>0.21221522</td><td>10×AAG</td><td>D</td></tr>\n",
       "\t<tr><td>schp677</td><td>3967</td><td>20604</td><td>0.19253543</td><td>10×AAG</td><td>E</td></tr>\n",
       "\t<tr><td>schp676</td><td>2657</td><td>20223</td><td>0.13138506</td><td>10×AAG</td><td>F</td></tr>\n",
       "\t<tr><td>schp674</td><td>1270</td><td>20316</td><td>0.06251231</td><td>10×AAG</td><td>G</td></tr>\n",
       "\t<tr><td>schp680</td><td>1117</td><td>19377</td><td>0.05764566</td><td>10×AAG</td><td>H</td></tr>\n",
       "</tbody>\n",
       "</table>\n"
      ],
      "text/latex": [
       "A tibble: 16 × 6\n",
       "\\begin{tabular}{llllll}\n",
       " strain & mean\\_yfp & mean\\_rfp & mean\\_ratio & insert\\_sequence & kozak\\_region\\\\\n",
       " <chr> & <dbl> & <dbl> & <dbl> & <chr> & <chr>\\\\\n",
       "\\hline\n",
       "\t schp688 & 1748 & 20754 & 0.08422473 & 10×AGA & A\\\\\n",
       "\t schp684 & 3294 & 20585 & 0.16001943 & 10×AGA & B\\\\\n",
       "\t schp690 & 3535 & 20593 & 0.17166027 & 10×AGA & C\\\\\n",
       "\t schp687 & 4658 & 20860 & 0.22329818 & 10×AGA & D\\\\\n",
       "\t schp686 & 5000 & 21171 & 0.23617212 & 10×AGA & E\\\\\n",
       "\t schp685 & 7379 & 22956 & 0.32144102 & 10×AGA & F\\\\\n",
       "\t schp683 & 9365 & 23866 & 0.39239923 & 10×AGA & G\\\\\n",
       "\t schp689 & 8693 & 22649 & 0.38381385 & 10×AGA & H\\\\\n",
       "\t schp679 & 2528 & 19906 & 0.12699689 & 10×AAG & A\\\\\n",
       "\t schp675 & 3687 & 20438 & 0.18039926 & 10×AAG & B\\\\\n",
       "\t schp681 & 3705 & 20227 & 0.18317101 & 10×AAG & C\\\\\n",
       "\t schp678 & 4378 & 20630 & 0.21221522 & 10×AAG & D\\\\\n",
       "\t schp677 & 3967 & 20604 & 0.19253543 & 10×AAG & E\\\\\n",
       "\t schp676 & 2657 & 20223 & 0.13138506 & 10×AAG & F\\\\\n",
       "\t schp674 & 1270 & 20316 & 0.06251231 & 10×AAG & G\\\\\n",
       "\t schp680 & 1117 & 19377 & 0.05764566 & 10×AAG & H\\\\\n",
       "\\end{tabular}\n"
      ],
      "text/markdown": [
       "\n",
       "A tibble: 16 × 6\n",
       "\n",
       "| strain &lt;chr&gt; | mean_yfp &lt;dbl&gt; | mean_rfp &lt;dbl&gt; | mean_ratio &lt;dbl&gt; | insert_sequence &lt;chr&gt; | kozak_region &lt;chr&gt; |\n",
       "|---|---|---|---|---|---|\n",
       "| schp688 | 1748 | 20754 | 0.08422473 | 10×AGA | A |\n",
       "| schp684 | 3294 | 20585 | 0.16001943 | 10×AGA | B |\n",
       "| schp690 | 3535 | 20593 | 0.17166027 | 10×AGA | C |\n",
       "| schp687 | 4658 | 20860 | 0.22329818 | 10×AGA | D |\n",
       "| schp686 | 5000 | 21171 | 0.23617212 | 10×AGA | E |\n",
       "| schp685 | 7379 | 22956 | 0.32144102 | 10×AGA | F |\n",
       "| schp683 | 9365 | 23866 | 0.39239923 | 10×AGA | G |\n",
       "| schp689 | 8693 | 22649 | 0.38381385 | 10×AGA | H |\n",
       "| schp679 | 2528 | 19906 | 0.12699689 | 10×AAG | A |\n",
       "| schp675 | 3687 | 20438 | 0.18039926 | 10×AAG | B |\n",
       "| schp681 | 3705 | 20227 | 0.18317101 | 10×AAG | C |\n",
       "| schp678 | 4378 | 20630 | 0.21221522 | 10×AAG | D |\n",
       "| schp677 | 3967 | 20604 | 0.19253543 | 10×AAG | E |\n",
       "| schp676 | 2657 | 20223 | 0.13138506 | 10×AAG | F |\n",
       "| schp674 | 1270 | 20316 | 0.06251231 | 10×AAG | G |\n",
       "| schp680 | 1117 | 19377 | 0.05764566 | 10×AAG | H |\n",
       "\n"
      ],
      "text/plain": [
       "   strain  mean_yfp mean_rfp mean_ratio insert_sequence kozak_region\n",
       "1  schp688 1748     20754    0.08422473 10×AGA          A           \n",
       "2  schp684 3294     20585    0.16001943 10×AGA          B           \n",
       "3  schp690 3535     20593    0.17166027 10×AGA          C           \n",
       "4  schp687 4658     20860    0.22329818 10×AGA          D           \n",
       "5  schp686 5000     21171    0.23617212 10×AGA          E           \n",
       "6  schp685 7379     22956    0.32144102 10×AGA          F           \n",
       "7  schp683 9365     23866    0.39239923 10×AGA          G           \n",
       "8  schp689 8693     22649    0.38381385 10×AGA          H           \n",
       "9  schp679 2528     19906    0.12699689 10×AAG          A           \n",
       "10 schp675 3687     20438    0.18039926 10×AAG          B           \n",
       "11 schp681 3705     20227    0.18317101 10×AAG          C           \n",
       "12 schp678 4378     20630    0.21221522 10×AAG          D           \n",
       "13 schp677 3967     20604    0.19253543 10×AAG          E           \n",
       "14 schp676 2657     20223    0.13138506 10×AAG          F           \n",
       "15 schp674 1270     20316    0.06251231 10×AAG          G           \n",
       "16 schp680 1117     19377    0.05764566 10×AAG          H           "
      ]
     },
     "metadata": {},
     "output_type": "display_data"
    }
   ],
   "source": [
    "data %>% \n",
    "  left_join(annotations, by = \"strain\")"
   ]
  },
  {
   "cell_type": "code",
   "execution_count": 82,
   "metadata": {
    "vscode": {
     "languageId": "r"
    }
   },
   "outputs": [
    {
     "data": {
      "text/html": [
       "<table class=\"dataframe\">\n",
       "<caption>A tibble: 17 × 6</caption>\n",
       "<thead>\n",
       "\t<tr><th scope=col>strain</th><th scope=col>mean_yfp</th><th scope=col>mean_rfp</th><th scope=col>mean_ratio</th><th scope=col>insert_sequence</th><th scope=col>kozak_region</th></tr>\n",
       "\t<tr><th scope=col>&lt;chr&gt;</th><th scope=col>&lt;dbl&gt;</th><th scope=col>&lt;dbl&gt;</th><th scope=col>&lt;dbl&gt;</th><th scope=col>&lt;chr&gt;</th><th scope=col>&lt;chr&gt;</th></tr>\n",
       "</thead>\n",
       "<tbody>\n",
       "\t<tr><td>schp688</td><td>1748</td><td>20754</td><td>0.08422473</td><td>10×AGA</td><td>A </td></tr>\n",
       "\t<tr><td>schp684</td><td>3294</td><td>20585</td><td>0.16001943</td><td>10×AGA</td><td>B </td></tr>\n",
       "\t<tr><td>schp690</td><td>3535</td><td>20593</td><td>0.17166027</td><td>10×AGA</td><td>C </td></tr>\n",
       "\t<tr><td>schp687</td><td>4658</td><td>20860</td><td>0.22329818</td><td>10×AGA</td><td>D </td></tr>\n",
       "\t<tr><td>schp686</td><td>5000</td><td>21171</td><td>0.23617212</td><td>10×AGA</td><td>E </td></tr>\n",
       "\t<tr><td>schp685</td><td>7379</td><td>22956</td><td>0.32144102</td><td>10×AGA</td><td>F </td></tr>\n",
       "\t<tr><td>schp683</td><td>9365</td><td>23866</td><td>0.39239923</td><td>10×AGA</td><td>G </td></tr>\n",
       "\t<tr><td>schp689</td><td>8693</td><td>22649</td><td>0.38381385</td><td>10×AGA</td><td>H </td></tr>\n",
       "\t<tr><td>schp679</td><td>2528</td><td>19906</td><td>0.12699689</td><td>10×AAG</td><td>A </td></tr>\n",
       "\t<tr><td>schp675</td><td>3687</td><td>20438</td><td>0.18039926</td><td>10×AAG</td><td>B </td></tr>\n",
       "\t<tr><td>schp681</td><td>3705</td><td>20227</td><td>0.18317101</td><td>10×AAG</td><td>C </td></tr>\n",
       "\t<tr><td>schp678</td><td>4378</td><td>20630</td><td>0.21221522</td><td>10×AAG</td><td>D </td></tr>\n",
       "\t<tr><td>schp677</td><td>3967</td><td>20604</td><td>0.19253543</td><td>10×AAG</td><td>E </td></tr>\n",
       "\t<tr><td>schp676</td><td>2657</td><td>20223</td><td>0.13138506</td><td>10×AAG</td><td>F </td></tr>\n",
       "\t<tr><td>schp674</td><td>1270</td><td>20316</td><td>0.06251231</td><td>10×AAG</td><td>G </td></tr>\n",
       "\t<tr><td>schp680</td><td>1117</td><td>19377</td><td>0.05764566</td><td>10×AAG</td><td>H </td></tr>\n",
       "\t<tr><td>control</td><td>  NA</td><td>   NA</td><td>        NA</td><td>NA    </td><td>NA</td></tr>\n",
       "</tbody>\n",
       "</table>\n"
      ],
      "text/latex": [
       "A tibble: 17 × 6\n",
       "\\begin{tabular}{llllll}\n",
       " strain & mean\\_yfp & mean\\_rfp & mean\\_ratio & insert\\_sequence & kozak\\_region\\\\\n",
       " <chr> & <dbl> & <dbl> & <dbl> & <chr> & <chr>\\\\\n",
       "\\hline\n",
       "\t schp688 & 1748 & 20754 & 0.08422473 & 10×AGA & A \\\\\n",
       "\t schp684 & 3294 & 20585 & 0.16001943 & 10×AGA & B \\\\\n",
       "\t schp690 & 3535 & 20593 & 0.17166027 & 10×AGA & C \\\\\n",
       "\t schp687 & 4658 & 20860 & 0.22329818 & 10×AGA & D \\\\\n",
       "\t schp686 & 5000 & 21171 & 0.23617212 & 10×AGA & E \\\\\n",
       "\t schp685 & 7379 & 22956 & 0.32144102 & 10×AGA & F \\\\\n",
       "\t schp683 & 9365 & 23866 & 0.39239923 & 10×AGA & G \\\\\n",
       "\t schp689 & 8693 & 22649 & 0.38381385 & 10×AGA & H \\\\\n",
       "\t schp679 & 2528 & 19906 & 0.12699689 & 10×AAG & A \\\\\n",
       "\t schp675 & 3687 & 20438 & 0.18039926 & 10×AAG & B \\\\\n",
       "\t schp681 & 3705 & 20227 & 0.18317101 & 10×AAG & C \\\\\n",
       "\t schp678 & 4378 & 20630 & 0.21221522 & 10×AAG & D \\\\\n",
       "\t schp677 & 3967 & 20604 & 0.19253543 & 10×AAG & E \\\\\n",
       "\t schp676 & 2657 & 20223 & 0.13138506 & 10×AAG & F \\\\\n",
       "\t schp674 & 1270 & 20316 & 0.06251231 & 10×AAG & G \\\\\n",
       "\t schp680 & 1117 & 19377 & 0.05764566 & 10×AAG & H \\\\\n",
       "\t control &   NA &    NA &         NA & NA     & NA\\\\\n",
       "\\end{tabular}\n"
      ],
      "text/markdown": [
       "\n",
       "A tibble: 17 × 6\n",
       "\n",
       "| strain &lt;chr&gt; | mean_yfp &lt;dbl&gt; | mean_rfp &lt;dbl&gt; | mean_ratio &lt;dbl&gt; | insert_sequence &lt;chr&gt; | kozak_region &lt;chr&gt; |\n",
       "|---|---|---|---|---|---|\n",
       "| schp688 | 1748 | 20754 | 0.08422473 | 10×AGA | A  |\n",
       "| schp684 | 3294 | 20585 | 0.16001943 | 10×AGA | B  |\n",
       "| schp690 | 3535 | 20593 | 0.17166027 | 10×AGA | C  |\n",
       "| schp687 | 4658 | 20860 | 0.22329818 | 10×AGA | D  |\n",
       "| schp686 | 5000 | 21171 | 0.23617212 | 10×AGA | E  |\n",
       "| schp685 | 7379 | 22956 | 0.32144102 | 10×AGA | F  |\n",
       "| schp683 | 9365 | 23866 | 0.39239923 | 10×AGA | G  |\n",
       "| schp689 | 8693 | 22649 | 0.38381385 | 10×AGA | H  |\n",
       "| schp679 | 2528 | 19906 | 0.12699689 | 10×AAG | A  |\n",
       "| schp675 | 3687 | 20438 | 0.18039926 | 10×AAG | B  |\n",
       "| schp681 | 3705 | 20227 | 0.18317101 | 10×AAG | C  |\n",
       "| schp678 | 4378 | 20630 | 0.21221522 | 10×AAG | D  |\n",
       "| schp677 | 3967 | 20604 | 0.19253543 | 10×AAG | E  |\n",
       "| schp676 | 2657 | 20223 | 0.13138506 | 10×AAG | F  |\n",
       "| schp674 | 1270 | 20316 | 0.06251231 | 10×AAG | G  |\n",
       "| schp680 | 1117 | 19377 | 0.05764566 | 10×AAG | H  |\n",
       "| control |   NA |    NA |         NA | NA     | NA |\n",
       "\n"
      ],
      "text/plain": [
       "   strain  mean_yfp mean_rfp mean_ratio insert_sequence kozak_region\n",
       "1  schp688 1748     20754    0.08422473 10×AGA          A           \n",
       "2  schp684 3294     20585    0.16001943 10×AGA          B           \n",
       "3  schp690 3535     20593    0.17166027 10×AGA          C           \n",
       "4  schp687 4658     20860    0.22329818 10×AGA          D           \n",
       "5  schp686 5000     21171    0.23617212 10×AGA          E           \n",
       "6  schp685 7379     22956    0.32144102 10×AGA          F           \n",
       "7  schp683 9365     23866    0.39239923 10×AGA          G           \n",
       "8  schp689 8693     22649    0.38381385 10×AGA          H           \n",
       "9  schp679 2528     19906    0.12699689 10×AAG          A           \n",
       "10 schp675 3687     20438    0.18039926 10×AAG          B           \n",
       "11 schp681 3705     20227    0.18317101 10×AAG          C           \n",
       "12 schp678 4378     20630    0.21221522 10×AAG          D           \n",
       "13 schp677 3967     20604    0.19253543 10×AAG          E           \n",
       "14 schp676 2657     20223    0.13138506 10×AAG          F           \n",
       "15 schp674 1270     20316    0.06251231 10×AAG          G           \n",
       "16 schp680 1117     19377    0.05764566 10×AAG          H           \n",
       "17 control   NA        NA            NA NA              NA          "
      ]
     },
     "metadata": {},
     "output_type": "display_data"
    }
   ],
   "source": [
    "data %>% \n",
    "  right_join(annotations, by = \"strain\")"
   ]
  },
  {
   "cell_type": "markdown",
   "metadata": {},
   "source": [
    "## You can combine `dplyr` and `ggplot2` functions\n",
    "\n",
    "But remember to use ` %>% ` in `dplyr` vs ` +` in `ggplot2`!"
   ]
  },
  {
   "cell_type": "code",
   "execution_count": 84,
   "metadata": {
    "vscode": {
     "languageId": "r"
    }
   },
   "outputs": [
    {
     "data": {
      "image/png": "[encoded data removed]",
      "text/plain": [
       "plot without title"
      ]
     },
     "metadata": {
      "image/png": {
       "height": 240,
       "width": 480
      }
     },
     "output_type": "display_data"
    }
   ],
   "source": [
    "data %>% \n",
    "  mutate(mean_ratio = mean_yfp / mean_rfp) %>%\n",
    "  left_join(annotations, by = \"strain\") %>%\n",
    "  ggplot(aes(x = kozak_region, y = mean_ratio, \n",
    "             color = insert_sequence, group = insert_sequence)) +\n",
    "  geom_line() +\n",
    "  geom_point()"
   ]
  },
  {
   "cell_type": "markdown",
   "metadata": {},
   "source": [
    "## Use `stringr` functions to manipulate string columns\n",
    "\n",
    "All functions are named nicely and begin with `str_`. I find them easier to use than the equivalent `Python` regular expression functions.\n",
    "\n",
    "See [https://stringr.tidyverse.org/reference/index.html](https://stringr.tidyverse.org/reference/index.html)"
   ]
  },
  {
   "cell_type": "code",
   "execution_count": 85,
   "metadata": {
    "vscode": {
     "languageId": "r"
    }
   },
   "outputs": [
    {
     "data": {
      "text/html": [
       "<table class=\"dataframe\">\n",
       "<caption>A tibble: 16 × 7</caption>\n",
       "<thead>\n",
       "\t<tr><th scope=col>strain</th><th scope=col>mean_yfp</th><th scope=col>mean_rfp</th><th scope=col>mean_ratio</th><th scope=col>insert_sequence</th><th scope=col>kozak_region</th><th scope=col>codon</th></tr>\n",
       "\t<tr><th scope=col>&lt;chr&gt;</th><th scope=col>&lt;dbl&gt;</th><th scope=col>&lt;dbl&gt;</th><th scope=col>&lt;dbl&gt;</th><th scope=col>&lt;chr&gt;</th><th scope=col>&lt;chr&gt;</th><th scope=col>&lt;chr&gt;</th></tr>\n",
       "</thead>\n",
       "<tbody>\n",
       "\t<tr><td>schp688</td><td>1748</td><td>20754</td><td>0.08422473</td><td>10×AGA</td><td>A</td><td>AGA</td></tr>\n",
       "\t<tr><td>schp684</td><td>3294</td><td>20585</td><td>0.16001943</td><td>10×AGA</td><td>B</td><td>AGA</td></tr>\n",
       "\t<tr><td>schp690</td><td>3535</td><td>20593</td><td>0.17166027</td><td>10×AGA</td><td>C</td><td>AGA</td></tr>\n",
       "\t<tr><td>schp687</td><td>4658</td><td>20860</td><td>0.22329818</td><td>10×AGA</td><td>D</td><td>AGA</td></tr>\n",
       "\t<tr><td>schp686</td><td>5000</td><td>21171</td><td>0.23617212</td><td>10×AGA</td><td>E</td><td>AGA</td></tr>\n",
       "\t<tr><td>schp685</td><td>7379</td><td>22956</td><td>0.32144102</td><td>10×AGA</td><td>F</td><td>AGA</td></tr>\n",
       "\t<tr><td>schp683</td><td>9365</td><td>23866</td><td>0.39239923</td><td>10×AGA</td><td>G</td><td>AGA</td></tr>\n",
       "\t<tr><td>schp689</td><td>8693</td><td>22649</td><td>0.38381385</td><td>10×AGA</td><td>H</td><td>AGA</td></tr>\n",
       "\t<tr><td>schp679</td><td>2528</td><td>19906</td><td>0.12699689</td><td>10×AAG</td><td>A</td><td>AAG</td></tr>\n",
       "\t<tr><td>schp675</td><td>3687</td><td>20438</td><td>0.18039926</td><td>10×AAG</td><td>B</td><td>AAG</td></tr>\n",
       "\t<tr><td>schp681</td><td>3705</td><td>20227</td><td>0.18317101</td><td>10×AAG</td><td>C</td><td>AAG</td></tr>\n",
       "\t<tr><td>schp678</td><td>4378</td><td>20630</td><td>0.21221522</td><td>10×AAG</td><td>D</td><td>AAG</td></tr>\n",
       "\t<tr><td>schp677</td><td>3967</td><td>20604</td><td>0.19253543</td><td>10×AAG</td><td>E</td><td>AAG</td></tr>\n",
       "\t<tr><td>schp676</td><td>2657</td><td>20223</td><td>0.13138506</td><td>10×AAG</td><td>F</td><td>AAG</td></tr>\n",
       "\t<tr><td>schp674</td><td>1270</td><td>20316</td><td>0.06251231</td><td>10×AAG</td><td>G</td><td>AAG</td></tr>\n",
       "\t<tr><td>schp680</td><td>1117</td><td>19377</td><td>0.05764566</td><td>10×AAG</td><td>H</td><td>AAG</td></tr>\n",
       "</tbody>\n",
       "</table>\n"
      ],
      "text/latex": [
       "A tibble: 16 × 7\n",
       "\\begin{tabular}{lllllll}\n",
       " strain & mean\\_yfp & mean\\_rfp & mean\\_ratio & insert\\_sequence & kozak\\_region & codon\\\\\n",
       " <chr> & <dbl> & <dbl> & <dbl> & <chr> & <chr> & <chr>\\\\\n",
       "\\hline\n",
       "\t schp688 & 1748 & 20754 & 0.08422473 & 10×AGA & A & AGA\\\\\n",
       "\t schp684 & 3294 & 20585 & 0.16001943 & 10×AGA & B & AGA\\\\\n",
       "\t schp690 & 3535 & 20593 & 0.17166027 & 10×AGA & C & AGA\\\\\n",
       "\t schp687 & 4658 & 20860 & 0.22329818 & 10×AGA & D & AGA\\\\\n",
       "\t schp686 & 5000 & 21171 & 0.23617212 & 10×AGA & E & AGA\\\\\n",
       "\t schp685 & 7379 & 22956 & 0.32144102 & 10×AGA & F & AGA\\\\\n",
       "\t schp683 & 9365 & 23866 & 0.39239923 & 10×AGA & G & AGA\\\\\n",
       "\t schp689 & 8693 & 22649 & 0.38381385 & 10×AGA & H & AGA\\\\\n",
       "\t schp679 & 2528 & 19906 & 0.12699689 & 10×AAG & A & AAG\\\\\n",
       "\t schp675 & 3687 & 20438 & 0.18039926 & 10×AAG & B & AAG\\\\\n",
       "\t schp681 & 3705 & 20227 & 0.18317101 & 10×AAG & C & AAG\\\\\n",
       "\t schp678 & 4378 & 20630 & 0.21221522 & 10×AAG & D & AAG\\\\\n",
       "\t schp677 & 3967 & 20604 & 0.19253543 & 10×AAG & E & AAG\\\\\n",
       "\t schp676 & 2657 & 20223 & 0.13138506 & 10×AAG & F & AAG\\\\\n",
       "\t schp674 & 1270 & 20316 & 0.06251231 & 10×AAG & G & AAG\\\\\n",
       "\t schp680 & 1117 & 19377 & 0.05764566 & 10×AAG & H & AAG\\\\\n",
       "\\end{tabular}\n"
      ],
      "text/markdown": [
       "\n",
       "A tibble: 16 × 7\n",
       "\n",
       "| strain &lt;chr&gt; | mean_yfp &lt;dbl&gt; | mean_rfp &lt;dbl&gt; | mean_ratio &lt;dbl&gt; | insert_sequence &lt;chr&gt; | kozak_region &lt;chr&gt; | codon &lt;chr&gt; |\n",
       "|---|---|---|---|---|---|---|\n",
       "| schp688 | 1748 | 20754 | 0.08422473 | 10×AGA | A | AGA |\n",
       "| schp684 | 3294 | 20585 | 0.16001943 | 10×AGA | B | AGA |\n",
       "| schp690 | 3535 | 20593 | 0.17166027 | 10×AGA | C | AGA |\n",
       "| schp687 | 4658 | 20860 | 0.22329818 | 10×AGA | D | AGA |\n",
       "| schp686 | 5000 | 21171 | 0.23617212 | 10×AGA | E | AGA |\n",
       "| schp685 | 7379 | 22956 | 0.32144102 | 10×AGA | F | AGA |\n",
       "| schp683 | 9365 | 23866 | 0.39239923 | 10×AGA | G | AGA |\n",
       "| schp689 | 8693 | 22649 | 0.38381385 | 10×AGA | H | AGA |\n",
       "| schp679 | 2528 | 19906 | 0.12699689 | 10×AAG | A | AAG |\n",
       "| schp675 | 3687 | 20438 | 0.18039926 | 10×AAG | B | AAG |\n",
       "| schp681 | 3705 | 20227 | 0.18317101 | 10×AAG | C | AAG |\n",
       "| schp678 | 4378 | 20630 | 0.21221522 | 10×AAG | D | AAG |\n",
       "| schp677 | 3967 | 20604 | 0.19253543 | 10×AAG | E | AAG |\n",
       "| schp676 | 2657 | 20223 | 0.13138506 | 10×AAG | F | AAG |\n",
       "| schp674 | 1270 | 20316 | 0.06251231 | 10×AAG | G | AAG |\n",
       "| schp680 | 1117 | 19377 | 0.05764566 | 10×AAG | H | AAG |\n",
       "\n"
      ],
      "text/plain": [
       "   strain  mean_yfp mean_rfp mean_ratio insert_sequence kozak_region codon\n",
       "1  schp688 1748     20754    0.08422473 10×AGA          A            AGA  \n",
       "2  schp684 3294     20585    0.16001943 10×AGA          B            AGA  \n",
       "3  schp690 3535     20593    0.17166027 10×AGA          C            AGA  \n",
       "4  schp687 4658     20860    0.22329818 10×AGA          D            AGA  \n",
       "5  schp686 5000     21171    0.23617212 10×AGA          E            AGA  \n",
       "6  schp685 7379     22956    0.32144102 10×AGA          F            AGA  \n",
       "7  schp683 9365     23866    0.39239923 10×AGA          G            AGA  \n",
       "8  schp689 8693     22649    0.38381385 10×AGA          H            AGA  \n",
       "9  schp679 2528     19906    0.12699689 10×AAG          A            AAG  \n",
       "10 schp675 3687     20438    0.18039926 10×AAG          B            AAG  \n",
       "11 schp681 3705     20227    0.18317101 10×AAG          C            AAG  \n",
       "12 schp678 4378     20630    0.21221522 10×AAG          D            AAG  \n",
       "13 schp677 3967     20604    0.19253543 10×AAG          E            AAG  \n",
       "14 schp676 2657     20223    0.13138506 10×AAG          F            AAG  \n",
       "15 schp674 1270     20316    0.06251231 10×AAG          G            AAG  \n",
       "16 schp680 1117     19377    0.05764566 10×AAG          H            AAG  "
      ]
     },
     "metadata": {},
     "output_type": "display_data"
    }
   ],
   "source": [
    "data %>% \n",
    "  mutate(mean_ratio = mean_yfp / mean_rfp) %>%\n",
    "  left_join(annotations, by = \"strain\") %>% \n",
    "  mutate(codon = str_extract(insert_sequence, \"[A-Z]{3}$\"))"
   ]
  },
  {
   "cell_type": "markdown",
   "metadata": {},
   "source": [
    "# In-class data transformation exercises\n",
    "\n",
    "(20 min)"
   ]
  },
  {
   "cell_type": "markdown",
   "metadata": {},
   "source": [
    "## 1. Create log2-transformed YFP/RFP ratio as a new column\n",
    "\n",
    "Google for `log2 R` to find the appropriate function"
   ]
  },
  {
   "cell_type": "code",
   "execution_count": 86,
   "metadata": {
    "vscode": {
     "languageId": "r"
    }
   },
   "outputs": [
    {
     "name": "stderr",
     "output_type": "stream",
     "text": [
      "\u001b[1mRows: \u001b[22m\u001b[34m16\u001b[39m \u001b[1mColumns: \u001b[22m\u001b[34m3\u001b[39m\n",
      "\u001b[36m──\u001b[39m \u001b[1mColumn specification\u001b[22m \u001b[36m────────────────────────────────────────────────────────\u001b[39m\n",
      "\u001b[1mDelimiter:\u001b[22m \"\\t\"\n",
      "\u001b[31mchr\u001b[39m (1): strain\n",
      "\u001b[32mdbl\u001b[39m (2): mean_yfp, mean_rfp\n",
      "\n",
      "\u001b[36mℹ\u001b[39m Use `spec()` to retrieve the full column specification for this data.\n",
      "\u001b[36mℹ\u001b[39m Specify the column types or set `show_col_types = FALSE` to quiet this message.\n"
     ]
    }
   ],
   "source": [
    "data <- read_tsv(\"data/example_dataset_2.tsv\")"
   ]
  },
  {
   "cell_type": "code",
   "execution_count": 87,
   "metadata": {
    "vscode": {
     "languageId": "r"
    }
   },
   "outputs": [
    {
     "data": {
      "text/html": [
       "<table class=\"dataframe\">\n",
       "<caption>A spec_tbl_df: 16 × 3</caption>\n",
       "<thead>\n",
       "\t<tr><th scope=col>strain</th><th scope=col>mean_yfp</th><th scope=col>mean_rfp</th></tr>\n",
       "\t<tr><th scope=col>&lt;chr&gt;</th><th scope=col>&lt;dbl&gt;</th><th scope=col>&lt;dbl&gt;</th></tr>\n",
       "</thead>\n",
       "<tbody>\n",
       "\t<tr><td>schp688</td><td>1748</td><td>20754</td></tr>\n",
       "\t<tr><td>schp684</td><td>3294</td><td>20585</td></tr>\n",
       "\t<tr><td>schp690</td><td>3535</td><td>20593</td></tr>\n",
       "\t<tr><td>schp687</td><td>4658</td><td>20860</td></tr>\n",
       "\t<tr><td>schp686</td><td>5000</td><td>21171</td></tr>\n",
       "\t<tr><td>schp685</td><td>7379</td><td>22956</td></tr>\n",
       "\t<tr><td>schp683</td><td>9365</td><td>23866</td></tr>\n",
       "\t<tr><td>schp689</td><td>8693</td><td>22649</td></tr>\n",
       "\t<tr><td>schp679</td><td>2528</td><td>19906</td></tr>\n",
       "\t<tr><td>schp675</td><td>3687</td><td>20438</td></tr>\n",
       "\t<tr><td>schp681</td><td>3705</td><td>20227</td></tr>\n",
       "\t<tr><td>schp678</td><td>4378</td><td>20630</td></tr>\n",
       "\t<tr><td>schp677</td><td>3967</td><td>20604</td></tr>\n",
       "\t<tr><td>schp676</td><td>2657</td><td>20223</td></tr>\n",
       "\t<tr><td>schp674</td><td>1270</td><td>20316</td></tr>\n",
       "\t<tr><td>schp680</td><td>1117</td><td>19377</td></tr>\n",
       "</tbody>\n",
       "</table>\n"
      ],
      "text/latex": [
       "A spec\\_tbl\\_df: 16 × 3\n",
       "\\begin{tabular}{lll}\n",
       " strain & mean\\_yfp & mean\\_rfp\\\\\n",
       " <chr> & <dbl> & <dbl>\\\\\n",
       "\\hline\n",
       "\t schp688 & 1748 & 20754\\\\\n",
       "\t schp684 & 3294 & 20585\\\\\n",
       "\t schp690 & 3535 & 20593\\\\\n",
       "\t schp687 & 4658 & 20860\\\\\n",
       "\t schp686 & 5000 & 21171\\\\\n",
       "\t schp685 & 7379 & 22956\\\\\n",
       "\t schp683 & 9365 & 23866\\\\\n",
       "\t schp689 & 8693 & 22649\\\\\n",
       "\t schp679 & 2528 & 19906\\\\\n",
       "\t schp675 & 3687 & 20438\\\\\n",
       "\t schp681 & 3705 & 20227\\\\\n",
       "\t schp678 & 4378 & 20630\\\\\n",
       "\t schp677 & 3967 & 20604\\\\\n",
       "\t schp676 & 2657 & 20223\\\\\n",
       "\t schp674 & 1270 & 20316\\\\\n",
       "\t schp680 & 1117 & 19377\\\\\n",
       "\\end{tabular}\n"
      ],
      "text/markdown": [
       "\n",
       "A spec_tbl_df: 16 × 3\n",
       "\n",
       "| strain &lt;chr&gt; | mean_yfp &lt;dbl&gt; | mean_rfp &lt;dbl&gt; |\n",
       "|---|---|---|\n",
       "| schp688 | 1748 | 20754 |\n",
       "| schp684 | 3294 | 20585 |\n",
       "| schp690 | 3535 | 20593 |\n",
       "| schp687 | 4658 | 20860 |\n",
       "| schp686 | 5000 | 21171 |\n",
       "| schp685 | 7379 | 22956 |\n",
       "| schp683 | 9365 | 23866 |\n",
       "| schp689 | 8693 | 22649 |\n",
       "| schp679 | 2528 | 19906 |\n",
       "| schp675 | 3687 | 20438 |\n",
       "| schp681 | 3705 | 20227 |\n",
       "| schp678 | 4378 | 20630 |\n",
       "| schp677 | 3967 | 20604 |\n",
       "| schp676 | 2657 | 20223 |\n",
       "| schp674 | 1270 | 20316 |\n",
       "| schp680 | 1117 | 19377 |\n",
       "\n"
      ],
      "text/plain": [
       "   strain  mean_yfp mean_rfp\n",
       "1  schp688 1748     20754   \n",
       "2  schp684 3294     20585   \n",
       "3  schp690 3535     20593   \n",
       "4  schp687 4658     20860   \n",
       "5  schp686 5000     21171   \n",
       "6  schp685 7379     22956   \n",
       "7  schp683 9365     23866   \n",
       "8  schp689 8693     22649   \n",
       "9  schp679 2528     19906   \n",
       "10 schp675 3687     20438   \n",
       "11 schp681 3705     20227   \n",
       "12 schp678 4378     20630   \n",
       "13 schp677 3967     20604   \n",
       "14 schp676 2657     20223   \n",
       "15 schp674 1270     20316   \n",
       "16 schp680 1117     19377   "
      ]
     },
     "metadata": {},
     "output_type": "display_data"
    }
   ],
   "source": [
    "data\n"
   ]
  },
  {
   "cell_type": "code",
   "execution_count": 114,
   "metadata": {
    "vscode": {
     "languageId": "r"
    }
   },
   "outputs": [
    {
     "data": {
      "text/html": [
       "<table class=\"dataframe\">\n",
       "<caption>A tibble: 16 × 4</caption>\n",
       "<thead>\n",
       "\t<tr><th scope=col>strain</th><th scope=col>mean_yfp</th><th scope=col>mean_rfp</th><th scope=col>average</th></tr>\n",
       "\t<tr><th scope=col>&lt;chr&gt;</th><th scope=col>&lt;dbl&gt;</th><th scope=col>&lt;dbl&gt;</th><th scope=col>&lt;dbl&gt;</th></tr>\n",
       "</thead>\n",
       "<tbody>\n",
       "\t<tr><td>schp688</td><td>1748</td><td>20754</td><td>-3.569612</td></tr>\n",
       "\t<tr><td>schp684</td><td>3294</td><td>20585</td><td>-2.643681</td></tr>\n",
       "\t<tr><td>schp690</td><td>3535</td><td>20593</td><td>-2.542372</td></tr>\n",
       "\t<tr><td>schp687</td><td>4658</td><td>20860</td><td>-2.162957</td></tr>\n",
       "\t<tr><td>schp686</td><td>5000</td><td>21171</td><td>-2.082089</td></tr>\n",
       "\t<tr><td>schp685</td><td>7379</td><td>22956</td><td>-1.637374</td></tr>\n",
       "\t<tr><td>schp683</td><td>9365</td><td>23866</td><td>-1.349606</td></tr>\n",
       "\t<tr><td>schp689</td><td>8693</td><td>22649</td><td>-1.381521</td></tr>\n",
       "\t<tr><td>schp679</td><td>2528</td><td>19906</td><td>-2.977135</td></tr>\n",
       "\t<tr><td>schp675</td><td>3687</td><td>20438</td><td>-2.470735</td></tr>\n",
       "\t<tr><td>schp681</td><td>3705</td><td>20227</td><td>-2.448737</td></tr>\n",
       "\t<tr><td>schp678</td><td>4378</td><td>20630</td><td>-2.236400</td></tr>\n",
       "\t<tr><td>schp677</td><td>3967</td><td>20604</td><td>-2.376804</td></tr>\n",
       "\t<tr><td>schp676</td><td>2657</td><td>20223</td><td>-2.928127</td></tr>\n",
       "\t<tr><td>schp674</td><td>1270</td><td>20316</td><td>-3.999716</td></tr>\n",
       "\t<tr><td>schp680</td><td>1117</td><td>19377</td><td>-4.116644</td></tr>\n",
       "</tbody>\n",
       "</table>\n"
      ],
      "text/latex": [
       "A tibble: 16 × 4\n",
       "\\begin{tabular}{llll}\n",
       " strain & mean\\_yfp & mean\\_rfp & average\\\\\n",
       " <chr> & <dbl> & <dbl> & <dbl>\\\\\n",
       "\\hline\n",
       "\t schp688 & 1748 & 20754 & -3.569612\\\\\n",
       "\t schp684 & 3294 & 20585 & -2.643681\\\\\n",
       "\t schp690 & 3535 & 20593 & -2.542372\\\\\n",
       "\t schp687 & 4658 & 20860 & -2.162957\\\\\n",
       "\t schp686 & 5000 & 21171 & -2.082089\\\\\n",
       "\t schp685 & 7379 & 22956 & -1.637374\\\\\n",
       "\t schp683 & 9365 & 23866 & -1.349606\\\\\n",
       "\t schp689 & 8693 & 22649 & -1.381521\\\\\n",
       "\t schp679 & 2528 & 19906 & -2.977135\\\\\n",
       "\t schp675 & 3687 & 20438 & -2.470735\\\\\n",
       "\t schp681 & 3705 & 20227 & -2.448737\\\\\n",
       "\t schp678 & 4378 & 20630 & -2.236400\\\\\n",
       "\t schp677 & 3967 & 20604 & -2.376804\\\\\n",
       "\t schp676 & 2657 & 20223 & -2.928127\\\\\n",
       "\t schp674 & 1270 & 20316 & -3.999716\\\\\n",
       "\t schp680 & 1117 & 19377 & -4.116644\\\\\n",
       "\\end{tabular}\n"
      ],
      "text/markdown": [
       "\n",
       "A tibble: 16 × 4\n",
       "\n",
       "| strain &lt;chr&gt; | mean_yfp &lt;dbl&gt; | mean_rfp &lt;dbl&gt; | average &lt;dbl&gt; |\n",
       "|---|---|---|---|\n",
       "| schp688 | 1748 | 20754 | -3.569612 |\n",
       "| schp684 | 3294 | 20585 | -2.643681 |\n",
       "| schp690 | 3535 | 20593 | -2.542372 |\n",
       "| schp687 | 4658 | 20860 | -2.162957 |\n",
       "| schp686 | 5000 | 21171 | -2.082089 |\n",
       "| schp685 | 7379 | 22956 | -1.637374 |\n",
       "| schp683 | 9365 | 23866 | -1.349606 |\n",
       "| schp689 | 8693 | 22649 | -1.381521 |\n",
       "| schp679 | 2528 | 19906 | -2.977135 |\n",
       "| schp675 | 3687 | 20438 | -2.470735 |\n",
       "| schp681 | 3705 | 20227 | -2.448737 |\n",
       "| schp678 | 4378 | 20630 | -2.236400 |\n",
       "| schp677 | 3967 | 20604 | -2.376804 |\n",
       "| schp676 | 2657 | 20223 | -2.928127 |\n",
       "| schp674 | 1270 | 20316 | -3.999716 |\n",
       "| schp680 | 1117 | 19377 | -4.116644 |\n",
       "\n"
      ],
      "text/plain": [
       "   strain  mean_yfp mean_rfp average  \n",
       "1  schp688 1748     20754    -3.569612\n",
       "2  schp684 3294     20585    -2.643681\n",
       "3  schp690 3535     20593    -2.542372\n",
       "4  schp687 4658     20860    -2.162957\n",
       "5  schp686 5000     21171    -2.082089\n",
       "6  schp685 7379     22956    -1.637374\n",
       "7  schp683 9365     23866    -1.349606\n",
       "8  schp689 8693     22649    -1.381521\n",
       "9  schp679 2528     19906    -2.977135\n",
       "10 schp675 3687     20438    -2.470735\n",
       "11 schp681 3705     20227    -2.448737\n",
       "12 schp678 4378     20630    -2.236400\n",
       "13 schp677 3967     20604    -2.376804\n",
       "14 schp676 2657     20223    -2.928127\n",
       "15 schp674 1270     20316    -3.999716\n",
       "16 schp680 1117     19377    -4.116644"
      ]
     },
     "metadata": {},
     "output_type": "display_data"
    }
   ],
   "source": [
    "data %>%\n",
    "    mutate(average = log2(mean_yfp / mean_rfp)) "
   ]
  },
  {
   "cell_type": "markdown",
   "metadata": {},
   "source": [
    "## 2. Extract strain number from the `strain` column into a new column and sort numerically by strain number\n",
    "\n",
    "Extract the strain number using a `stringr` function.\n",
    "\n",
    "Google for `character to integer R` to find appropriate function to use in `mutate`.\n",
    "\n",
    "Then sort."
   ]
  },
  {
   "cell_type": "code",
   "execution_count": 97,
   "metadata": {
    "vscode": {
     "languageId": "r"
    }
   },
   "outputs": [
    {
     "name": "stderr",
     "output_type": "stream",
     "text": [
      "\u001b[1mRows: \u001b[22m\u001b[34m17\u001b[39m \u001b[1mColumns: \u001b[22m\u001b[34m3\u001b[39m\n",
      "\u001b[36m──\u001b[39m \u001b[1mColumn specification\u001b[22m \u001b[36m────────────────────────────────────────────────────────\u001b[39m\n",
      "\u001b[1mDelimiter:\u001b[22m \"\\t\"\n",
      "\u001b[31mchr\u001b[39m (3): strain, insert_sequence, kozak_region\n",
      "\n",
      "\u001b[36mℹ\u001b[39m Use `spec()` to retrieve the full column specification for this data.\n",
      "\u001b[36mℹ\u001b[39m Specify the column types or set `show_col_types = FALSE` to quiet this message.\n"
     ]
    },
    {
     "data": {
      "text/html": [
       "<table class=\"dataframe\">\n",
       "<caption>A spec_tbl_df: 17 × 3</caption>\n",
       "<thead>\n",
       "\t<tr><th scope=col>strain</th><th scope=col>insert_sequence</th><th scope=col>kozak_region</th></tr>\n",
       "\t<tr><th scope=col>&lt;chr&gt;</th><th scope=col>&lt;chr&gt;</th><th scope=col>&lt;chr&gt;</th></tr>\n",
       "</thead>\n",
       "<tbody>\n",
       "\t<tr><td>schp674</td><td>10×AAG</td><td>G </td></tr>\n",
       "\t<tr><td>schp675</td><td>10×AAG</td><td>B </td></tr>\n",
       "\t<tr><td>schp676</td><td>10×AAG</td><td>F </td></tr>\n",
       "\t<tr><td>schp677</td><td>10×AAG</td><td>E </td></tr>\n",
       "\t<tr><td>schp678</td><td>10×AAG</td><td>D </td></tr>\n",
       "\t<tr><td>schp679</td><td>10×AAG</td><td>A </td></tr>\n",
       "\t<tr><td>schp680</td><td>10×AAG</td><td>H </td></tr>\n",
       "\t<tr><td>schp681</td><td>10×AAG</td><td>C </td></tr>\n",
       "\t<tr><td>schp683</td><td>10×AGA</td><td>G </td></tr>\n",
       "\t<tr><td>schp684</td><td>10×AGA</td><td>B </td></tr>\n",
       "\t<tr><td>schp685</td><td>10×AGA</td><td>F </td></tr>\n",
       "\t<tr><td>schp686</td><td>10×AGA</td><td>E </td></tr>\n",
       "\t<tr><td>schp687</td><td>10×AGA</td><td>D </td></tr>\n",
       "\t<tr><td>schp688</td><td>10×AGA</td><td>A </td></tr>\n",
       "\t<tr><td>schp689</td><td>10×AGA</td><td>H </td></tr>\n",
       "\t<tr><td>schp690</td><td>10×AGA</td><td>C </td></tr>\n",
       "\t<tr><td>control</td><td>NA    </td><td>NA</td></tr>\n",
       "</tbody>\n",
       "</table>\n"
      ],
      "text/latex": [
       "A spec\\_tbl\\_df: 17 × 3\n",
       "\\begin{tabular}{lll}\n",
       " strain & insert\\_sequence & kozak\\_region\\\\\n",
       " <chr> & <chr> & <chr>\\\\\n",
       "\\hline\n",
       "\t schp674 & 10×AAG & G \\\\\n",
       "\t schp675 & 10×AAG & B \\\\\n",
       "\t schp676 & 10×AAG & F \\\\\n",
       "\t schp677 & 10×AAG & E \\\\\n",
       "\t schp678 & 10×AAG & D \\\\\n",
       "\t schp679 & 10×AAG & A \\\\\n",
       "\t schp680 & 10×AAG & H \\\\\n",
       "\t schp681 & 10×AAG & C \\\\\n",
       "\t schp683 & 10×AGA & G \\\\\n",
       "\t schp684 & 10×AGA & B \\\\\n",
       "\t schp685 & 10×AGA & F \\\\\n",
       "\t schp686 & 10×AGA & E \\\\\n",
       "\t schp687 & 10×AGA & D \\\\\n",
       "\t schp688 & 10×AGA & A \\\\\n",
       "\t schp689 & 10×AGA & H \\\\\n",
       "\t schp690 & 10×AGA & C \\\\\n",
       "\t control & NA     & NA\\\\\n",
       "\\end{tabular}\n"
      ],
      "text/markdown": [
       "\n",
       "A spec_tbl_df: 17 × 3\n",
       "\n",
       "| strain &lt;chr&gt; | insert_sequence &lt;chr&gt; | kozak_region &lt;chr&gt; |\n",
       "|---|---|---|\n",
       "| schp674 | 10×AAG | G  |\n",
       "| schp675 | 10×AAG | B  |\n",
       "| schp676 | 10×AAG | F  |\n",
       "| schp677 | 10×AAG | E  |\n",
       "| schp678 | 10×AAG | D  |\n",
       "| schp679 | 10×AAG | A  |\n",
       "| schp680 | 10×AAG | H  |\n",
       "| schp681 | 10×AAG | C  |\n",
       "| schp683 | 10×AGA | G  |\n",
       "| schp684 | 10×AGA | B  |\n",
       "| schp685 | 10×AGA | F  |\n",
       "| schp686 | 10×AGA | E  |\n",
       "| schp687 | 10×AGA | D  |\n",
       "| schp688 | 10×AGA | A  |\n",
       "| schp689 | 10×AGA | H  |\n",
       "| schp690 | 10×AGA | C  |\n",
       "| control | NA     | NA |\n",
       "\n"
      ],
      "text/plain": [
       "   strain  insert_sequence kozak_region\n",
       "1  schp674 10×AAG          G           \n",
       "2  schp675 10×AAG          B           \n",
       "3  schp676 10×AAG          F           \n",
       "4  schp677 10×AAG          E           \n",
       "5  schp678 10×AAG          D           \n",
       "6  schp679 10×AAG          A           \n",
       "7  schp680 10×AAG          H           \n",
       "8  schp681 10×AAG          C           \n",
       "9  schp683 10×AGA          G           \n",
       "10 schp684 10×AGA          B           \n",
       "11 schp685 10×AGA          F           \n",
       "12 schp686 10×AGA          E           \n",
       "13 schp687 10×AGA          D           \n",
       "14 schp688 10×AGA          A           \n",
       "15 schp689 10×AGA          H           \n",
       "16 schp690 10×AGA          C           \n",
       "17 control NA              NA          "
      ]
     },
     "metadata": {},
     "output_type": "display_data"
    }
   ],
   "source": [
    "annotations <- read_tsv(\"data/example_dataset_3.tsv\")\n",
    "\n",
    "annotations"
   ]
  },
  {
   "cell_type": "code",
   "execution_count": null,
   "metadata": {
    "vscode": {
     "languageId": "r"
    }
   },
   "outputs": [
    {
     "data": {
      "text/html": [
       "<table class=\"dataframe\">\n",
       "<caption>A tibble: 17 × 4</caption>\n",
       "<thead>\n",
       "\t<tr><th scope=col>strain</th><th scope=col>insert_sequence</th><th scope=col>kozak_region</th><th scope=col>strain_number</th></tr>\n",
       "\t<tr><th scope=col>&lt;chr&gt;</th><th scope=col>&lt;chr&gt;</th><th scope=col>&lt;chr&gt;</th><th scope=col>&lt;chr&gt;</th></tr>\n",
       "</thead>\n",
       "<tbody>\n",
       "\t<tr><td>schp674</td><td>10×AAG</td><td>G </td><td>674</td></tr>\n",
       "\t<tr><td>schp675</td><td>10×AAG</td><td>B </td><td>675</td></tr>\n",
       "\t<tr><td>schp676</td><td>10×AAG</td><td>F </td><td>676</td></tr>\n",
       "\t<tr><td>schp677</td><td>10×AAG</td><td>E </td><td>677</td></tr>\n",
       "\t<tr><td>schp678</td><td>10×AAG</td><td>D </td><td>678</td></tr>\n",
       "\t<tr><td>schp679</td><td>10×AAG</td><td>A </td><td>679</td></tr>\n",
       "\t<tr><td>schp680</td><td>10×AAG</td><td>H </td><td>680</td></tr>\n",
       "\t<tr><td>schp681</td><td>10×AAG</td><td>C </td><td>681</td></tr>\n",
       "\t<tr><td>schp683</td><td>10×AGA</td><td>G </td><td>683</td></tr>\n",
       "\t<tr><td>schp684</td><td>10×AGA</td><td>B </td><td>684</td></tr>\n",
       "\t<tr><td>schp685</td><td>10×AGA</td><td>F </td><td>685</td></tr>\n",
       "\t<tr><td>schp686</td><td>10×AGA</td><td>E </td><td>686</td></tr>\n",
       "\t<tr><td>schp687</td><td>10×AGA</td><td>D </td><td>687</td></tr>\n",
       "\t<tr><td>schp688</td><td>10×AGA</td><td>A </td><td>688</td></tr>\n",
       "\t<tr><td>schp689</td><td>10×AGA</td><td>H </td><td>689</td></tr>\n",
       "\t<tr><td>schp690</td><td>10×AGA</td><td>C </td><td>690</td></tr>\n",
       "\t<tr><td>control</td><td>NA    </td><td>NA</td><td>NA </td></tr>\n",
       "</tbody>\n",
       "</table>\n"
      ],
      "text/latex": [
       "A tibble: 17 × 4\n",
       "\\begin{tabular}{llll}\n",
       " strain & insert\\_sequence & kozak\\_region & strain\\_number\\\\\n",
       " <chr> & <chr> & <chr> & <chr>\\\\\n",
       "\\hline\n",
       "\t schp674 & 10×AAG & G  & 674\\\\\n",
       "\t schp675 & 10×AAG & B  & 675\\\\\n",
       "\t schp676 & 10×AAG & F  & 676\\\\\n",
       "\t schp677 & 10×AAG & E  & 677\\\\\n",
       "\t schp678 & 10×AAG & D  & 678\\\\\n",
       "\t schp679 & 10×AAG & A  & 679\\\\\n",
       "\t schp680 & 10×AAG & H  & 680\\\\\n",
       "\t schp681 & 10×AAG & C  & 681\\\\\n",
       "\t schp683 & 10×AGA & G  & 683\\\\\n",
       "\t schp684 & 10×AGA & B  & 684\\\\\n",
       "\t schp685 & 10×AGA & F  & 685\\\\\n",
       "\t schp686 & 10×AGA & E  & 686\\\\\n",
       "\t schp687 & 10×AGA & D  & 687\\\\\n",
       "\t schp688 & 10×AGA & A  & 688\\\\\n",
       "\t schp689 & 10×AGA & H  & 689\\\\\n",
       "\t schp690 & 10×AGA & C  & 690\\\\\n",
       "\t control & NA     & NA & NA \\\\\n",
       "\\end{tabular}\n"
      ],
      "text/markdown": [
       "\n",
       "A tibble: 17 × 4\n",
       "\n",
       "| strain &lt;chr&gt; | insert_sequence &lt;chr&gt; | kozak_region &lt;chr&gt; | strain_number &lt;chr&gt; |\n",
       "|---|---|---|---|\n",
       "| schp674 | 10×AAG | G  | 674 |\n",
       "| schp675 | 10×AAG | B  | 675 |\n",
       "| schp676 | 10×AAG | F  | 676 |\n",
       "| schp677 | 10×AAG | E  | 677 |\n",
       "| schp678 | 10×AAG | D  | 678 |\n",
       "| schp679 | 10×AAG | A  | 679 |\n",
       "| schp680 | 10×AAG | H  | 680 |\n",
       "| schp681 | 10×AAG | C  | 681 |\n",
       "| schp683 | 10×AGA | G  | 683 |\n",
       "| schp684 | 10×AGA | B  | 684 |\n",
       "| schp685 | 10×AGA | F  | 685 |\n",
       "| schp686 | 10×AGA | E  | 686 |\n",
       "| schp687 | 10×AGA | D  | 687 |\n",
       "| schp688 | 10×AGA | A  | 688 |\n",
       "| schp689 | 10×AGA | H  | 689 |\n",
       "| schp690 | 10×AGA | C  | 690 |\n",
       "| control | NA     | NA | NA  |\n",
       "\n"
      ],
      "text/plain": [
       "   strain  insert_sequence kozak_region strain_number\n",
       "1  schp674 10×AAG          G            674          \n",
       "2  schp675 10×AAG          B            675          \n",
       "3  schp676 10×AAG          F            676          \n",
       "4  schp677 10×AAG          E            677          \n",
       "5  schp678 10×AAG          D            678          \n",
       "6  schp679 10×AAG          A            679          \n",
       "7  schp680 10×AAG          H            680          \n",
       "8  schp681 10×AAG          C            681          \n",
       "9  schp683 10×AGA          G            683          \n",
       "10 schp684 10×AGA          B            684          \n",
       "11 schp685 10×AGA          F            685          \n",
       "12 schp686 10×AGA          E            686          \n",
       "13 schp687 10×AGA          D            687          \n",
       "14 schp688 10×AGA          A            688          \n",
       "15 schp689 10×AGA          H            689          \n",
       "16 schp690 10×AGA          C            690          \n",
       "17 control NA              NA           NA           "
      ]
     },
     "metadata": {},
     "output_type": "display_data"
    }
   ],
   "source": [
    "annotations %>%\n",
    "    mutate(strain_number = str_extract(strain, \"[0-9]{3}+\"))"
   ]
  },
  {
   "cell_type": "markdown",
   "metadata": {},
   "source": [
    "## 3. Plot with the X axis as `kozak_region` but sorted by strain number\n",
    "\n",
    "This requires a bit more reading and discussion, but it is a good example of how to learn new `tidyverse` functions on your own!\n",
    "\n",
    "Use [fct_reorder](https://forcats.tidyverse.org/reference/fct_reorder.html) function from the [`forcats`](https://forcats.tidyverse.org/reference/index.html) package to sort `kozak_region` by strain number you created above in a `mutate` step and then feed it into `ggplot`."
   ]
  },
  {
   "cell_type": "code",
   "execution_count": 102,
   "metadata": {
    "vscode": {
     "languageId": "r"
    }
   },
   "outputs": [
    {
     "data": {
      "image/png": "[encoded data removed]",
      "text/plain": [
       "plot without title"
      ]
     },
     "metadata": {
      "image/png": {
       "height": 240,
       "width": 480
      }
     },
     "output_type": "display_data"
    }
   ],
   "source": [
    "data %>% \n",
    "  mutate(mean_ratio = mean_yfp / mean_rfp) %>%\n",
    "  left_join(annotations, by = \"strain\") %>%\n",
    "  ggplot(aes(x = kozak_region, y = mean_ratio, \n",
    "             color = insert_sequence, group = insert_sequence)) +\n",
    "  geom_line() +\n",
    "  geom_point()"
   ]
  },
  {
   "cell_type": "code",
   "execution_count": 117,
   "metadata": {
    "vscode": {
     "languageId": "r"
    }
   },
   "outputs": [
    {
     "name": "stderr",
     "output_type": "stream",
     "text": [
      "ERROR while rich displaying an object: Error in check_factor(.f): object 'strain_number' not found\n",
      "\n",
      "Traceback:\n",
      "1. tryCatch(withCallingHandlers({\n",
      " .     if (!mime %in% names(repr::mime2repr)) \n",
      " .         stop(\"No repr_* for mimetype \", mime, \" in repr::mime2repr\")\n",
      " .     rpr <- repr::mime2repr[[mime]](obj)\n",
      " .     if (is.null(rpr)) \n",
      " .         return(NULL)\n",
      " .     prepare_content(is.raw(rpr), rpr)\n",
      " . }, error = error_handler), error = outer_handler)\n",
      "2. tryCatchList(expr, classes, parentenv, handlers)\n",
      "3. tryCatchOne(expr, names, parentenv, handlers[[1L]])\n",
      "4. doTryCatch(return(expr), name, parentenv, handler)\n",
      "5. withCallingHandlers({\n",
      " .     if (!mime %in% names(repr::mime2repr)) \n",
      " .         stop(\"No repr_* for mimetype \", mime, \" in repr::mime2repr\")\n",
      " .     rpr <- repr::mime2repr[[mime]](obj)\n",
      " .     if (is.null(rpr)) \n",
      " .         return(NULL)\n",
      " .     prepare_content(is.raw(rpr), rpr)\n",
      " . }, error = error_handler)\n",
      "6. repr::mime2repr[[mime]](obj)\n",
      "7. repr_text.default(obj)\n",
      "8. paste(capture.output(print(obj)), collapse = \"\\n\")\n",
      "9. capture.output(print(obj))\n",
      "10. withVisible(...elt(i))\n",
      "11. print(obj)\n",
      "12. print.ggplot(obj)\n",
      "13. ggplot_build(x)\n",
      "14. ggplot_build.ggplot(x)\n",
      "15. by_layer(function(l, d) l$compute_aesthetics(d, plot))\n",
      "16. f(l = layers[[i]], d = data[[i]])\n",
      "17. l$compute_aesthetics(d, plot)\n",
      "18. f(..., self = self)\n",
      "19. scales_add_defaults(plot$scales, data, aesthetics, plot$plot_env)\n",
      "20. lapply(aesthetics[new_aesthetics], eval_tidy, data = data)\n",
      "21. FUN(X[[i]], ...)\n",
      "22. fct_reorder(strain_number, kozak_region)\n",
      "23. check_factor(.f)\n"
     ]
    },
    {
     "data": {
      "image/png": "[encoded data removed]",
      "text/plain": [
       "plot without title"
      ]
     },
     "metadata": {
      "image/png": {
       "height": 240,
       "width": 480
      }
     },
     "output_type": "display_data"
    }
   ],
   "source": [
    "data %>% \n",
    "  mutate(mean_ratio = mean_yfp / mean_rfp) %>%\n",
    "  left_join(annotations, by = \"strain\") %>%\n",
    "  ggplot(aes(x =fct_reorder(strain_number, kozak_region), y = mean_ratio, \n",
    "             color = insert_sequence, group = insert_sequence)) +\n",
    "  geom_line() +\n",
    "  geom_point()"
   ]
  },
  {
   "cell_type": "markdown",
   "metadata": {},
   "source": [
    "---"
   ]
  },
  {
   "cell_type": "markdown",
   "metadata": {},
   "source": [
    "# Grouping, summarizing, and reshaping data"
   ]
  },
  {
   "cell_type": "markdown",
   "metadata": {},
   "source": [
    "## Use `summarize` to calculate stats across rows"
   ]
  },
  {
   "cell_type": "code",
   "execution_count": 118,
   "metadata": {
    "vscode": {
     "languageId": "r"
    }
   },
   "outputs": [
    {
     "name": "stderr",
     "output_type": "stream",
     "text": [
      "\u001b[1mRows: \u001b[22m\u001b[34m16\u001b[39m \u001b[1mColumns: \u001b[22m\u001b[34m3\u001b[39m\n",
      "\u001b[36m──\u001b[39m \u001b[1mColumn specification\u001b[22m \u001b[36m────────────────────────────────────────────────────────\u001b[39m\n",
      "\u001b[1mDelimiter:\u001b[22m \"\\t\"\n",
      "\u001b[31mchr\u001b[39m (1): strain\n",
      "\u001b[32mdbl\u001b[39m (2): mean_yfp, mean_rfp\n",
      "\n",
      "\u001b[36mℹ\u001b[39m Use `spec()` to retrieve the full column specification for this data.\n",
      "\u001b[36mℹ\u001b[39m Specify the column types or set `show_col_types = FALSE` to quiet this message.\n"
     ]
    },
    {
     "data": {
      "text/html": [
       "<table class=\"dataframe\">\n",
       "<caption>A spec_tbl_df: 16 × 3</caption>\n",
       "<thead>\n",
       "\t<tr><th scope=col>strain</th><th scope=col>mean_yfp</th><th scope=col>mean_rfp</th></tr>\n",
       "\t<tr><th scope=col>&lt;chr&gt;</th><th scope=col>&lt;dbl&gt;</th><th scope=col>&lt;dbl&gt;</th></tr>\n",
       "</thead>\n",
       "<tbody>\n",
       "\t<tr><td>schp688</td><td>1748</td><td>20754</td></tr>\n",
       "\t<tr><td>schp684</td><td>3294</td><td>20585</td></tr>\n",
       "\t<tr><td>schp690</td><td>3535</td><td>20593</td></tr>\n",
       "\t<tr><td>schp687</td><td>4658</td><td>20860</td></tr>\n",
       "\t<tr><td>schp686</td><td>5000</td><td>21171</td></tr>\n",
       "\t<tr><td>schp685</td><td>7379</td><td>22956</td></tr>\n",
       "\t<tr><td>schp683</td><td>9365</td><td>23866</td></tr>\n",
       "\t<tr><td>schp689</td><td>8693</td><td>22649</td></tr>\n",
       "\t<tr><td>schp679</td><td>2528</td><td>19906</td></tr>\n",
       "\t<tr><td>schp675</td><td>3687</td><td>20438</td></tr>\n",
       "\t<tr><td>schp681</td><td>3705</td><td>20227</td></tr>\n",
       "\t<tr><td>schp678</td><td>4378</td><td>20630</td></tr>\n",
       "\t<tr><td>schp677</td><td>3967</td><td>20604</td></tr>\n",
       "\t<tr><td>schp676</td><td>2657</td><td>20223</td></tr>\n",
       "\t<tr><td>schp674</td><td>1270</td><td>20316</td></tr>\n",
       "\t<tr><td>schp680</td><td>1117</td><td>19377</td></tr>\n",
       "</tbody>\n",
       "</table>\n"
      ],
      "text/latex": [
       "A spec\\_tbl\\_df: 16 × 3\n",
       "\\begin{tabular}{lll}\n",
       " strain & mean\\_yfp & mean\\_rfp\\\\\n",
       " <chr> & <dbl> & <dbl>\\\\\n",
       "\\hline\n",
       "\t schp688 & 1748 & 20754\\\\\n",
       "\t schp684 & 3294 & 20585\\\\\n",
       "\t schp690 & 3535 & 20593\\\\\n",
       "\t schp687 & 4658 & 20860\\\\\n",
       "\t schp686 & 5000 & 21171\\\\\n",
       "\t schp685 & 7379 & 22956\\\\\n",
       "\t schp683 & 9365 & 23866\\\\\n",
       "\t schp689 & 8693 & 22649\\\\\n",
       "\t schp679 & 2528 & 19906\\\\\n",
       "\t schp675 & 3687 & 20438\\\\\n",
       "\t schp681 & 3705 & 20227\\\\\n",
       "\t schp678 & 4378 & 20630\\\\\n",
       "\t schp677 & 3967 & 20604\\\\\n",
       "\t schp676 & 2657 & 20223\\\\\n",
       "\t schp674 & 1270 & 20316\\\\\n",
       "\t schp680 & 1117 & 19377\\\\\n",
       "\\end{tabular}\n"
      ],
      "text/markdown": [
       "\n",
       "A spec_tbl_df: 16 × 3\n",
       "\n",
       "| strain &lt;chr&gt; | mean_yfp &lt;dbl&gt; | mean_rfp &lt;dbl&gt; |\n",
       "|---|---|---|\n",
       "| schp688 | 1748 | 20754 |\n",
       "| schp684 | 3294 | 20585 |\n",
       "| schp690 | 3535 | 20593 |\n",
       "| schp687 | 4658 | 20860 |\n",
       "| schp686 | 5000 | 21171 |\n",
       "| schp685 | 7379 | 22956 |\n",
       "| schp683 | 9365 | 23866 |\n",
       "| schp689 | 8693 | 22649 |\n",
       "| schp679 | 2528 | 19906 |\n",
       "| schp675 | 3687 | 20438 |\n",
       "| schp681 | 3705 | 20227 |\n",
       "| schp678 | 4378 | 20630 |\n",
       "| schp677 | 3967 | 20604 |\n",
       "| schp676 | 2657 | 20223 |\n",
       "| schp674 | 1270 | 20316 |\n",
       "| schp680 | 1117 | 19377 |\n",
       "\n"
      ],
      "text/plain": [
       "   strain  mean_yfp mean_rfp\n",
       "1  schp688 1748     20754   \n",
       "2  schp684 3294     20585   \n",
       "3  schp690 3535     20593   \n",
       "4  schp687 4658     20860   \n",
       "5  schp686 5000     21171   \n",
       "6  schp685 7379     22956   \n",
       "7  schp683 9365     23866   \n",
       "8  schp689 8693     22649   \n",
       "9  schp679 2528     19906   \n",
       "10 schp675 3687     20438   \n",
       "11 schp681 3705     20227   \n",
       "12 schp678 4378     20630   \n",
       "13 schp677 3967     20604   \n",
       "14 schp676 2657     20223   \n",
       "15 schp674 1270     20316   \n",
       "16 schp680 1117     19377   "
      ]
     },
     "metadata": {},
     "output_type": "display_data"
    }
   ],
   "source": [
    "data <- read_tsv(\"data/example_dataset_2.tsv\")\n",
    "data"
   ]
  },
  {
   "cell_type": "code",
   "execution_count": 119,
   "metadata": {
    "vscode": {
     "languageId": "r"
    }
   },
   "outputs": [
    {
     "name": "stdout",
     "output_type": "stream",
     "text": [
      "\u001b[90m# A tibble: 1 × 2\u001b[39m\n",
      "  max_yfp max_rfp\n",
      "    \u001b[3m\u001b[90m<dbl>\u001b[39m\u001b[23m   \u001b[3m\u001b[90m<dbl>\u001b[39m\u001b[23m\n",
      "\u001b[90m1\u001b[39m    \u001b[4m9\u001b[24m365   \u001b[4m2\u001b[24m\u001b[4m3\u001b[24m866\n"
     ]
    }
   ],
   "source": [
    "data %>%\n",
    "  summarize(max_yfp = max(mean_yfp),\n",
    "            max_rfp = max(mean_rfp)) %>%\n",
    "  print()"
   ]
  },
  {
   "cell_type": "code",
   "execution_count": 121,
   "metadata": {
    "vscode": {
     "languageId": "r"
    }
   },
   "outputs": [
    {
     "data": {
      "text/html": [
       "<table class=\"dataframe\">\n",
       "<caption>A tibble: 1 × 1</caption>\n",
       "<thead>\n",
       "\t<tr><th scope=col>n_sample</th></tr>\n",
       "\t<tr><th scope=col>&lt;int&gt;</th></tr>\n",
       "</thead>\n",
       "<tbody>\n",
       "\t<tr><td>16</td></tr>\n",
       "</tbody>\n",
       "</table>\n"
      ],
      "text/latex": [
       "A tibble: 1 × 1\n",
       "\\begin{tabular}{l}\n",
       " n\\_sample\\\\\n",
       " <int>\\\\\n",
       "\\hline\n",
       "\t 16\\\\\n",
       "\\end{tabular}\n"
      ],
      "text/markdown": [
       "\n",
       "A tibble: 1 × 1\n",
       "\n",
       "| n_sample &lt;int&gt; |\n",
       "|---|\n",
       "| 16 |\n",
       "\n"
      ],
      "text/plain": [
       "  n_sample\n",
       "1 16      "
      ]
     },
     "metadata": {},
     "output_type": "display_data"
    }
   ],
   "source": [
    "data %>%\n",
    "  summarize(n_sample = n())\n"
   ]
  },
  {
   "cell_type": "markdown",
   "metadata": {},
   "source": [
    "## Other examples of summary functions:"
   ]
  },
  {
   "cell_type": "markdown",
   "metadata": {},
   "source": [
    "- min()\t\n",
    "- mean()\n",
    "- sd()\t\n",
    "- dplyr::first()\t\n",
    "- dplyr::n()"
   ]
  },
  {
   "cell_type": "markdown",
   "metadata": {},
   "source": [
    "## Use `group_by` to group rows by one or more columns"
   ]
  },
  {
   "cell_type": "code",
   "execution_count": 125,
   "metadata": {
    "vscode": {
     "languageId": "r"
    }
   },
   "outputs": [
    {
     "name": "stderr",
     "output_type": "stream",
     "text": [
      "\u001b[1mRows: \u001b[22m\u001b[34m74\u001b[39m \u001b[1mColumns: \u001b[22m\u001b[34m4\u001b[39m\n",
      "\u001b[36m──\u001b[39m \u001b[1mColumn specification\u001b[22m \u001b[36m────────────────────────────────────────────────────────\u001b[39m\n",
      "\u001b[1mDelimiter:\u001b[22m \"\\t\"\n",
      "\u001b[31mchr\u001b[39m (1): strain\n",
      "\u001b[32mdbl\u001b[39m (3): yfp, rfp, replicate\n",
      "\n",
      "\u001b[36mℹ\u001b[39m Use `spec()` to retrieve the full column specification for this data.\n",
      "\u001b[36mℹ\u001b[39m Specify the column types or set `show_col_types = FALSE` to quiet this message.\n"
     ]
    },
    {
     "name": "stdout",
     "output_type": "stream",
     "text": [
      "\u001b[90m# A tibble: 74 × 4\u001b[39m\n",
      "   strain    yfp   rfp replicate\n",
      "   \u001b[3m\u001b[90m<chr>\u001b[39m\u001b[23m   \u001b[3m\u001b[90m<dbl>\u001b[39m\u001b[23m \u001b[3m\u001b[90m<dbl>\u001b[39m\u001b[23m     \u001b[3m\u001b[90m<dbl>\u001b[39m\u001b[23m\n",
      "\u001b[90m 1\u001b[39m schp677  \u001b[4m4\u001b[24m123 \u001b[4m2\u001b[24m\u001b[4m0\u001b[24m661         1\n",
      "\u001b[90m 2\u001b[39m schp678  \u001b[4m4\u001b[24m550 \u001b[4m2\u001b[24m\u001b[4m1\u001b[24m437         1\n",
      "\u001b[90m 3\u001b[39m schp675  \u001b[4m3\u001b[24m880 \u001b[4m2\u001b[24m\u001b[4m1\u001b[24m323         1\n",
      "\u001b[90m 4\u001b[39m schp676  \u001b[4m2\u001b[24m863 \u001b[4m2\u001b[24m\u001b[4m0\u001b[24m668         1\n",
      "\u001b[90m 5\u001b[39m schp687  \u001b[4m4\u001b[24m767 \u001b[4m2\u001b[24m\u001b[4m0\u001b[24m995         1\n",
      "\u001b[90m 6\u001b[39m schp688  \u001b[4m1\u001b[24m274 \u001b[4m2\u001b[24m\u001b[4m0\u001b[24m927         1\n",
      "\u001b[90m 7\u001b[39m schp679  \u001b[4m2\u001b[24m605 \u001b[4m2\u001b[24m\u001b[4m0\u001b[24m840         1\n",
      "\u001b[90m 8\u001b[39m schp680  \u001b[4m1\u001b[24m175 \u001b[4m2\u001b[24m\u001b[4m0\u001b[24m902         1\n",
      "\u001b[90m 9\u001b[39m schp681  \u001b[4m3\u001b[24m861 \u001b[4m2\u001b[24m\u001b[4m0\u001b[24m659         1\n",
      "\u001b[90m10\u001b[39m schp683  \u001b[4m9\u001b[24m949 \u001b[4m2\u001b[24m\u001b[4m5\u001b[24m406         1\n",
      "\u001b[90m# … with 64 more rows\u001b[39m\n"
     ]
    }
   ],
   "source": [
    "data <- read_tsv(\"data/example_dataset_4.tsv\") %>% \n",
    "  print()"
   ]
  },
  {
   "cell_type": "code",
   "execution_count": 126,
   "metadata": {
    "vscode": {
     "languageId": "r"
    }
   },
   "outputs": [
    {
     "name": "stdout",
     "output_type": "stream",
     "text": [
      "\u001b[90m# A tibble: 74 × 4\u001b[39m\n",
      "\u001b[90m# Groups:   strain [16]\u001b[39m\n",
      "   strain    yfp   rfp replicate\n",
      "   \u001b[3m\u001b[90m<chr>\u001b[39m\u001b[23m   \u001b[3m\u001b[90m<dbl>\u001b[39m\u001b[23m \u001b[3m\u001b[90m<dbl>\u001b[39m\u001b[23m     \u001b[3m\u001b[90m<dbl>\u001b[39m\u001b[23m\n",
      "\u001b[90m 1\u001b[39m schp677  \u001b[4m4\u001b[24m123 \u001b[4m2\u001b[24m\u001b[4m0\u001b[24m661         1\n",
      "\u001b[90m 2\u001b[39m schp678  \u001b[4m4\u001b[24m550 \u001b[4m2\u001b[24m\u001b[4m1\u001b[24m437         1\n",
      "\u001b[90m 3\u001b[39m schp675  \u001b[4m3\u001b[24m880 \u001b[4m2\u001b[24m\u001b[4m1\u001b[24m323         1\n",
      "\u001b[90m 4\u001b[39m schp676  \u001b[4m2\u001b[24m863 \u001b[4m2\u001b[24m\u001b[4m0\u001b[24m668         1\n",
      "\u001b[90m 5\u001b[39m schp687  \u001b[4m4\u001b[24m767 \u001b[4m2\u001b[24m\u001b[4m0\u001b[24m995         1\n",
      "\u001b[90m 6\u001b[39m schp688  \u001b[4m1\u001b[24m274 \u001b[4m2\u001b[24m\u001b[4m0\u001b[24m927         1\n",
      "\u001b[90m 7\u001b[39m schp679  \u001b[4m2\u001b[24m605 \u001b[4m2\u001b[24m\u001b[4m0\u001b[24m840         1\n",
      "\u001b[90m 8\u001b[39m schp680  \u001b[4m1\u001b[24m175 \u001b[4m2\u001b[24m\u001b[4m0\u001b[24m902         1\n",
      "\u001b[90m 9\u001b[39m schp681  \u001b[4m3\u001b[24m861 \u001b[4m2\u001b[24m\u001b[4m0\u001b[24m659         1\n",
      "\u001b[90m10\u001b[39m schp683  \u001b[4m9\u001b[24m949 \u001b[4m2\u001b[24m\u001b[4m5\u001b[24m406         1\n",
      "\u001b[90m# … with 64 more rows\u001b[39m\n"
     ]
    }
   ],
   "source": [
    "data %>% \n",
    "  group_by(strain) %>%\n",
    "  print()"
   ]
  },
  {
   "cell_type": "markdown",
   "metadata": {},
   "source": [
    "## Use `group_by` + `summarize` for statistics by group"
   ]
  },
  {
   "cell_type": "code",
   "execution_count": 127,
   "metadata": {
    "vscode": {
     "languageId": "r"
    }
   },
   "outputs": [
    {
     "name": "stdout",
     "output_type": "stream",
     "text": [
      "\u001b[90m# A tibble: 16 × 3\u001b[39m\n",
      "   strain  mean_yfp mean_rfp\n",
      "   \u001b[3m\u001b[90m<chr>\u001b[39m\u001b[23m      \u001b[3m\u001b[90m<dbl>\u001b[39m\u001b[23m    \u001b[3m\u001b[90m<dbl>\u001b[39m\u001b[23m\n",
      "\u001b[90m 1\u001b[39m schp674    \u001b[4m1\u001b[24m270    \u001b[4m2\u001b[24m\u001b[4m0\u001b[24m316 \n",
      "\u001b[90m 2\u001b[39m schp675    \u001b[4m3\u001b[24m687.   \u001b[4m2\u001b[24m\u001b[4m0\u001b[24m438.\n",
      "\u001b[90m 3\u001b[39m schp676    \u001b[4m2\u001b[24m656.   \u001b[4m2\u001b[24m\u001b[4m0\u001b[24m223.\n",
      "\u001b[90m 4\u001b[39m schp677    \u001b[4m3\u001b[24m967.   \u001b[4m2\u001b[24m\u001b[4m0\u001b[24m604 \n",
      "\u001b[90m 5\u001b[39m schp678    \u001b[4m4\u001b[24m378.   \u001b[4m2\u001b[24m\u001b[4m0\u001b[24m630.\n",
      "\u001b[90m 6\u001b[39m schp679    \u001b[4m2\u001b[24m528    \u001b[4m1\u001b[24m\u001b[4m9\u001b[24m906 \n",
      "\u001b[90m 7\u001b[39m schp680    \u001b[4m1\u001b[24m117.   \u001b[4m1\u001b[24m\u001b[4m9\u001b[24m377.\n",
      "\u001b[90m 8\u001b[39m schp681    \u001b[4m3\u001b[24m705    \u001b[4m2\u001b[24m\u001b[4m0\u001b[24m227 \n",
      "\u001b[90m 9\u001b[39m schp683    \u001b[4m9\u001b[24m364.   \u001b[4m2\u001b[24m\u001b[4m3\u001b[24m866.\n",
      "\u001b[90m10\u001b[39m schp684    \u001b[4m3\u001b[24m294.   \u001b[4m2\u001b[24m\u001b[4m0\u001b[24m585.\n",
      "\u001b[90m11\u001b[39m schp685    \u001b[4m7\u001b[24m379    \u001b[4m2\u001b[24m\u001b[4m2\u001b[24m956 \n",
      "\u001b[90m12\u001b[39m schp686    \u001b[4m5\u001b[24m000.   \u001b[4m2\u001b[24m\u001b[4m1\u001b[24m171.\n",
      "\u001b[90m13\u001b[39m schp687    \u001b[4m4\u001b[24m658.   \u001b[4m2\u001b[24m\u001b[4m0\u001b[24m860.\n",
      "\u001b[90m14\u001b[39m schp688    \u001b[4m1\u001b[24m748.   \u001b[4m2\u001b[24m\u001b[4m0\u001b[24m755.\n",
      "\u001b[90m15\u001b[39m schp689    \u001b[4m8\u001b[24m693.   \u001b[4m2\u001b[24m\u001b[4m2\u001b[24m650.\n",
      "\u001b[90m16\u001b[39m schp690    \u001b[4m3\u001b[24m535.   \u001b[4m2\u001b[24m\u001b[4m0\u001b[24m594.\n"
     ]
    }
   ],
   "source": [
    "data %>% \n",
    "  group_by(strain) %>%\n",
    "  summarize(mean_yfp = mean(yfp), mean_rfp = mean(rfp)) %>%\n",
    "  print()"
   ]
  },
  {
   "cell_type": "code",
   "execution_count": 128,
   "metadata": {
    "vscode": {
     "languageId": "r"
    }
   },
   "outputs": [
    {
     "name": "stdout",
     "output_type": "stream",
     "text": [
      "\u001b[90m# A tibble: 16 × 5\u001b[39m\n",
      "   strain  mean_yfp mean_rfp se_yfp se_rfp\n",
      "   \u001b[3m\u001b[90m<chr>\u001b[39m\u001b[23m      \u001b[3m\u001b[90m<dbl>\u001b[39m\u001b[23m    \u001b[3m\u001b[90m<dbl>\u001b[39m\u001b[23m  \u001b[3m\u001b[90m<dbl>\u001b[39m\u001b[23m  \u001b[3m\u001b[90m<dbl>\u001b[39m\u001b[23m\n",
      "\u001b[90m 1\u001b[39m schp674    \u001b[4m1\u001b[24m270    \u001b[4m2\u001b[24m\u001b[4m0\u001b[24m316    54     717 \n",
      "\u001b[90m 2\u001b[39m schp675    \u001b[4m3\u001b[24m687.   \u001b[4m2\u001b[24m\u001b[4m0\u001b[24m438.   84.6   483.\n",
      "\u001b[90m 3\u001b[39m schp676    \u001b[4m2\u001b[24m656.   \u001b[4m2\u001b[24m\u001b[4m0\u001b[24m223.  137.    380.\n",
      "\u001b[90m 4\u001b[39m schp677    \u001b[4m3\u001b[24m967.   \u001b[4m2\u001b[24m\u001b[4m0\u001b[24m604   107.    423.\n",
      "\u001b[90m 5\u001b[39m schp678    \u001b[4m4\u001b[24m378.   \u001b[4m2\u001b[24m\u001b[4m0\u001b[24m630.  111.    575.\n",
      "\u001b[90m 6\u001b[39m schp679    \u001b[4m2\u001b[24m528    \u001b[4m1\u001b[24m\u001b[4m9\u001b[24m906    33.9  \u001b[4m1\u001b[24m034.\n",
      "\u001b[90m 7\u001b[39m schp680    \u001b[4m1\u001b[24m117.   \u001b[4m1\u001b[24m\u001b[4m9\u001b[24m377.   27.7   700.\n",
      "\u001b[90m 8\u001b[39m schp681    \u001b[4m3\u001b[24m705    \u001b[4m2\u001b[24m\u001b[4m0\u001b[24m227    90.8   469.\n",
      "\u001b[90m 9\u001b[39m schp683    \u001b[4m9\u001b[24m364.   \u001b[4m2\u001b[24m\u001b[4m3\u001b[24m866.  352.    515.\n",
      "\u001b[90m10\u001b[39m schp684    \u001b[4m3\u001b[24m294.   \u001b[4m2\u001b[24m\u001b[4m0\u001b[24m585.   49.6   318.\n",
      "\u001b[90m11\u001b[39m schp685    \u001b[4m7\u001b[24m379    \u001b[4m2\u001b[24m\u001b[4m2\u001b[24m956   194.    973.\n",
      "\u001b[90m12\u001b[39m schp686    \u001b[4m5\u001b[24m000.   \u001b[4m2\u001b[24m\u001b[4m1\u001b[24m171.   81.5   307.\n",
      "\u001b[90m13\u001b[39m schp687    \u001b[4m4\u001b[24m658.   \u001b[4m2\u001b[24m\u001b[4m0\u001b[24m860.   80.9   199.\n",
      "\u001b[90m14\u001b[39m schp688    \u001b[4m1\u001b[24m748.   \u001b[4m2\u001b[24m\u001b[4m0\u001b[24m755.  160.    203.\n",
      "\u001b[90m15\u001b[39m schp689    \u001b[4m8\u001b[24m693.   \u001b[4m2\u001b[24m\u001b[4m2\u001b[24m650.  667.   \u001b[4m1\u001b[24m045.\n",
      "\u001b[90m16\u001b[39m schp690    \u001b[4m3\u001b[24m535.   \u001b[4m2\u001b[24m\u001b[4m0\u001b[24m594.   31.0   173.\n"
     ]
    }
   ],
   "source": [
    "data %>% \n",
    "  group_by(strain) %>%\n",
    "  summarize(mean_yfp = mean(yfp), mean_rfp = mean(rfp),\n",
    "            se_yfp = sd(yfp) / sqrt(n()), \n",
    "            se_rfp = sd(rfp) / sqrt(n())) %>%\n",
    "  print()"
   ]
  },
  {
   "cell_type": "markdown",
   "metadata": {},
   "source": [
    "## `%>%` enables complex yet easily understandable data analysis pipelines"
   ]
  },
  {
   "cell_type": "code",
   "execution_count": 129,
   "metadata": {
    "vscode": {
     "languageId": "r"
    }
   },
   "outputs": [
    {
     "name": "stderr",
     "output_type": "stream",
     "text": [
      "\u001b[1mRows: \u001b[22m\u001b[34m17\u001b[39m \u001b[1mColumns: \u001b[22m\u001b[34m3\u001b[39m\n",
      "\u001b[36m──\u001b[39m \u001b[1mColumn specification\u001b[22m \u001b[36m────────────────────────────────────────────────────────\u001b[39m\n",
      "\u001b[1mDelimiter:\u001b[22m \"\\t\"\n",
      "\u001b[31mchr\u001b[39m (3): strain, insert_sequence, kozak_region\n",
      "\n",
      "\u001b[36mℹ\u001b[39m Use `spec()` to retrieve the full column specification for this data.\n",
      "\u001b[36mℹ\u001b[39m Specify the column types or set `show_col_types = FALSE` to quiet this message.\n"
     ]
    },
    {
     "data": {
      "text/html": [
       "<table class=\"dataframe\">\n",
       "<caption>A spec_tbl_df: 17 × 3</caption>\n",
       "<thead>\n",
       "\t<tr><th scope=col>strain</th><th scope=col>insert_sequence</th><th scope=col>kozak_region</th></tr>\n",
       "\t<tr><th scope=col>&lt;chr&gt;</th><th scope=col>&lt;chr&gt;</th><th scope=col>&lt;chr&gt;</th></tr>\n",
       "</thead>\n",
       "<tbody>\n",
       "\t<tr><td>schp674</td><td>10×AAG</td><td>G </td></tr>\n",
       "\t<tr><td>schp675</td><td>10×AAG</td><td>B </td></tr>\n",
       "\t<tr><td>schp676</td><td>10×AAG</td><td>F </td></tr>\n",
       "\t<tr><td>schp677</td><td>10×AAG</td><td>E </td></tr>\n",
       "\t<tr><td>schp678</td><td>10×AAG</td><td>D </td></tr>\n",
       "\t<tr><td>schp679</td><td>10×AAG</td><td>A </td></tr>\n",
       "\t<tr><td>schp680</td><td>10×AAG</td><td>H </td></tr>\n",
       "\t<tr><td>schp681</td><td>10×AAG</td><td>C </td></tr>\n",
       "\t<tr><td>schp683</td><td>10×AGA</td><td>G </td></tr>\n",
       "\t<tr><td>schp684</td><td>10×AGA</td><td>B </td></tr>\n",
       "\t<tr><td>schp685</td><td>10×AGA</td><td>F </td></tr>\n",
       "\t<tr><td>schp686</td><td>10×AGA</td><td>E </td></tr>\n",
       "\t<tr><td>schp687</td><td>10×AGA</td><td>D </td></tr>\n",
       "\t<tr><td>schp688</td><td>10×AGA</td><td>A </td></tr>\n",
       "\t<tr><td>schp689</td><td>10×AGA</td><td>H </td></tr>\n",
       "\t<tr><td>schp690</td><td>10×AGA</td><td>C </td></tr>\n",
       "\t<tr><td>control</td><td>NA    </td><td>NA</td></tr>\n",
       "</tbody>\n",
       "</table>\n"
      ],
      "text/latex": [
       "A spec\\_tbl\\_df: 17 × 3\n",
       "\\begin{tabular}{lll}\n",
       " strain & insert\\_sequence & kozak\\_region\\\\\n",
       " <chr> & <chr> & <chr>\\\\\n",
       "\\hline\n",
       "\t schp674 & 10×AAG & G \\\\\n",
       "\t schp675 & 10×AAG & B \\\\\n",
       "\t schp676 & 10×AAG & F \\\\\n",
       "\t schp677 & 10×AAG & E \\\\\n",
       "\t schp678 & 10×AAG & D \\\\\n",
       "\t schp679 & 10×AAG & A \\\\\n",
       "\t schp680 & 10×AAG & H \\\\\n",
       "\t schp681 & 10×AAG & C \\\\\n",
       "\t schp683 & 10×AGA & G \\\\\n",
       "\t schp684 & 10×AGA & B \\\\\n",
       "\t schp685 & 10×AGA & F \\\\\n",
       "\t schp686 & 10×AGA & E \\\\\n",
       "\t schp687 & 10×AGA & D \\\\\n",
       "\t schp688 & 10×AGA & A \\\\\n",
       "\t schp689 & 10×AGA & H \\\\\n",
       "\t schp690 & 10×AGA & C \\\\\n",
       "\t control & NA     & NA\\\\\n",
       "\\end{tabular}\n"
      ],
      "text/markdown": [
       "\n",
       "A spec_tbl_df: 17 × 3\n",
       "\n",
       "| strain &lt;chr&gt; | insert_sequence &lt;chr&gt; | kozak_region &lt;chr&gt; |\n",
       "|---|---|---|\n",
       "| schp674 | 10×AAG | G  |\n",
       "| schp675 | 10×AAG | B  |\n",
       "| schp676 | 10×AAG | F  |\n",
       "| schp677 | 10×AAG | E  |\n",
       "| schp678 | 10×AAG | D  |\n",
       "| schp679 | 10×AAG | A  |\n",
       "| schp680 | 10×AAG | H  |\n",
       "| schp681 | 10×AAG | C  |\n",
       "| schp683 | 10×AGA | G  |\n",
       "| schp684 | 10×AGA | B  |\n",
       "| schp685 | 10×AGA | F  |\n",
       "| schp686 | 10×AGA | E  |\n",
       "| schp687 | 10×AGA | D  |\n",
       "| schp688 | 10×AGA | A  |\n",
       "| schp689 | 10×AGA | H  |\n",
       "| schp690 | 10×AGA | C  |\n",
       "| control | NA     | NA |\n",
       "\n"
      ],
      "text/plain": [
       "   strain  insert_sequence kozak_region\n",
       "1  schp674 10×AAG          G           \n",
       "2  schp675 10×AAG          B           \n",
       "3  schp676 10×AAG          F           \n",
       "4  schp677 10×AAG          E           \n",
       "5  schp678 10×AAG          D           \n",
       "6  schp679 10×AAG          A           \n",
       "7  schp680 10×AAG          H           \n",
       "8  schp681 10×AAG          C           \n",
       "9  schp683 10×AGA          G           \n",
       "10 schp684 10×AGA          B           \n",
       "11 schp685 10×AGA          F           \n",
       "12 schp686 10×AGA          E           \n",
       "13 schp687 10×AGA          D           \n",
       "14 schp688 10×AGA          A           \n",
       "15 schp689 10×AGA          H           \n",
       "16 schp690 10×AGA          C           \n",
       "17 control NA              NA          "
      ]
     },
     "metadata": {},
     "output_type": "display_data"
    }
   ],
   "source": [
    "annotations <- read_tsv(\"data/example_dataset_3.tsv\")\n",
    "\n",
    "annotations"
   ]
  },
  {
   "cell_type": "code",
   "execution_count": 130,
   "metadata": {
    "vscode": {
     "languageId": "r"
    }
   },
   "outputs": [
    {
     "name": "stdout",
     "output_type": "stream",
     "text": [
      "\u001b[90m# A tibble: 16 × 6\u001b[39m\n",
      "   strain  mean_yfp mean_rfp mean_ratio insert_sequence kozak_region\n",
      "   \u001b[3m\u001b[90m<chr>\u001b[39m\u001b[23m      \u001b[3m\u001b[90m<dbl>\u001b[39m\u001b[23m    \u001b[3m\u001b[90m<dbl>\u001b[39m\u001b[23m      \u001b[3m\u001b[90m<dbl>\u001b[39m\u001b[23m \u001b[3m\u001b[90m<chr>\u001b[39m\u001b[23m           \u001b[3m\u001b[90m<chr>\u001b[39m\u001b[23m       \n",
      "\u001b[90m 1\u001b[39m schp674    \u001b[4m1\u001b[24m270    \u001b[4m2\u001b[24m\u001b[4m0\u001b[24m316      0.062\u001b[4m5\u001b[24m 10×AAG          G           \n",
      "\u001b[90m 2\u001b[39m schp675    \u001b[4m3\u001b[24m687.   \u001b[4m2\u001b[24m\u001b[4m0\u001b[24m438.     0.180  10×AAG          B           \n",
      "\u001b[90m 3\u001b[39m schp676    \u001b[4m2\u001b[24m656.   \u001b[4m2\u001b[24m\u001b[4m0\u001b[24m223.     0.131  10×AAG          F           \n",
      "\u001b[90m 4\u001b[39m schp677    \u001b[4m3\u001b[24m967.   \u001b[4m2\u001b[24m\u001b[4m0\u001b[24m604      0.193  10×AAG          E           \n",
      "\u001b[90m 5\u001b[39m schp678    \u001b[4m4\u001b[24m378.   \u001b[4m2\u001b[24m\u001b[4m0\u001b[24m630.     0.212  10×AAG          D           \n",
      "\u001b[90m 6\u001b[39m schp679    \u001b[4m2\u001b[24m528    \u001b[4m1\u001b[24m\u001b[4m9\u001b[24m906      0.127  10×AAG          A           \n",
      "\u001b[90m 7\u001b[39m schp680    \u001b[4m1\u001b[24m117.   \u001b[4m1\u001b[24m\u001b[4m9\u001b[24m377.     0.057\u001b[4m7\u001b[24m 10×AAG          H           \n",
      "\u001b[90m 8\u001b[39m schp681    \u001b[4m3\u001b[24m705    \u001b[4m2\u001b[24m\u001b[4m0\u001b[24m227      0.183  10×AAG          C           \n",
      "\u001b[90m 9\u001b[39m schp683    \u001b[4m9\u001b[24m364.   \u001b[4m2\u001b[24m\u001b[4m3\u001b[24m866.     0.392  10×AGA          G           \n",
      "\u001b[90m10\u001b[39m schp684    \u001b[4m3\u001b[24m294.   \u001b[4m2\u001b[24m\u001b[4m0\u001b[24m585.     0.160  10×AGA          B           \n",
      "\u001b[90m11\u001b[39m schp685    \u001b[4m7\u001b[24m379    \u001b[4m2\u001b[24m\u001b[4m2\u001b[24m956      0.321  10×AGA          F           \n",
      "\u001b[90m12\u001b[39m schp686    \u001b[4m5\u001b[24m000.   \u001b[4m2\u001b[24m\u001b[4m1\u001b[24m171.     0.236  10×AGA          E           \n",
      "\u001b[90m13\u001b[39m schp687    \u001b[4m4\u001b[24m658.   \u001b[4m2\u001b[24m\u001b[4m0\u001b[24m860.     0.223  10×AGA          D           \n",
      "\u001b[90m14\u001b[39m schp688    \u001b[4m1\u001b[24m748.   \u001b[4m2\u001b[24m\u001b[4m0\u001b[24m755.     0.084\u001b[4m2\u001b[24m 10×AGA          A           \n",
      "\u001b[90m15\u001b[39m schp689    \u001b[4m8\u001b[24m693.   \u001b[4m2\u001b[24m\u001b[4m2\u001b[24m650.     0.384  10×AGA          H           \n",
      "\u001b[90m16\u001b[39m schp690    \u001b[4m3\u001b[24m535.   \u001b[4m2\u001b[24m\u001b[4m0\u001b[24m594.     0.172  10×AGA          C           \n"
     ]
    }
   ],
   "source": [
    "data %>% \n",
    "  group_by(strain) %>%\n",
    "  summarize(mean_yfp = mean(yfp), mean_rfp = mean(rfp)) %>%\n",
    "  mutate(mean_ratio = mean_yfp / mean_rfp) %>%\n",
    "  left_join(annotations, by = \"strain\") %>%\n",
    "  print()"
   ]
  },
  {
   "cell_type": "markdown",
   "metadata": {},
   "source": [
    "## %>% and + if you want to plot\n"
   ]
  },
  {
   "cell_type": "code",
   "execution_count": 131,
   "metadata": {
    "vscode": {
     "languageId": "r"
    }
   },
   "outputs": [
    {
     "data": {
      "image/png": "[encoded data removed]",
      "text/plain": [
       "plot without title"
      ]
     },
     "metadata": {
      "image/png": {
       "height": 180,
       "width": 300
      }
     },
     "output_type": "display_data"
    }
   ],
   "source": [
    "options(repr.plot.width = 5, repr.plot.height = 3)\n",
    "\n",
    "data %>% \n",
    "  group_by(strain) %>%\n",
    "  summarize(mean_yfp = mean(yfp), mean_rfp = mean(rfp)) %>%\n",
    "  mutate(mean_ratio = mean_yfp / mean_rfp) %>%\n",
    "  left_join(annotations, by = \"strain\") %>%\n",
    "  ggplot(aes(x = kozak_region, y = mean_ratio, \n",
    "             color = insert_sequence, group = insert_sequence)) +\n",
    "  geom_line() + \n",
    "  geom_point() +\n",
    "  theme_classic() +\n",
    "  labs(x = \"Kozak region\", y = \"Mean YFP / RFP ratio\", color = \"Insert\")"
   ]
  },
  {
   "cell_type": "markdown",
   "metadata": {},
   "source": [
    "## Re-shape data using `pivot_longer` and `pivot_wider`"
   ]
  },
  {
   "cell_type": "code",
   "execution_count": 132,
   "metadata": {
    "vscode": {
     "languageId": "r"
    }
   },
   "outputs": [
    {
     "name": "stderr",
     "output_type": "stream",
     "text": [
      "\u001b[1mRows: \u001b[22m\u001b[34m74\u001b[39m \u001b[1mColumns: \u001b[22m\u001b[34m4\u001b[39m\n",
      "\u001b[36m──\u001b[39m \u001b[1mColumn specification\u001b[22m \u001b[36m────────────────────────────────────────────────────────\u001b[39m\n",
      "\u001b[1mDelimiter:\u001b[22m \"\\t\"\n",
      "\u001b[31mchr\u001b[39m (1): strain\n",
      "\u001b[32mdbl\u001b[39m (3): yfp, rfp, replicate\n",
      "\n",
      "\u001b[36mℹ\u001b[39m Use `spec()` to retrieve the full column specification for this data.\n",
      "\u001b[36mℹ\u001b[39m Specify the column types or set `show_col_types = FALSE` to quiet this message.\n"
     ]
    },
    {
     "name": "stdout",
     "output_type": "stream",
     "text": [
      "\u001b[90m# A tibble: 74 × 4\u001b[39m\n",
      "   strain    yfp   rfp replicate\n",
      "   \u001b[3m\u001b[90m<chr>\u001b[39m\u001b[23m   \u001b[3m\u001b[90m<dbl>\u001b[39m\u001b[23m \u001b[3m\u001b[90m<dbl>\u001b[39m\u001b[23m     \u001b[3m\u001b[90m<dbl>\u001b[39m\u001b[23m\n",
      "\u001b[90m 1\u001b[39m schp677  \u001b[4m4\u001b[24m123 \u001b[4m2\u001b[24m\u001b[4m0\u001b[24m661         1\n",
      "\u001b[90m 2\u001b[39m schp678  \u001b[4m4\u001b[24m550 \u001b[4m2\u001b[24m\u001b[4m1\u001b[24m437         1\n",
      "\u001b[90m 3\u001b[39m schp675  \u001b[4m3\u001b[24m880 \u001b[4m2\u001b[24m\u001b[4m1\u001b[24m323         1\n",
      "\u001b[90m 4\u001b[39m schp676  \u001b[4m2\u001b[24m863 \u001b[4m2\u001b[24m\u001b[4m0\u001b[24m668         1\n",
      "\u001b[90m 5\u001b[39m schp687  \u001b[4m4\u001b[24m767 \u001b[4m2\u001b[24m\u001b[4m0\u001b[24m995         1\n",
      "\u001b[90m 6\u001b[39m schp688  \u001b[4m1\u001b[24m274 \u001b[4m2\u001b[24m\u001b[4m0\u001b[24m927         1\n",
      "\u001b[90m 7\u001b[39m schp679  \u001b[4m2\u001b[24m605 \u001b[4m2\u001b[24m\u001b[4m0\u001b[24m840         1\n",
      "\u001b[90m 8\u001b[39m schp680  \u001b[4m1\u001b[24m175 \u001b[4m2\u001b[24m\u001b[4m0\u001b[24m902         1\n",
      "\u001b[90m 9\u001b[39m schp681  \u001b[4m3\u001b[24m861 \u001b[4m2\u001b[24m\u001b[4m0\u001b[24m659         1\n",
      "\u001b[90m10\u001b[39m schp683  \u001b[4m9\u001b[24m949 \u001b[4m2\u001b[24m\u001b[4m5\u001b[24m406         1\n",
      "\u001b[90m# … with 64 more rows\u001b[39m\n"
     ]
    }
   ],
   "source": [
    "data <- read_tsv(\"data/example_dataset_4.tsv\") %>% \n",
    "  print()"
   ]
  },
  {
   "cell_type": "markdown",
   "metadata": {},
   "source": [
    "How do you plot a histogram of both `yfp` and `rfp` as separate panels?"
   ]
  },
  {
   "cell_type": "code",
   "execution_count": 133,
   "metadata": {
    "vscode": {
     "languageId": "r"
    }
   },
   "outputs": [
    {
     "name": "stdout",
     "output_type": "stream",
     "text": [
      "\u001b[90m# A tibble: 148 × 4\u001b[39m\n",
      "   strain  replicate channel value\n",
      "   \u001b[3m\u001b[90m<chr>\u001b[39m\u001b[23m       \u001b[3m\u001b[90m<dbl>\u001b[39m\u001b[23m \u001b[3m\u001b[90m<chr>\u001b[39m\u001b[23m   \u001b[3m\u001b[90m<dbl>\u001b[39m\u001b[23m\n",
      "\u001b[90m 1\u001b[39m schp677         1 yfp      \u001b[4m4\u001b[24m123\n",
      "\u001b[90m 2\u001b[39m schp677         1 rfp     \u001b[4m2\u001b[24m\u001b[4m0\u001b[24m661\n",
      "\u001b[90m 3\u001b[39m schp678         1 yfp      \u001b[4m4\u001b[24m550\n",
      "\u001b[90m 4\u001b[39m schp678         1 rfp     \u001b[4m2\u001b[24m\u001b[4m1\u001b[24m437\n",
      "\u001b[90m 5\u001b[39m schp675         1 yfp      \u001b[4m3\u001b[24m880\n",
      "\u001b[90m 6\u001b[39m schp675         1 rfp     \u001b[4m2\u001b[24m\u001b[4m1\u001b[24m323\n",
      "\u001b[90m 7\u001b[39m schp676         1 yfp      \u001b[4m2\u001b[24m863\n",
      "\u001b[90m 8\u001b[39m schp676         1 rfp     \u001b[4m2\u001b[24m\u001b[4m0\u001b[24m668\n",
      "\u001b[90m 9\u001b[39m schp687         1 yfp      \u001b[4m4\u001b[24m767\n",
      "\u001b[90m10\u001b[39m schp687         1 rfp     \u001b[4m2\u001b[24m\u001b[4m0\u001b[24m995\n",
      "\u001b[90m# … with 138 more rows\u001b[39m\n"
     ]
    }
   ],
   "source": [
    "data %>%\n",
    "  pivot_longer(c(\"yfp\", \"rfp\"), names_to = \"channel\", values_to = \"value\") %>%\n",
    "  print()"
   ]
  },
  {
   "cell_type": "code",
   "execution_count": 134,
   "metadata": {
    "vscode": {
     "languageId": "r"
    }
   },
   "outputs": [
    {
     "name": "stdout",
     "output_type": "stream",
     "text": [
      "\u001b[90m# A tibble: 74 × 4\u001b[39m\n",
      "   strain  replicate   yfp   rfp\n",
      "   \u001b[3m\u001b[90m<chr>\u001b[39m\u001b[23m       \u001b[3m\u001b[90m<dbl>\u001b[39m\u001b[23m \u001b[3m\u001b[90m<dbl>\u001b[39m\u001b[23m \u001b[3m\u001b[90m<dbl>\u001b[39m\u001b[23m\n",
      "\u001b[90m 1\u001b[39m schp677         1  \u001b[4m4\u001b[24m123 \u001b[4m2\u001b[24m\u001b[4m0\u001b[24m661\n",
      "\u001b[90m 2\u001b[39m schp678         1  \u001b[4m4\u001b[24m550 \u001b[4m2\u001b[24m\u001b[4m1\u001b[24m437\n",
      "\u001b[90m 3\u001b[39m schp675         1  \u001b[4m3\u001b[24m880 \u001b[4m2\u001b[24m\u001b[4m1\u001b[24m323\n",
      "\u001b[90m 4\u001b[39m schp676         1  \u001b[4m2\u001b[24m863 \u001b[4m2\u001b[24m\u001b[4m0\u001b[24m668\n",
      "\u001b[90m 5\u001b[39m schp687         1  \u001b[4m4\u001b[24m767 \u001b[4m2\u001b[24m\u001b[4m0\u001b[24m995\n",
      "\u001b[90m 6\u001b[39m schp688         1  \u001b[4m1\u001b[24m274 \u001b[4m2\u001b[24m\u001b[4m0\u001b[24m927\n",
      "\u001b[90m 7\u001b[39m schp679         1  \u001b[4m2\u001b[24m605 \u001b[4m2\u001b[24m\u001b[4m0\u001b[24m840\n",
      "\u001b[90m 8\u001b[39m schp680         1  \u001b[4m1\u001b[24m175 \u001b[4m2\u001b[24m\u001b[4m0\u001b[24m902\n",
      "\u001b[90m 9\u001b[39m schp681         1  \u001b[4m3\u001b[24m861 \u001b[4m2\u001b[24m\u001b[4m0\u001b[24m659\n",
      "\u001b[90m10\u001b[39m schp683         1  \u001b[4m9\u001b[24m949 \u001b[4m2\u001b[24m\u001b[4m5\u001b[24m406\n",
      "\u001b[90m# … with 64 more rows\u001b[39m\n"
     ]
    }
   ],
   "source": [
    "data %>%\n",
    "  pivot_longer(c(\"yfp\", \"rfp\"), names_to = \"channel\", values_to = \"value\") %>%\n",
    "  pivot_wider(names_from = \"channel\", values_from = \"value\") %>%\n",
    "  print()"
   ]
  },
  {
   "cell_type": "markdown",
   "metadata": {},
   "source": [
    "`pivot_longer` is useful for handling distinct measurements without listing them explicitly."
   ]
  },
  {
   "cell_type": "code",
   "execution_count": 135,
   "metadata": {
    "vscode": {
     "languageId": "r"
    }
   },
   "outputs": [
    {
     "data": {
      "image/png": "[encoded data removed]",
      "text/plain": [
       "plot without title"
      ]
     },
     "metadata": {
      "image/png": {
       "height": 180,
       "width": 300
      }
     },
     "output_type": "display_data"
    }
   ],
   "source": [
    "plot_data <- data %>%\n",
    "  pivot_longer(c(\"yfp\", \"rfp\"), names_to = \"channel\", values_to = \"value\")\n",
    "\n",
    "plot_data %>%\n",
    "  ggplot(aes(x = value)) +\n",
    "  facet_wrap(~ channel) +\n",
    "  geom_histogram(bins = 30) +\n",
    "  theme_bw()\n"
   ]
  },
  {
   "cell_type": "markdown",
   "metadata": {},
   "source": [
    "## Use `purrr::map` and `purrr::unnest` to read and work with tables from many files\n",
    "\n",
    "We use `list.files` and `enframe` to go from a list of files to a `tibble` quickly. Also check out `deframe`."
   ]
  },
  {
   "cell_type": "code",
   "execution_count": 136,
   "metadata": {
    "vscode": {
     "languageId": "r"
    }
   },
   "outputs": [
    {
     "name": "stderr",
     "output_type": "stream",
     "text": [
      "\u001b[1mRows: \u001b[22m\u001b[34m74\u001b[39m \u001b[1mColumns: \u001b[22m\u001b[34m3\u001b[39m\n",
      "\u001b[36m──\u001b[39m \u001b[1mColumn specification\u001b[22m \u001b[36m────────────────────────────────────────────────────────\u001b[39m\n",
      "\u001b[1mDelimiter:\u001b[22m \"\\t\"\n",
      "\u001b[31mchr\u001b[39m (1): strain\n",
      "\u001b[32mdbl\u001b[39m (2): replicate, value\n",
      "\n",
      "\u001b[36mℹ\u001b[39m Use `spec()` to retrieve the full column specification for this data.\n",
      "\u001b[36mℹ\u001b[39m Specify the column types or set `show_col_types = FALSE` to quiet this message.\n",
      "\u001b[1mRows: \u001b[22m\u001b[34m74\u001b[39m \u001b[1mColumns: \u001b[22m\u001b[34m3\u001b[39m\n",
      "\u001b[36m──\u001b[39m \u001b[1mColumn specification\u001b[22m \u001b[36m────────────────────────────────────────────────────────\u001b[39m\n",
      "\u001b[1mDelimiter:\u001b[22m \"\\t\"\n",
      "\u001b[31mchr\u001b[39m (1): strain\n",
      "\u001b[32mdbl\u001b[39m (2): replicate, value\n",
      "\n",
      "\u001b[36mℹ\u001b[39m Use `spec()` to retrieve the full column specification for this data.\n",
      "\u001b[36mℹ\u001b[39m Specify the column types or set `show_col_types = FALSE` to quiet this message.\n"
     ]
    },
    {
     "name": "stdout",
     "output_type": "stream",
     "text": [
      "\u001b[90m# A tibble: 148 × 4\u001b[39m\n",
      "   strain  replicate value channel\n",
      "   \u001b[3m\u001b[90m<chr>\u001b[39m\u001b[23m       \u001b[3m\u001b[90m<dbl>\u001b[39m\u001b[23m \u001b[3m\u001b[90m<dbl>\u001b[39m\u001b[23m \u001b[3m\u001b[90m<chr>\u001b[39m\u001b[23m  \n",
      "\u001b[90m 1\u001b[39m schp677         1 \u001b[4m2\u001b[24m\u001b[4m0\u001b[24m661 rfp    \n",
      "\u001b[90m 2\u001b[39m schp678         1 \u001b[4m2\u001b[24m\u001b[4m1\u001b[24m437 rfp    \n",
      "\u001b[90m 3\u001b[39m schp675         1 \u001b[4m2\u001b[24m\u001b[4m1\u001b[24m323 rfp    \n",
      "\u001b[90m 4\u001b[39m schp676         1 \u001b[4m2\u001b[24m\u001b[4m0\u001b[24m668 rfp    \n",
      "\u001b[90m 5\u001b[39m schp687         1 \u001b[4m2\u001b[24m\u001b[4m0\u001b[24m995 rfp    \n",
      "\u001b[90m 6\u001b[39m schp688         1 \u001b[4m2\u001b[24m\u001b[4m0\u001b[24m927 rfp    \n",
      "\u001b[90m 7\u001b[39m schp679         1 \u001b[4m2\u001b[24m\u001b[4m0\u001b[24m840 rfp    \n",
      "\u001b[90m 8\u001b[39m schp680         1 \u001b[4m2\u001b[24m\u001b[4m0\u001b[24m902 rfp    \n",
      "\u001b[90m 9\u001b[39m schp681         1 \u001b[4m2\u001b[24m\u001b[4m0\u001b[24m659 rfp    \n",
      "\u001b[90m10\u001b[39m schp683         1 \u001b[4m2\u001b[24m\u001b[4m5\u001b[24m406 rfp    \n",
      "\u001b[90m# … with 138 more rows\u001b[39m\n"
     ]
    }
   ],
   "source": [
    "data <- list.files(\"data/channel_data/\", full.names = T) %>%\n",
    "  enframe(\"number\", \"file\") %>%\n",
    "  mutate(data = map(file, read_tsv)) %>% ##map will take everything in and apply it to other files \n",
    "  unnest(data) %>% ##unnest expands the data out \n",
    "  mutate(channel = str_extract(file, \"[^/]+(?=.tsv)\")) %>% \n",
    "  select(-number, -file) %>%\n",
    "  print()"
   ]
  },
  {
   "cell_type": "markdown",
   "metadata": {},
   "source": [
    "# In-class exercises\n",
    "\n",
    "(20 min)"
   ]
  },
  {
   "cell_type": "markdown",
   "metadata": {},
   "source": [
    "## 1. Re-shape data read above from two separate files to create columns for `yfp` and `rfp`"
   ]
  },
  {
   "cell_type": "code",
   "execution_count": null,
   "metadata": {
    "vscode": {
     "languageId": "r"
    }
   },
   "outputs": [
    {
     "ename": "ERROR",
     "evalue": "Error in nframe(., \"number\", \"file\"): could not find function \"nframe\"\n",
     "output_type": "error",
     "traceback": [
      "Error in nframe(., \"number\", \"file\"): could not find function \"nframe\"\nTraceback:\n",
      "1. data %>% nframe(\"number\", \"file\") %>% mutate(data = map(file, \n .     read_tsv)) %>% unnest(data) %>% mutate(channel = str_extract(file, \n .     \"[^/]+(?=.tsv)\")) %>% select(-number, -file) %>% pivot_longer(c(\"yfp\", \n .     \"rfp\"), names_to = \"channel\", values_to = \"value\")",
      "2. pivot_longer(., c(\"yfp\", \"rfp\"), names_to = \"channel\", values_to = \"value\")",
      "3. select(., -number, -file)",
      "4. mutate(., channel = str_extract(file, \"[^/]+(?=.tsv)\"))",
      "5. unnest(., data)",
      "6. mutate(., data = map(file, read_tsv))"
     ]
    }
   ],
   "source": [
    "data %>% "
   ]
  },
  {
   "cell_type": "markdown",
   "metadata": {},
   "source": [
    "## 2. Calculate ratio of YFP to RFP"
   ]
  },
  {
   "cell_type": "markdown",
   "metadata": {},
   "source": [
    "## 3. Calculate the `mean` and `standard error` of the ratio between replicates"
   ]
  },
  {
   "cell_type": "markdown",
   "metadata": {},
   "source": [
    "## 4. Combine data with annotations"
   ]
  },
  {
   "cell_type": "markdown",
   "metadata": {},
   "source": [
    "## 5. Plot the mean and standard deviation of the YFP-RFP ratio as a function of the Kozak region.\n",
    "\n",
    "Hint: You have to use `geom_errorbar()` in addition to `geom_point()` and `geom_line()`."
   ]
  }
 ],
 "metadata": {
  "kernelspec": {
   "display_name": "R",
   "language": "R",
   "name": "ir"
  },
  "language_info": {
   "codemirror_mode": "r",
   "file_extension": ".r",
   "mimetype": "text/x-r-source",
   "name": "R",
   "pygments_lexer": "r",
   "version": "4.1.3"
  },
  "orig_nbformat": 4
 },
 "nbformat": 4,
 "nbformat_minor": 2
}
