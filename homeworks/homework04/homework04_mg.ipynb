{
 "cells": [
  {
   "attachments": {},
   "cell_type": "markdown",
   "metadata": {},
   "source": [
    "# __Homework 4:__ Practical analysis with BioPython"
   ]
  },
  {
   "attachments": {},
   "cell_type": "markdown",
   "metadata": {},
   "source": [
    "For the homework, you are going to extend the code from the analysis of our FASTQ file in lectures 8 and 9.\n",
    "Recall that the FASTQ file contains reads from a real sequencing run of influenza virus HA and NA genes.\n",
    "\n",
    "---\n",
    "The __actual sequences__ are as follows:\n",
    "\n",
    "    5'-[end of HA]-AGGCGGCCGC-[16 X N barcode]-3'\n",
    "or \n",
    "\n",
    "    5'-[end of NA]-AGGCGGCCGC-[16 X N barcode]-3'\n",
    "---\n",
    "\n",
    "\n",
    "__The end of NA is__ `...CACGATAGATAAATAATAGTGCACCAT`\n",
    "    \n",
    "__The end of HA is__ `...CCGGATTTGCATATAATGATGCACCAT`\n",
    "\n",
    "---    \n",
    "\n",
    "    \n",
    "The __sequencing reads__ from the reverse end of the molecules (in 5'>3' orientation), so the sequencing reads are as follows:\n",
    "\n",
    "    5'-[reverse complement of 16 X N barcode]-GCGGCCGCCT-[reverse complement of the end of HA]-3'\n",
    "or\n",
    "\n",
    "    5'-[reverse complement of 16 X N barcode]-GCGGCCGCCT-[reverse complement of the end of NA]-3'\n",
    "\n",
    "---   \n",
    "    \n",
    "The reads can originate from **either** HA or NA, and that will be distinguished by the most 3' end of the read.\n",
    "But in our example exercise in class, we did not distinguish among reads matching to HA and NA, as we didn't even look far enough into the read to tell the identity.\n",
    "\n",
    "For the homework, your goal is to write code that extends the material from lectures 8 and 9 to also distinguish between HA and NA.\n",
    "This homework can be completed almost entirely by re-using code from lecture 9. You will need to set up your analysis to do the following:\n",
    " 1. Get the reverse complement of each read.\n",
    " 2. Determine if it matches the expected pattern for HA and NA, and if so which one.\n",
    " 3. If it matches, extract the barcode and add it to a dictionary to keep track of counts.\n",
    " 4. Determine the number and distribution of barcodes for HA and NA separately.\n",
    "\n",
    "Please include code to address each of the following questions. Please include code comments to explain what your code is attempting to accomplish. Don't forget to include references to the sources you used to obtain your answer, including your classmates (if you are working in groups).  "
   ]
  },
  {
   "cell_type": "code",
   "execution_count": 43,
   "metadata": {},
   "outputs": [],
   "source": [
    "# import programs \n",
    "import re\n",
    "from Bio.Seq import Seq\n",
    "from Bio import SeqIO\n",
    "\n",
    "#initialize empty directories\n",
    "HA_barcodes = {}\n",
    "NA_barcodes = {}\n",
    "\n",
    "#initialize invalid count for #2\n",
    "invalid_HA_count = 0\n",
    "invalid_NA_count = 0\n",
    "\n",
    "# Define the reverse complement of the HA and NA end sequences and the anchor\n",
    "HA_endseq = \"CCGGATTTGCATATAATGATGCACCAT\" \n",
    "NA_endseq = \"CACGATAGATAAATAATAGTGCACCAT\"\n",
    "anchor = \"GCGGCCGCCT\"\n",
    "\n",
    "# Get reverse complements of HA and NA end sequences to match 3' end\n",
    "HA_reverse_complement = str(Seq(HA_endseq).reverse_complement())\n",
    "NA_reverse_complement = str(Seq(NA_endseq).reverse_complement())\n",
    "\n",
    "#source- Veronica and I worked on the barcode together here because we had discrepancies in our answers- asked Lucas about this too\n",
    "barcode_search_ha = re.compile(r'(?P<barcode>[ATCG]{16})' + anchor + HA_reverse_complement)\n",
    "barcode_search_na = re.compile(r'(?P<barcode>[ATCG]{16})' + anchor + NA_reverse_complement)\n",
    "\n",
    "# Parse the seq file (and create a list of barcodes for each fro #3)\n",
    "for record in SeqIO.parse('/workspaces/tfcb_2024/homeworks/homework04/barcodes_R1.fastq', format='fastq'):  \n",
    "    # Convert Seq object to string\n",
    "    seq = str(record.seq)\n",
    "\n",
    "    # Check for HA match\n",
    "    ha_match = barcode_search_ha.search(seq) #this function searches seq for a barcode that matches HA-end sequence\n",
    "    if ha_match:\n",
    "        # if the seq was fohnd, the barcode is extracted from ha_match and updated in the HA_barcodes directory \n",
    "        barcode = ha_match.group(\"barcode\")\n",
    "        HA_barcodes[barcode] = HA_barcodes.get(barcode, 0) + 1\n",
    "        continue  # Skip to the next read if matched to HA\n",
    "        \n",
    "    # Check for NA match if HA was not matched\n",
    "    na_match = barcode_search_na.search(seq)\n",
    "    if na_match:\n",
    "        # Extract the barcode and update count for NA\n",
    "        barcode = na_match.group(\"barcode\")\n",
    "        NA_barcodes[barcode] = NA_barcodes.get(barcode, 0) + 1\n",
    "        continue  # Skip to the next read if matched to NA\n",
    "\n",
    "    # If neither HA nor NA matched, increment invalid counters for answer to #2\n",
    "    if HA_reverse_complement in seq:\n",
    "        invalid_HA_count += 1\n",
    "    elif NA_reverse_complement in seq:\n",
    "        invalid_NA_count += 1"
   ]
  },
  {
   "cell_type": "markdown",
   "metadata": {},
   "source": [
    "1. How many reads map to HA, and how many reads map to NA?"
   ]
  },
  {
   "cell_type": "code",
   "execution_count": 47,
   "metadata": {},
   "outputs": [
    {
     "name": "stdout",
     "output_type": "stream",
     "text": [
      "Total number of valid HA barcodes: 5249\n",
      "Total number of valid NA barcodes: 3909\n"
     ]
    }
   ],
   "source": [
    "# Calculate the total number of barcodes for HA and NA\n",
    "total_HA_barcodes = sum(HA_barcodes.values())\n",
    "total_NA_barcodes = sum(NA_barcodes.values())\n",
    "\n",
    "# Print the results\n",
    "print(\"Total number of valid HA barcodes:\", total_HA_barcodes)\n",
    "print(\"Total number of valid NA barcodes:\", total_NA_barcodes)"
   ]
  },
  {
   "attachments": {},
   "cell_type": "markdown",
   "metadata": {},
   "source": [
    "2. How many HA sequences did not have a valid barcode? Also anwer the same question for NA."
   ]
  },
  {
   "cell_type": "code",
   "execution_count": 45,
   "metadata": {},
   "outputs": [
    {
     "name": "stdout",
     "output_type": "stream",
     "text": [
      "Total HA sequences with invalid barcode: 160\n",
      "Total NA sequences with invalid barcode: 213\n"
     ]
    }
   ],
   "source": [
    "# print answers, using f strings used this website and chatgpt to learn about it- https://www.geeksforgeeks.org/formatted-string-literals-f-strings-python/\n",
    "print(f\"Total HA sequences with invalid barcode: {invalid_HA_count}\")\n",
    "print(f\"Total NA sequences with invalid barcode: {invalid_NA_count}\")"
   ]
  },
  {
   "cell_type": "markdown",
   "metadata": {},
   "source": []
  },
  {
   "attachments": {},
   "cell_type": "markdown",
   "metadata": {},
   "source": [
    "3. What is the HA barcode with the most counts (and how many counts)? Also answer the same question for NA.\n",
    "\n",
    "    _Hint: you will need to find the key associated with the maximum value in your dictionary. There are many ways to do this._"
   ]
  },
  {
   "cell_type": "code",
   "execution_count": 46,
   "metadata": {},
   "outputs": [
    {
     "name": "stdout",
     "output_type": "stream",
     "text": [
      "The most common HA barcode is TTAATGTCGGGTCGGG, 155 counts\n",
      "The most common NA barcode is CCCGGGGAGAACTGGT, 152 counts\n"
     ]
    }
   ],
   "source": [
    "# define a function that finds the most common barcode\n",
    "# used this website- https://datagy.io/python-get-dictionary-key-with-max-value/\n",
    "def most_common_barcode(barcodes):\n",
    "    #barcode.items converts dictionary into a pair of (barcode, count)\n",
    "    #max finds the pair with the highest count\n",
    "    #key=lamba item: item[1] sets the comparison key to be the count\n",
    "    #learned about lambda here- https://www.w3schools.com/python/python_lambda.asp\n",
    "   return max(barcodes.items(), key=lambda item: item[1]) \n",
    "\n",
    "# run the function on both the NA and HA sets of barcdodes \n",
    "most_common_ha = most_common_barcode(HA_barcodes)\n",
    "most_common_na = most_common_barcode(NA_barcodes)\n",
    "\n",
    "# print answers, using f strings used this website and chatgpt to learn about it- https://www.geeksforgeeks.org/formatted-string-literals-f-strings-python/\n",
    "print(f\"The most common HA barcode is {most_common_ha[0]}, {most_common_ha[1]} counts\")\n",
    "print(f\"The most common NA barcode is {most_common_na[0]}, {most_common_na[1]} counts\")"
   ]
  }
 ],
 "metadata": {
  "kernelspec": {
   "display_name": "base",
   "language": "python",
   "name": "python3"
  },
  "language_info": {
   "codemirror_mode": {
    "name": "ipython",
    "version": 3
   },
   "file_extension": ".py",
   "mimetype": "text/x-python",
   "name": "python",
   "nbconvert_exporter": "python",
   "pygments_lexer": "ipython3",
   "version": "3.9.12"
  },
  "toc": {
   "nav_menu": {},
   "number_sections": false,
   "sideBar": true,
   "skip_h1_title": false,
   "toc_cell": false,
   "toc_position": {
    "height": "623.8px",
    "left": "0px",
    "right": "829.6px",
    "top": "33.2px",
    "width": "322.4px"
   },
   "toc_section_display": "block",
   "toc_window_display": true
  }
 },
 "nbformat": 4,
 "nbformat_minor": 2
}
