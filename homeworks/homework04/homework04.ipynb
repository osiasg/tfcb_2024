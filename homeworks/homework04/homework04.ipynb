{
 "cells": [
  {
   "attachments": {},
   "cell_type": "markdown",
   "metadata": {},
   "source": [
    "# __Homework 4:__ Practical analysis with BioPython"
   ]
  },
  {
   "attachments": {},
   "cell_type": "markdown",
   "metadata": {},
   "source": [
    "For the homework, you are going to extend the code from the analysis of our FASTQ file in lectures 8 and 9.\n",
    "Recall that the FASTQ file contains reads from a real sequencing run of influenza virus HA and NA genes.\n",
    "\n",
    "---\n",
    "The __actual sequences__ are as follows:\n",
    "\n",
    "    5'-[end of HA]-AGGCGGCCGC-[16 X N barcode]-3'\n",
    "or \n",
    "\n",
    "    5'-[end of NA]-AGGCGGCCGC-[16 X N barcode]-3'\n",
    "---\n",
    "\n",
    "\n",
    "__The end of NA is__ `...CACGATAGATAAATAATAGTGCACCAT`\n",
    "    \n",
    "__The end of HA is__ `...CCGGATTTGCATATAATGATGCACCAT`\n",
    "\n",
    "---    \n",
    "\n",
    "    \n",
    "The __sequencing reads__ from the reverse end of the molecules (in 5'>3' orientation), so the sequencing reads are as follows:\n",
    "\n",
    "    5'-[reverse complement of 16 X N barcode]-GCGGCCGCCT-[reverse complement of the end of HA]-3'\n",
    "or\n",
    "\n",
    "    5'-[reverse complement of 16 X N barcode]-GCGGCCGCCT-[reverse complement of the end of NA]-3'\n",
    "\n",
    "---   \n",
    "    \n",
    "The reads can originate from **either** HA or NA, and that will be distinguished by the most 3' end of the read.\n",
    "But in our example exercise in class, we did not distinguish among reads matching to HA and NA, as we didn't even look far enough into the read to tell the identity.\n",
    "\n",
    "For the homework, your goal is to write code that extends the material from lectures 8 and 9 to also distinguish between HA and NA.\n",
    "This homework can be completed almost entirely by re-using code from lecture 9. You will need to set up your analysis to do the following:\n",
    " 1. Get the reverse complement of each read.\n",
    " 2. Determine if it matches the expected pattern for HA and NA, and if so which one.\n",
    " 3. If it matches, extract the barcode and add it to a dictionary to keep track of counts.\n",
    " 4. Determine the number and distribution of barcodes for HA and NA separately.\n",
    "\n",
    "Please include code to address each of the following questions. Please include code comments to explain what your code is attempting to accomplish. Don't forget to include references to the sources you used to obtain your answer, including your classmates (if you are working in groups).  "
   ]
  },
  {
   "cell_type": "code",
   "execution_count": 179,
   "metadata": {},
   "outputs": [],
   "source": [
    "# import regular expressions module\n",
    "import re"
   ]
  },
  {
   "cell_type": "markdown",
   "metadata": {},
   "source": [
    "1. How many reads map to HA, and how many reads map to NA?"
   ]
  },
  {
   "cell_type": "code",
   "execution_count": 180,
   "metadata": {},
   "outputs": [],
   "source": [
    "#Import Bio.Seq package \n",
    "import Bio.SeqIO\n",
    "import Bio.Seq "
   ]
  },
  {
   "cell_type": "code",
   "execution_count": 181,
   "metadata": {},
   "outputs": [],
   "source": [
    "# Open R1.fastq file \n",
    "reads = Bio.SeqIO.parse('barcodes_R1.fastq', format='fastq')\n",
    "# make list of seq reads\n",
    "seqreads = list(reads)"
   ]
  },
  {
   "cell_type": "code",
   "execution_count": 182,
   "metadata": {},
   "outputs": [
    {
     "name": "stdout",
     "output_type": "stream",
     "text": [
      "CGTAGGATTGAATTAGGCGGCCGCCTATGGTGCACTATTATTTATCTATCGTGAAAGGGAGTTCTGCTCCATCAGGCCAAGATCGGAAGAGCACACGTCTGAACTCCAGTCACATGTCAGAATCTCGTATGCCGTCTTCTGCTTGAAAAAAAAAAAAAACACAAAAAACATAATTCTGCCACATGTAGATGCATGGCAAAGATCAATACTATGCAAAATTTACACATATATCTGCAGACAAATAATATAA\n"
     ]
    }
   ],
   "source": [
    "# make a list of just the sequences\n",
    "seqreads_Seq = []\n",
    "for seqrecord in seqreads:\n",
    "    sequence = seqrecord.seq # isolate the sequence from the seqrecord\n",
    "    seqreads_Seq.append(sequence) # add string sequence to list\n",
    "    \n",
    "#Reverse Complement\n",
    "seqreads_Seq_rev = sequence\n",
    "seqreads_Seq_rev.reverse_complement()\n",
    "print(seqreads_Seq_rev)"
   ]
  },
  {
   "cell_type": "code",
   "execution_count": 183,
   "metadata": {},
   "outputs": [],
   "source": [
    "def reverse_complement(seq, unk_partner='N'):\n",
    "    \"\"\"Returns the reverse complement of a nucleic acid sequence\n",
    "    \n",
    "    Uses unk_partner as the partner of unrecognized letters\n",
    "    \"\"\"\n",
    "    base_partner = {'A':'T', 'T':'A', 'C':'G', 'G':'C'}\n",
    "    rseq = ''\n",
    "    # iterate through all bases in the sequence\n",
    "    for a in seq:\n",
    "        # check if the base is in the dictionary\n",
    "        if a in base_partner:\n",
    "            # look up the complementary base in the dictionary\n",
    "            pair = base_partner[a]\n",
    "            # add the complentary base to the beginning of the string (reverse comp)\n",
    "            rseq = pair + rseq\n",
    "        else:\n",
    "            rseq = unk_partner + rseq\n",
    "    return rseq\n"
   ]
  },
  {
   "cell_type": "code",
   "execution_count": 184,
   "metadata": {},
   "outputs": [
    {
     "data": {
      "text/plain": [
       "'ATGGTGCATCATTATATGCAAATCCGG'"
      ]
     },
     "execution_count": 184,
     "metadata": {},
     "output_type": "execute_result"
    }
   ],
   "source": [
    "#Define known sequences \n",
    "HA_END = \"CCGGATTTGCATATAATGATGCACCAT\".upper()\n",
    "NA_END = \"CACGATAGATAAATAATAGTGCACCAT\".upper()\n",
    "\n",
    "reverse_complement(HA_END)"
   ]
  },
  {
   "cell_type": "code",
   "execution_count": 185,
   "metadata": {},
   "outputs": [
    {
     "name": "stdout",
     "output_type": "stream",
     "text": [
      "27\n"
     ]
    }
   ],
   "source": [
    "#Define known sequences \n",
    "HA_END = \"CCGGATTTGCATATAATGATGCACCAT\".upper()\n",
    "NA_END = \"CACGATAGATAAATAATAGTGCACCAT\".upper()\n",
    "len(HA_END)\n",
    "print(len(HA_END))\n",
    "\n",
    "#Constant sequence \n",
    "constant_region = \"AGGCGGCCGC\"\n",
    "\n",
    "#Lists \n",
    "seqs = ['CTAGCatcgatGATCA',  # has barcode ATCGAT\n",
    "        'CCAGCatagcaGATCA',  # does not have expected 5' sequence\n",
    "        'CTAGCtacagGATCA',   # barcode too short\n",
    "        'CTAGCgaccatGATCA',  # has barcode GACCAT\n",
    "        'CTAGCatcgatGATCA',  # has barcode ATCGAT\n",
    "        'CTAGCatcgatGGTCA',  # does not have expected 3' sequence\n",
    "        ]"
   ]
  },
  {
   "cell_type": "code",
   "execution_count": 186,
   "metadata": {},
   "outputs": [],
   "source": [
    "# Number of reads that map to HA & NA\n",
    "HA_COUNT = 0\n",
    "NA_COUNT = 0"
   ]
  },
  {
   "cell_type": "code",
   "execution_count": 187,
   "metadata": {},
   "outputs": [
    {
     "name": "stdout",
     "output_type": "stream",
     "text": [
      "constant region\n",
      "CCGGATTTGCATATAATGATGCACCATAGGCGGCCGC\n",
      "CACGATAGATAAATAATAGTGCACCATAGGCGGCCGC\n",
      "Maps to NA\n",
      "1\n"
     ]
    }
   ],
   "source": [
    "# isolate just the first sequence for learning purposes\n",
    "seq = seqreads_Seq[0]\n",
    "\n",
    "# get reverse complement of read\n",
    "rev_comp = seq.reverse_complement()\n",
    "\n",
    "# define constant sequence\n",
    "constant_region = \"AGGCGGCCGC\"\n",
    "# define constant sequence in reverse direction\n",
    "constant_region_reverse = \"GCGGCCGCCT\"\n",
    "\n",
    "if (constant_region in rev_comp): \n",
    "    print(\"constant region\")\n",
    "\n",
    "# define the sequence order to search for\n",
    "HA_pattern = HA_END + constant_region\n",
    "print(HA_pattern)\n",
    "NA_pattern = NA_END + constant_region\n",
    "print(NA_pattern)\n",
    "\n",
    "# define correct read length (barcode length + constant length + HA/NA end)\n",
    "read_length = 16 + len(constant_region) + len(HA_END)\n",
    "\n",
    "# Number of reads that map to HA & NA\n",
    "HA_COUNT = 0\n",
    "NA_COUNT = 0\n",
    "\n",
    "# check if pattern is in read\n",
    "if (HA_pattern in rev_comp):\n",
    "    print(\"Maps to HA\")\n",
    "    HA_COUNT += 1\n",
    "    print(HA_COUNT)\n",
    "    \n",
    "if (NA_pattern in rev_comp):\n",
    "    print(\"Maps to NA\")\n",
    "    NA_COUNT += 1\n",
    "    print(NA_COUNT)\n",
    "    \n",
    "\n",
    "# if one of the NA or HA + constant sequence is in the read, the read maps to that gene\n",
    "# get barcode:\n",
    "# find the position the HA_pattern is at\n",
    "# get the 16 bases after the pattern\n",
    "# use the position of the HA_pattern to know where to get the 16 from\n",
    "# that's the barcode"
   ]
  },
  {
   "cell_type": "code",
   "execution_count": 188,
   "metadata": {},
   "outputs": [],
   "source": [
    "## NA sequences that map to fastq\n",
    "#122\n",
    "\n",
    "##HA sequence that map to fastq\n",
    "#5,409"
   ]
  },
  {
   "cell_type": "code",
   "execution_count": 198,
   "metadata": {},
   "outputs": [
    {
     "name": "stdout",
     "output_type": "stream",
     "text": [
      "CGTAGGATTGAATTAGGCGGCCGCCTATGGTGCACTATTATTTATCTATCGTGAAAGGGAGTTCTGCTCCATCAGGCCAAGATCGGAAGAGCACACGTCTGAACTCCAGTCACATGTCAGAATCTCGTATGCCGTCTTCTGCTTGAAAAAAAAAAAAAACACAAAAAACATAATTCTGCCACATGTAGATGCATGGCAAAGATCAATACTATGCAAAATTTACACATATATCTGCAGACAAATAATATAA\n",
      "constant region\n",
      "Total HA reads: 1\n",
      "Total NA reads: 1\n"
     ]
    }
   ],
   "source": [
    "##applying to the whole fastq file\n",
    "# Define known sequences\n",
    "HA_END = \"CCGGATTTGCATATAATGATGCACCAT\".upper()\n",
    "NA_END = \"CACGATAGATAAATAATAGTGCACCAT\".upper()\n",
    "constant_region = \"AGGCGGCCGC\"\n",
    "constant_region_reverse = \"GCGGCCGCCT\"  # constant region in reverse complement form\n",
    "\n",
    "# Initialize counters and barcode dictionaries first find HA and NA counts\n",
    "HA_COUNT = 0\n",
    "NA_COUNT = 0\n",
    "##HA_invalid_count = 0\n",
    "##NA_invalid_count = 0\n",
    "##HA_barcodes = {}\n",
    "##NA_barcodes = {}\n",
    "\n",
    "\n",
    "# get reverse complement of read\n",
    "#Reverse Complement\n",
    "seqreads_Seq_rev = sequence\n",
    "seqreads_Seq_rev.reverse_complement()\n",
    "print(seqreads_Seq_rev)\n",
    "\n",
    "# define constant sequence\n",
    "constant_region = \"AGGCGGCCGC\"\n",
    "# define constant sequence in reverse direction\n",
    "constant_region_reverse = \"GCGGCCGCCT\"\n",
    "\n",
    "if (constant_region in seqreads_Seq_rev): \n",
    "    print(\"constant region\")\n",
    "\n",
    "##def identify_barcode(seqreads_Seq_rev, upstream_sequence, barcode_length=16): I can't get this to work \n",
    "    \"\"\"\n",
    "    Identifies a barcode of specified length directly upstream of a known sequence.\n",
    "    Args:\n",
    "        sequence (str): The sequence in which to search.\n",
    "        upstream_sequence (str): The known upstream sequence to identify the barcode.\n",
    "        barcode_length (int): The length of the barcode to identify.\n",
    "    Returns:\n",
    "        str or None: Returns the barcode if found, otherwise None.\n",
    "    \"\"\"\n",
    "    ##sequence_seq = str(seqreads_Seq_rev)\n",
    "    ##pattern = rf\"([ACGT]{{{barcode_length}}})\" + upstream_sequence\n",
    "    ##match = re.search(pattern, sequence_seq)\n",
    "    ##return match.group(1) if match else None\n",
    "\n",
    "# Check for HA or NA in the reverse complement\n",
    "if HA_END and constant_region in str(seqreads_Seq_rev):\n",
    "    HA_COUNT += 1\n",
    "    barcode = identify_barcode(seqreads_Seq_rev, constant_region)\n",
    "    if barcode:\n",
    "        HA_barcodes[barcode] = HA_barcodes.get(barcode, 0) + 1\n",
    "    else:\n",
    "        HA_invalid_count += 1  # Increment invalid count if no barcode\n",
    "\n",
    "if NA_END and constant_region in str(sequence):\n",
    "    NA_COUNT += 1\n",
    "    barcode = identify_barcode(sequence, constant_region)\n",
    "    if barcode:\n",
    "        NA_barcodes[barcode] = NA_barcodes.get(barcode, 0) + 1\n",
    "    else:\n",
    "        NA_invalid_count += 1  # Increment invalid count if no barcode\n",
    "\n",
    "# Print final results\n",
    "print(f\"Total HA reads: {HA_COUNT}\")\n",
    "print(f\"Total NA reads: {NA_COUNT}\")"
   ]
  },
  {
   "attachments": {},
   "cell_type": "markdown",
   "metadata": {},
   "source": [
    "2. How many HA sequences did not have a valid barcode? Also answer the same question for NA."
   ]
  },
  {
   "cell_type": "code",
   "execution_count": 190,
   "metadata": {},
   "outputs": [],
   "source": [
    "# your code here..."
   ]
  },
  {
   "attachments": {},
   "cell_type": "markdown",
   "metadata": {},
   "source": [
    "3. What is the HA barcode with the most counts (and how many counts)? Also answer the same question for NA.\n",
    "\n",
    "    _Hint: you will need to find the key associated with the maximum value in your dictionary. There are many ways to do this._"
   ]
  },
  {
   "cell_type": "code",
   "execution_count": 191,
   "metadata": {},
   "outputs": [],
   "source": [
    "# your code here..."
   ]
  }
 ],
 "metadata": {
  "kernelspec": {
   "display_name": "base",
   "language": "python",
   "name": "python3"
  },
  "language_info": {
   "codemirror_mode": {
    "name": "ipython",
    "version": 3
   },
   "file_extension": ".py",
   "mimetype": "text/x-python",
   "name": "python",
   "nbconvert_exporter": "python",
   "pygments_lexer": "ipython3",
   "version": "3.9.12"
  },
  "toc": {
   "nav_menu": {},
   "number_sections": false,
   "sideBar": true,
   "skip_h1_title": false,
   "toc_cell": false,
   "toc_position": {
    "height": "623.8px",
    "left": "0px",
    "right": "829.6px",
    "top": "33.2px",
    "width": "322.4px"
   },
   "toc_section_display": "block",
   "toc_window_display": true
  }
 },
 "nbformat": 4,
 "nbformat_minor": 2
}
